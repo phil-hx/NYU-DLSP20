{
 "cells": [
  {
   "cell_type": "markdown",
   "metadata": {},
   "source": [
    "\n",
    "# What is PyTorch?\n",
    "\n",
    "It’s a Python based scientific computing package targeted at two sets of audiences:\n",
    "\n",
    "-  Tensorial library that uses the power of GPUs\n",
    "-  A deep learning research platform that provides maximum flexibility and speed\n",
    "\n",
    "## Import the library"
   ]
  },
  {
   "cell_type": "code",
   "execution_count": 3,
   "metadata": {},
   "outputs": [],
   "source": [
    "import torch# <Ctrl> / <Shift> + <Return>"
   ]
  },
  {
   "cell_type": "markdown",
   "metadata": {},
   "source": [
    "## Getting help in Jupyter"
   ]
  },
  {
   "cell_type": "code",
   "execution_count": 4,
   "metadata": {},
   "outputs": [
    {
     "ename": "AttributeError",
     "evalue": "module 'torch' has no attribute 'sq'",
     "output_type": "error",
     "traceback": [
      "\u001b[31m---------------------------------------------------------------------------\u001b[39m",
      "\u001b[31mAttributeError\u001b[39m                            Traceback (most recent call last)",
      "\u001b[36mCell\u001b[39m\u001b[36m \u001b[39m\u001b[32mIn[4]\u001b[39m\u001b[32m, line 1\u001b[39m\n\u001b[32m----> \u001b[39m\u001b[32m1\u001b[39m \u001b[43mtorch\u001b[49m\u001b[43m.\u001b[49m\u001b[43msq\u001b[49m  \u001b[38;5;66;03m# <-- Press <Tab> to autocomplete\u001b[39;00m\n",
      "\u001b[36mFile \u001b[39m\u001b[32m~\\.conda\\envs\\NYU-DL\\Lib\\site-packages\\torch\\__init__.py:2688\u001b[39m, in \u001b[36m__getattr__\u001b[39m\u001b[34m(name)\u001b[39m\n\u001b[32m   2685\u001b[39m \u001b[38;5;28;01mif\u001b[39;00m name \u001b[38;5;129;01min\u001b[39;00m _lazy_modules:\n\u001b[32m   2686\u001b[39m     \u001b[38;5;28;01mreturn\u001b[39;00m importlib.import_module(\u001b[33mf\u001b[39m\u001b[33m\"\u001b[39m\u001b[33m.\u001b[39m\u001b[38;5;132;01m{\u001b[39;00mname\u001b[38;5;132;01m}\u001b[39;00m\u001b[33m\"\u001b[39m, \u001b[34m__name__\u001b[39m)\n\u001b[32m-> \u001b[39m\u001b[32m2688\u001b[39m \u001b[38;5;28;01mraise\u001b[39;00m \u001b[38;5;167;01mAttributeError\u001b[39;00m(\u001b[33mf\u001b[39m\u001b[33m\"\u001b[39m\u001b[33mmodule \u001b[39m\u001b[33m'\u001b[39m\u001b[38;5;132;01m{\u001b[39;00m\u001b[34m__name__\u001b[39m\u001b[38;5;132;01m}\u001b[39;00m\u001b[33m'\u001b[39m\u001b[33m has no attribute \u001b[39m\u001b[33m'\u001b[39m\u001b[38;5;132;01m{\u001b[39;00mname\u001b[38;5;132;01m}\u001b[39;00m\u001b[33m'\u001b[39m\u001b[33m\"\u001b[39m)\n",
      "\u001b[31mAttributeError\u001b[39m: module 'torch' has no attribute 'sq'"
     ]
    }
   ],
   "source": [
    "torch.sq  # <-- Press <Tab> to autocomplete"
   ]
  },
  {
   "cell_type": "code",
   "execution_count": 5,
   "metadata": {},
   "outputs": [
    {
     "data": {
      "text/plain": [
       "torch.BFloat16Tensor\n",
       "torch.BoolTensor\n",
       "torch.ByteTensor\n",
       "torch.CharTensor\n",
       "torch.DoubleTensor\n",
       "torch.FloatTensor\n",
       "torch.HalfTensor\n",
       "torch.IntTensor\n",
       "torch.LongTensor\n",
       "torch.ShortTensor\n",
       "torch.Tensor"
      ]
     },
     "metadata": {},
     "output_type": "display_data"
    }
   ],
   "source": [
    "# What about all `*Tensor`s?\n",
    "# Press <esc> to get out of help\n",
    "torch.*Tensor?"
   ]
  },
  {
   "cell_type": "code",
   "execution_count": 6,
   "metadata": {},
   "outputs": [
    {
     "data": {
      "text/plain": [
       "Module()"
      ]
     },
     "execution_count": 6,
     "metadata": {},
     "output_type": "execute_result"
    }
   ],
   "source": [
    "torch.nn.Module()  # <Shift>+<Tab>"
   ]
  },
  {
   "cell_type": "code",
   "execution_count": 7,
   "metadata": {},
   "outputs": [
    {
     "data": {
      "text/plain": [
       "\u001b[31mInit signature:\u001b[39m torch.nn.Module(*args, **kwargs) -> \u001b[38;5;28;01mNone\u001b[39;00m\n",
       "\u001b[31mDocstring:\u001b[39m     \n",
       "Base class for all neural network modules.\n",
       "\n",
       "Your models should also subclass this class.\n",
       "\n",
       "Modules can also contain other Modules, allowing them to be nested in\n",
       "a tree structure. You can assign the submodules as regular attributes::\n",
       "\n",
       "    import torch.nn as nn\n",
       "    import torch.nn.functional as F\n",
       "\n",
       "    class Model(nn.Module):\n",
       "        def __init__(self) -> None:\n",
       "            super().__init__()\n",
       "            self.conv1 = nn.Conv2d(1, 20, 5)\n",
       "            self.conv2 = nn.Conv2d(20, 20, 5)\n",
       "\n",
       "        def forward(self, x):\n",
       "            x = F.relu(self.conv1(x))\n",
       "            return F.relu(self.conv2(x))\n",
       "\n",
       "Submodules assigned in this way will be registered, and will also have their\n",
       "parameters converted when you call :meth:`to`, etc.\n",
       "\n",
       ".. note::\n",
       "    As per the example above, an ``__init__()`` call to the parent class\n",
       "    must be made before assignment on the child.\n",
       "\n",
       ":ivar training: Boolean represents whether this module is in training or\n",
       "                evaluation mode.\n",
       ":vartype training: bool\n",
       "\u001b[31mInit docstring:\u001b[39m Initialize internal Module state, shared by both nn.Module and ScriptModule.\n",
       "\u001b[31mFile:\u001b[39m           c:\\users\\philippe\\.conda\\envs\\nyu-dl\\lib\\site-packages\\torch\\nn\\modules\\module.py\n",
       "\u001b[31mType:\u001b[39m           type\n",
       "\u001b[31mSubclasses:\u001b[39m     Identity, Linear, Bilinear, Threshold, ReLU, RReLU, Hardtanh, Sigmoid, Hardsigmoid, Tanh, ..."
      ]
     },
     "metadata": {},
     "output_type": "display_data"
    }
   ],
   "source": [
    "# Annotate your functions / classes!\n",
    "torch.nn.Module?"
   ]
  },
  {
   "cell_type": "code",
   "execution_count": 8,
   "metadata": {},
   "outputs": [
    {
     "data": {
      "text/plain": [
       "\u001b[31mInit signature:\u001b[39m torch.nn.Module(*args, **kwargs) -> \u001b[38;5;28;01mNone\u001b[39;00m\n",
       "\u001b[31mSource:\u001b[39m        \n",
       "\u001b[38;5;28;01mclass\u001b[39;00m Module:\n",
       "    \u001b[33mr\"\"\"Base class for all neural network modules.\u001b[39m\n",
       "\n",
       "\u001b[33m    Your models should also subclass this class.\u001b[39m\n",
       "\n",
       "\u001b[33m    Modules can also contain other Modules, allowing them to be nested in\u001b[39m\n",
       "\u001b[33m    a tree structure. You can assign the submodules as regular attributes::\u001b[39m\n",
       "\n",
       "\u001b[33m        import torch.nn as nn\u001b[39m\n",
       "\u001b[33m        import torch.nn.functional as F\u001b[39m\n",
       "\n",
       "\u001b[33m        class Model(nn.Module):\u001b[39m\n",
       "\u001b[33m            def __init__(self) -> None:\u001b[39m\n",
       "\u001b[33m                super().__init__()\u001b[39m\n",
       "\u001b[33m                self.conv1 = nn.Conv2d(1, 20, 5)\u001b[39m\n",
       "\u001b[33m                self.conv2 = nn.Conv2d(20, 20, 5)\u001b[39m\n",
       "\n",
       "\u001b[33m            def forward(self, x):\u001b[39m\n",
       "\u001b[33m                x = F.relu(self.conv1(x))\u001b[39m\n",
       "\u001b[33m                return F.relu(self.conv2(x))\u001b[39m\n",
       "\n",
       "\u001b[33m    Submodules assigned in this way will be registered, and will also have their\u001b[39m\n",
       "\u001b[33m    parameters converted when you call :meth:`to`, etc.\u001b[39m\n",
       "\n",
       "\u001b[33m    .. note::\u001b[39m\n",
       "\u001b[33m        As per the example above, an ``__init__()`` call to the parent class\u001b[39m\n",
       "\u001b[33m        must be made before assignment on the child.\u001b[39m\n",
       "\n",
       "\u001b[33m    :ivar training: Boolean represents whether this module is in training or\u001b[39m\n",
       "\u001b[33m                    evaluation mode.\u001b[39m\n",
       "\u001b[33m    :vartype training: bool\u001b[39m\n",
       "\u001b[33m    \"\"\"\u001b[39m\n",
       "\n",
       "    dump_patches: bool = \u001b[38;5;28;01mFalse\u001b[39;00m\n",
       "\n",
       "    _version: int = \u001b[32m1\u001b[39m\n",
       "    \u001b[33mr\"\"\"This allows better BC support for :meth:`load_state_dict`. In\u001b[39m\n",
       "\u001b[33m    :meth:`state_dict`, the version number will be saved as in the attribute\u001b[39m\n",
       "\u001b[33m    `_metadata` of the returned state dict, and thus pickled. `_metadata` is a\u001b[39m\n",
       "\u001b[33m    dictionary with keys that follow the naming convention of state dict. See\u001b[39m\n",
       "\u001b[33m    ``_load_from_state_dict`` on how to use this information in loading.\u001b[39m\n",
       "\n",
       "\u001b[33m    If new parameters/buffers are added/removed from a module, this number shall\u001b[39m\n",
       "\u001b[33m    be bumped, and the module's `_load_from_state_dict` method can compare the\u001b[39m\n",
       "\u001b[33m    version number and do appropriate changes if the state dict is from before\u001b[39m\n",
       "\u001b[33m    the change.\"\"\"\u001b[39m\n",
       "\n",
       "    training: bool\n",
       "    _parameters: dict[str, Optional[Parameter]]\n",
       "    _buffers: dict[str, Optional[Tensor]]\n",
       "    _non_persistent_buffers_set: set[str]\n",
       "    _backward_pre_hooks: dict[int, Callable]\n",
       "    _backward_hooks: dict[int, Callable]\n",
       "    _is_full_backward_hook: Optional[bool]\n",
       "    _forward_hooks: dict[int, Callable]\n",
       "    \u001b[38;5;66;03m# Marks whether the corresponding _forward_hooks accept kwargs or not.\u001b[39;00m\n",
       "    \u001b[38;5;66;03m# As JIT does not support set[int], this dict is used as a set, where all\u001b[39;00m\n",
       "    \u001b[38;5;66;03m# hooks represented in this dict accept kwargs.\u001b[39;00m\n",
       "    _forward_hooks_with_kwargs: dict[int, bool]\n",
       "    \u001b[38;5;66;03m# forward hooks that should always be called even if an exception is raised\u001b[39;00m\n",
       "    _forward_hooks_always_called: dict[int, bool]\n",
       "    _forward_pre_hooks: dict[int, Callable]\n",
       "    \u001b[38;5;66;03m# Marks whether the corresponding _forward_hooks accept kwargs or not.\u001b[39;00m\n",
       "    \u001b[38;5;66;03m# As JIT does not support set[int], this dict is used as a set, where all\u001b[39;00m\n",
       "    \u001b[38;5;66;03m# hooks represented in this dict accept kwargs.\u001b[39;00m\n",
       "    _forward_pre_hooks_with_kwargs: dict[int, bool]\n",
       "    _state_dict_hooks: dict[int, Callable]\n",
       "    _load_state_dict_pre_hooks: dict[int, Callable]\n",
       "    _state_dict_pre_hooks: dict[int, Callable]\n",
       "    _load_state_dict_post_hooks: dict[int, Callable]\n",
       "    _modules: dict[str, Optional[\u001b[33m\"Module\"\u001b[39m]]\n",
       "    call_super_init: bool = \u001b[38;5;28;01mFalse\u001b[39;00m\n",
       "    _compiled_call_impl: Optional[Callable] = \u001b[38;5;28;01mNone\u001b[39;00m\n",
       "\n",
       "    \u001b[38;5;28;01mdef\u001b[39;00m __init__(self, *args, **kwargs) -> \u001b[38;5;28;01mNone\u001b[39;00m:\n",
       "        \u001b[33m\"\"\"Initialize internal Module state, shared by both nn.Module and ScriptModule.\"\"\"\u001b[39m\n",
       "        torch._C._log_api_usage_once(\u001b[33m\"python.nn_module\"\u001b[39m)\n",
       "\n",
       "        \u001b[38;5;66;03m# Backward compatibility: no args used to be allowed when call_super_init=False\u001b[39;00m\n",
       "        \u001b[38;5;28;01mif\u001b[39;00m self.call_super_init \u001b[38;5;28;01mis\u001b[39;00m \u001b[38;5;28;01mFalse\u001b[39;00m \u001b[38;5;28;01mand\u001b[39;00m bool(kwargs):\n",
       "            \u001b[38;5;28;01mraise\u001b[39;00m TypeError(\n",
       "                f\"{type(self).__name__}.__init__() got an unexpected keyword argument '{next(iter(kwargs))}'\"\n",
       "                \u001b[33m\"\"\u001b[39m\n",
       "            )\n",
       "\n",
       "        \u001b[38;5;28;01mif\u001b[39;00m self.call_super_init \u001b[38;5;28;01mis\u001b[39;00m \u001b[38;5;28;01mFalse\u001b[39;00m \u001b[38;5;28;01mand\u001b[39;00m bool(args):\n",
       "            \u001b[38;5;28;01mraise\u001b[39;00m TypeError(\n",
       "                f\"{type(self).__name__}.__init__() takes 1 positional argument but {len(args) + \u001b[32m1\u001b[39m} were\"\n",
       "                \u001b[33m\" given\"\u001b[39m\n",
       "            )\n",
       "\n",
       "        \u001b[33m\"\"\"\u001b[39m\n",
       "\u001b[33m        Calls super().__setattr__('a', a) instead of the typical self.a = a\u001b[39m\n",
       "\u001b[33m        to avoid Module.__setattr__ overhead. Module's __setattr__ has special\u001b[39m\n",
       "\u001b[33m        handling for parameters, submodules, and buffers but simply calls into\u001b[39m\n",
       "\u001b[33m        super().__setattr__ for all other attributes.\u001b[39m\n",
       "\u001b[33m        \"\"\"\u001b[39m\n",
       "        super().__setattr__(\u001b[33m\"training\"\u001b[39m, \u001b[38;5;28;01mTrue\u001b[39;00m)\n",
       "        super().__setattr__(\u001b[33m\"_parameters\"\u001b[39m, {})\n",
       "        super().__setattr__(\u001b[33m\"_buffers\"\u001b[39m, {})\n",
       "        super().__setattr__(\u001b[33m\"_non_persistent_buffers_set\"\u001b[39m, set())\n",
       "        super().__setattr__(\u001b[33m\"_backward_pre_hooks\"\u001b[39m, OrderedDict())\n",
       "        super().__setattr__(\u001b[33m\"_backward_hooks\"\u001b[39m, OrderedDict())\n",
       "        super().__setattr__(\u001b[33m\"_is_full_backward_hook\"\u001b[39m, \u001b[38;5;28;01mNone\u001b[39;00m)\n",
       "        super().__setattr__(\u001b[33m\"_forward_hooks\"\u001b[39m, OrderedDict())\n",
       "        super().__setattr__(\u001b[33m\"_forward_hooks_with_kwargs\"\u001b[39m, OrderedDict())\n",
       "        super().__setattr__(\u001b[33m\"_forward_hooks_always_called\"\u001b[39m, OrderedDict())\n",
       "        super().__setattr__(\u001b[33m\"_forward_pre_hooks\"\u001b[39m, OrderedDict())\n",
       "        super().__setattr__(\u001b[33m\"_forward_pre_hooks_with_kwargs\"\u001b[39m, OrderedDict())\n",
       "        super().__setattr__(\u001b[33m\"_state_dict_hooks\"\u001b[39m, OrderedDict())\n",
       "        super().__setattr__(\u001b[33m\"_state_dict_pre_hooks\"\u001b[39m, OrderedDict())\n",
       "        super().__setattr__(\u001b[33m\"_load_state_dict_pre_hooks\"\u001b[39m, OrderedDict())\n",
       "        super().__setattr__(\u001b[33m\"_load_state_dict_post_hooks\"\u001b[39m, OrderedDict())\n",
       "        super().__setattr__(\u001b[33m\"_modules\"\u001b[39m, {})\n",
       "\n",
       "        \u001b[38;5;28;01mif\u001b[39;00m self.call_super_init:\n",
       "            super().__init__(*args, **kwargs)\n",
       "\n",
       "    forward: Callable[..., Any] = _forward_unimplemented\n",
       "\n",
       "    \u001b[38;5;28;01mdef\u001b[39;00m register_buffer(\n",
       "        self, name: str, tensor: Optional[Tensor], persistent: bool = \u001b[38;5;28;01mTrue\u001b[39;00m\n",
       "    ) -> \u001b[38;5;28;01mNone\u001b[39;00m:\n",
       "        \u001b[33mr\"\"\"Add a buffer to the module.\u001b[39m\n",
       "\n",
       "\u001b[33m        This is typically used to register a buffer that should not to be\u001b[39m\n",
       "\u001b[33m        considered a model parameter. For example, BatchNorm's ``running_mean``\u001b[39m\n",
       "\u001b[33m        is not a parameter, but is part of the module's state. Buffers, by\u001b[39m\n",
       "\u001b[33m        default, are persistent and will be saved alongside parameters. This\u001b[39m\n",
       "\u001b[33m        behavior can be changed by setting :attr:`persistent` to ``False``. The\u001b[39m\n",
       "\u001b[33m        only difference between a persistent buffer and a non-persistent buffer\u001b[39m\n",
       "\u001b[33m        is that the latter will not be a part of this module's\u001b[39m\n",
       "\u001b[33m        :attr:`state_dict`.\u001b[39m\n",
       "\n",
       "\u001b[33m        Buffers can be accessed as attributes using given names.\u001b[39m\n",
       "\n",
       "\u001b[33m        Args:\u001b[39m\n",
       "\u001b[33m            name (str): name of the buffer. The buffer can be accessed\u001b[39m\n",
       "\u001b[33m                from this module using the given name\u001b[39m\n",
       "\u001b[33m            tensor (Tensor or None): buffer to be registered. If ``None``, then operations\u001b[39m\n",
       "\u001b[33m                that run on buffers, such as :attr:`cuda`, are ignored. If ``None``,\u001b[39m\n",
       "\u001b[33m                the buffer is **not** included in the module's :attr:`state_dict`.\u001b[39m\n",
       "\u001b[33m            persistent (bool): whether the buffer is part of this module's\u001b[39m\n",
       "\u001b[33m                :attr:`state_dict`.\u001b[39m\n",
       "\n",
       "\u001b[33m        Example::\u001b[39m\n",
       "\n",
       "\u001b[33m            >>> # xdoctest: +SKIP(\"undefined vars\")\u001b[39m\n",
       "\u001b[33m            >>> self.register_buffer('running_mean', torch.zeros(num_features))\u001b[39m\n",
       "\n",
       "\u001b[33m        \"\"\"\u001b[39m\n",
       "        \u001b[38;5;28;01mif\u001b[39;00m persistent \u001b[38;5;28;01mis\u001b[39;00m \u001b[38;5;28;01mFalse\u001b[39;00m \u001b[38;5;28;01mand\u001b[39;00m isinstance(self, torch.jit.ScriptModule):\n",
       "            \u001b[38;5;28;01mraise\u001b[39;00m RuntimeError(\u001b[33m\"ScriptModule does not support non-persistent buffers\"\u001b[39m)\n",
       "\n",
       "        \u001b[38;5;28;01mif\u001b[39;00m \u001b[33m\"_buffers\"\u001b[39m \u001b[38;5;28;01mnot\u001b[39;00m \u001b[38;5;28;01min\u001b[39;00m self.__dict__:\n",
       "            \u001b[38;5;28;01mraise\u001b[39;00m AttributeError(\u001b[33m\"cannot assign buffer before Module.__init__() call\"\u001b[39m)\n",
       "        \u001b[38;5;28;01melif\u001b[39;00m \u001b[38;5;28;01mnot\u001b[39;00m isinstance(name, str):\n",
       "            \u001b[38;5;28;01mraise\u001b[39;00m TypeError(\n",
       "                f\"buffer name should be a string. Got {torch.typename(name)}\"\n",
       "            )\n",
       "        \u001b[38;5;28;01melif\u001b[39;00m \u001b[33m\".\"\u001b[39m \u001b[38;5;28;01min\u001b[39;00m name:\n",
       "            \u001b[38;5;28;01mraise\u001b[39;00m KeyError(\u001b[33m'buffer name can\\'t contain \".\"'\u001b[39m)\n",
       "        \u001b[38;5;28;01melif\u001b[39;00m name == \u001b[33m\"\"\u001b[39m:\n",
       "            \u001b[38;5;28;01mraise\u001b[39;00m KeyError(\u001b[33m'buffer name can\\'t be empty string \"\"'\u001b[39m)\n",
       "        \u001b[38;5;28;01melif\u001b[39;00m hasattr(self, name) \u001b[38;5;28;01mand\u001b[39;00m name \u001b[38;5;28;01mnot\u001b[39;00m \u001b[38;5;28;01min\u001b[39;00m self._buffers:\n",
       "            \u001b[38;5;28;01mraise\u001b[39;00m KeyError(f\"attribute '{name}' already exists\")\n",
       "        \u001b[38;5;28;01melif\u001b[39;00m tensor \u001b[38;5;28;01mis\u001b[39;00m \u001b[38;5;28;01mnot\u001b[39;00m \u001b[38;5;28;01mNone\u001b[39;00m \u001b[38;5;28;01mand\u001b[39;00m \u001b[38;5;28;01mnot\u001b[39;00m isinstance(tensor, torch.Tensor):\n",
       "            \u001b[38;5;28;01mraise\u001b[39;00m TypeError(\n",
       "                f\"cannot assign '{torch.typename(tensor)}' object to buffer '{name}' \"\n",
       "                \u001b[33m\"(torch Tensor or None required)\"\u001b[39m\n",
       "            )\n",
       "        \u001b[38;5;28;01melse\u001b[39;00m:\n",
       "            \u001b[38;5;28;01mfor\u001b[39;00m hook \u001b[38;5;28;01min\u001b[39;00m _global_buffer_registration_hooks.values():\n",
       "                output = hook(self, name, tensor)\n",
       "                \u001b[38;5;28;01mif\u001b[39;00m output \u001b[38;5;28;01mis\u001b[39;00m \u001b[38;5;28;01mnot\u001b[39;00m \u001b[38;5;28;01mNone\u001b[39;00m:\n",
       "                    tensor = output\n",
       "            self._buffers[name] = tensor\n",
       "            \u001b[38;5;28;01mif\u001b[39;00m persistent:\n",
       "                self._non_persistent_buffers_set.discard(name)\n",
       "            \u001b[38;5;28;01melse\u001b[39;00m:\n",
       "                self._non_persistent_buffers_set.add(name)\n",
       "\n",
       "    \u001b[38;5;28;01mdef\u001b[39;00m register_parameter(self, name: str, param: Optional[Parameter]) -> \u001b[38;5;28;01mNone\u001b[39;00m:\n",
       "        \u001b[33mr\"\"\"Add a parameter to the module.\u001b[39m\n",
       "\n",
       "\u001b[33m        The parameter can be accessed as an attribute using given name.\u001b[39m\n",
       "\n",
       "\u001b[33m        Args:\u001b[39m\n",
       "\u001b[33m            name (str): name of the parameter. The parameter can be accessed\u001b[39m\n",
       "\u001b[33m                from this module using the given name\u001b[39m\n",
       "\u001b[33m            param (Parameter or None): parameter to be added to the module. If\u001b[39m\n",
       "\u001b[33m                ``None``, then operations that run on parameters, such as :attr:`cuda`,\u001b[39m\n",
       "\u001b[33m                are ignored. If ``None``, the parameter is **not** included in the\u001b[39m\n",
       "\u001b[33m                module's :attr:`state_dict`.\u001b[39m\n",
       "\u001b[33m        \"\"\"\u001b[39m\n",
       "        \u001b[38;5;28;01mif\u001b[39;00m \u001b[33m\"_parameters\"\u001b[39m \u001b[38;5;28;01mnot\u001b[39;00m \u001b[38;5;28;01min\u001b[39;00m self.__dict__:\n",
       "            \u001b[38;5;28;01mraise\u001b[39;00m AttributeError(\n",
       "                \u001b[33m\"cannot assign parameter before Module.__init__() call\"\u001b[39m\n",
       "            )\n",
       "\n",
       "        \u001b[38;5;28;01melif\u001b[39;00m \u001b[38;5;28;01mnot\u001b[39;00m isinstance(name, str):\n",
       "            \u001b[38;5;28;01mraise\u001b[39;00m TypeError(\n",
       "                f\"parameter name should be a string. Got {torch.typename(name)}\"\n",
       "            )\n",
       "        \u001b[38;5;28;01melif\u001b[39;00m \u001b[33m\".\"\u001b[39m \u001b[38;5;28;01min\u001b[39;00m name:\n",
       "            \u001b[38;5;28;01mraise\u001b[39;00m KeyError(\u001b[33m'parameter name can\\'t contain \".\"'\u001b[39m)\n",
       "        \u001b[38;5;28;01melif\u001b[39;00m name == \u001b[33m\"\"\u001b[39m:\n",
       "            \u001b[38;5;28;01mraise\u001b[39;00m KeyError(\u001b[33m'parameter name can\\'t be empty string \"\"'\u001b[39m)\n",
       "        \u001b[38;5;28;01melif\u001b[39;00m hasattr(self, name) \u001b[38;5;28;01mand\u001b[39;00m name \u001b[38;5;28;01mnot\u001b[39;00m \u001b[38;5;28;01min\u001b[39;00m self._parameters:\n",
       "            \u001b[38;5;28;01mraise\u001b[39;00m KeyError(f\"attribute '{name}' already exists\")\n",
       "\n",
       "        \u001b[38;5;28;01mif\u001b[39;00m param \u001b[38;5;28;01mis\u001b[39;00m \u001b[38;5;28;01mNone\u001b[39;00m:\n",
       "            self._parameters[name] = \u001b[38;5;28;01mNone\u001b[39;00m\n",
       "        \u001b[38;5;28;01melif\u001b[39;00m \u001b[38;5;28;01mnot\u001b[39;00m isinstance(param, Parameter):\n",
       "            \u001b[38;5;28;01mraise\u001b[39;00m TypeError(\n",
       "                f\"cannot assign '{torch.typename(param)}' object to parameter '{name}' \"\n",
       "                \u001b[33m\"(torch.nn.Parameter or None required)\"\u001b[39m\n",
       "            )\n",
       "        \u001b[38;5;28;01melif\u001b[39;00m param.grad_fn:\n",
       "            \u001b[38;5;28;01mraise\u001b[39;00m ValueError(\n",
       "                f\"Cannot assign non-leaf Tensor to parameter '{name}'. Model \"\n",
       "                f\"parameters must be created explicitly. To express '{name}' \"\n",
       "                \u001b[33m\"as a function of another Tensor, compute the value in \"\u001b[39m\n",
       "                \u001b[33m\"the forward() method.\"\u001b[39m\n",
       "            )\n",
       "        \u001b[38;5;28;01melse\u001b[39;00m:\n",
       "            \u001b[38;5;28;01mfor\u001b[39;00m hook \u001b[38;5;28;01min\u001b[39;00m _global_parameter_registration_hooks.values():\n",
       "                output = hook(self, name, param)\n",
       "                \u001b[38;5;28;01mif\u001b[39;00m output \u001b[38;5;28;01mis\u001b[39;00m \u001b[38;5;28;01mnot\u001b[39;00m \u001b[38;5;28;01mNone\u001b[39;00m:\n",
       "                    param = output\n",
       "            self._parameters[name] = param\n",
       "\n",
       "    \u001b[38;5;28;01mdef\u001b[39;00m add_module(self, name: str, module: Optional[\u001b[33m\"Module\"\u001b[39m]) -> \u001b[38;5;28;01mNone\u001b[39;00m:\n",
       "        \u001b[33mr\"\"\"Add a child module to the current module.\u001b[39m\n",
       "\n",
       "\u001b[33m        The module can be accessed as an attribute using the given name.\u001b[39m\n",
       "\n",
       "\u001b[33m        Args:\u001b[39m\n",
       "\u001b[33m            name (str): name of the child module. The child module can be\u001b[39m\n",
       "\u001b[33m                accessed from this module using the given name\u001b[39m\n",
       "\u001b[33m            module (Module): child module to be added to the module.\u001b[39m\n",
       "\u001b[33m        \"\"\"\u001b[39m\n",
       "        \u001b[38;5;28;01mif\u001b[39;00m \u001b[38;5;28;01mnot\u001b[39;00m isinstance(module, Module) \u001b[38;5;28;01mand\u001b[39;00m module \u001b[38;5;28;01mis\u001b[39;00m \u001b[38;5;28;01mnot\u001b[39;00m \u001b[38;5;28;01mNone\u001b[39;00m:\n",
       "            \u001b[38;5;28;01mraise\u001b[39;00m TypeError(f\"{torch.typename(module)} is not a Module subclass\")\n",
       "        \u001b[38;5;28;01melif\u001b[39;00m \u001b[38;5;28;01mnot\u001b[39;00m isinstance(name, str):\n",
       "            \u001b[38;5;28;01mraise\u001b[39;00m TypeError(\n",
       "                f\"module name should be a string. Got {torch.typename(name)}\"\n",
       "            )\n",
       "        \u001b[38;5;28;01melif\u001b[39;00m hasattr(self, name) \u001b[38;5;28;01mand\u001b[39;00m name \u001b[38;5;28;01mnot\u001b[39;00m \u001b[38;5;28;01min\u001b[39;00m self._modules:\n",
       "            \u001b[38;5;28;01mraise\u001b[39;00m KeyError(f\"attribute '{name}' already exists\")\n",
       "        \u001b[38;5;28;01melif\u001b[39;00m \u001b[33m\".\"\u001b[39m \u001b[38;5;28;01min\u001b[39;00m name:\n",
       "            \u001b[38;5;28;01mraise\u001b[39;00m KeyError(f'module name can\\'t contain \".\", got: {name}')\n",
       "        \u001b[38;5;28;01melif\u001b[39;00m name == \u001b[33m\"\"\u001b[39m:\n",
       "            \u001b[38;5;28;01mraise\u001b[39;00m KeyError(\u001b[33m'module name can\\'t be empty string \"\"'\u001b[39m)\n",
       "        \u001b[38;5;28;01mfor\u001b[39;00m hook \u001b[38;5;28;01min\u001b[39;00m _global_module_registration_hooks.values():\n",
       "            output = hook(self, name, module)\n",
       "            \u001b[38;5;28;01mif\u001b[39;00m output \u001b[38;5;28;01mis\u001b[39;00m \u001b[38;5;28;01mnot\u001b[39;00m \u001b[38;5;28;01mNone\u001b[39;00m:\n",
       "                module = output\n",
       "        self._modules[name] = module\n",
       "\n",
       "    \u001b[38;5;28;01mdef\u001b[39;00m register_module(self, name: str, module: Optional[\u001b[33m\"Module\"\u001b[39m]) -> \u001b[38;5;28;01mNone\u001b[39;00m:\n",
       "        \u001b[33mr\"\"\"Alias for :func:`add_module`.\"\"\"\u001b[39m\n",
       "        self.add_module(name, module)\n",
       "\n",
       "    \u001b[38;5;28;01mdef\u001b[39;00m get_submodule(self, target: str) -> \u001b[33m\"Module\"\u001b[39m:\n",
       "        \u001b[33m\"\"\"Return the submodule given by ``target`` if it exists, otherwise throw an error.\u001b[39m\n",
       "\n",
       "\u001b[33m        For example, let's say you have an ``nn.Module`` ``A`` that\u001b[39m\n",
       "\u001b[33m        looks like this:\u001b[39m\n",
       "\n",
       "\u001b[33m        .. code-block:: text\u001b[39m\n",
       "\n",
       "\u001b[33m            A(\u001b[39m\n",
       "\u001b[33m                (net_b): Module(\u001b[39m\n",
       "\u001b[33m                    (net_c): Module(\u001b[39m\n",
       "\u001b[33m                        (conv): Conv2d(16, 33, kernel_size=(3, 3), stride=(2, 2))\u001b[39m\n",
       "\u001b[33m                    )\u001b[39m\n",
       "\u001b[33m                    (linear): Linear(in_features=100, out_features=200, bias=True)\u001b[39m\n",
       "\u001b[33m                )\u001b[39m\n",
       "\u001b[33m            )\u001b[39m\n",
       "\n",
       "\u001b[33m        (The diagram shows an ``nn.Module`` ``A``. ``A`` which has a nested\u001b[39m\n",
       "\u001b[33m        submodule ``net_b``, which itself has two submodules ``net_c``\u001b[39m\n",
       "\u001b[33m        and ``linear``. ``net_c`` then has a submodule ``conv``.)\u001b[39m\n",
       "\n",
       "\u001b[33m        To check whether or not we have the ``linear`` submodule, we\u001b[39m\n",
       "\u001b[33m        would call ``get_submodule(\"net_b.linear\")``. To check whether\u001b[39m\n",
       "\u001b[33m        we have the ``conv`` submodule, we would call\u001b[39m\n",
       "\u001b[33m        ``get_submodule(\"net_b.net_c.conv\")``.\u001b[39m\n",
       "\n",
       "\u001b[33m        The runtime of ``get_submodule`` is bounded by the degree\u001b[39m\n",
       "\u001b[33m        of module nesting in ``target``. A query against\u001b[39m\n",
       "\u001b[33m        ``named_modules`` achieves the same result, but it is O(N) in\u001b[39m\n",
       "\u001b[33m        the number of transitive modules. So, for a simple check to see\u001b[39m\n",
       "\u001b[33m        if some submodule exists, ``get_submodule`` should always be\u001b[39m\n",
       "\u001b[33m        used.\u001b[39m\n",
       "\n",
       "\u001b[33m        Args:\u001b[39m\n",
       "\u001b[33m            target: The fully-qualified string name of the submodule\u001b[39m\n",
       "\u001b[33m                to look for. (See above example for how to specify a\u001b[39m\n",
       "\u001b[33m                fully-qualified string.)\u001b[39m\n",
       "\n",
       "\u001b[33m        Returns:\u001b[39m\n",
       "\u001b[33m            torch.nn.Module: The submodule referenced by ``target``\u001b[39m\n",
       "\n",
       "\u001b[33m        Raises:\u001b[39m\n",
       "\u001b[33m            AttributeError: If at any point along the path resulting from\u001b[39m\n",
       "\u001b[33m                the target string the (sub)path resolves to a non-existent\u001b[39m\n",
       "\u001b[33m                attribute name or an object that is not an instance of ``nn.Module``.\u001b[39m\n",
       "\u001b[33m        \"\"\"\u001b[39m\n",
       "        \u001b[38;5;28;01mif\u001b[39;00m target == \u001b[33m\"\"\u001b[39m:\n",
       "            \u001b[38;5;28;01mreturn\u001b[39;00m self\n",
       "\n",
       "        atoms: list[str] = target.split(\u001b[33m\".\"\u001b[39m)\n",
       "        mod: torch.nn.Module = self\n",
       "\n",
       "        \u001b[38;5;28;01mfor\u001b[39;00m item \u001b[38;5;28;01min\u001b[39;00m atoms:\n",
       "            \u001b[38;5;28;01mif\u001b[39;00m \u001b[38;5;28;01mnot\u001b[39;00m hasattr(mod, item):\n",
       "                \u001b[38;5;28;01mraise\u001b[39;00m AttributeError(\n",
       "                    mod._get_name() + \u001b[33m\" has no attribute `\"\u001b[39m + item + \u001b[33m\"`\"\u001b[39m\n",
       "                )\n",
       "\n",
       "            mod = getattr(mod, item)\n",
       "\n",
       "            \u001b[38;5;28;01mif\u001b[39;00m \u001b[38;5;28;01mnot\u001b[39;00m isinstance(mod, torch.nn.Module):\n",
       "                \u001b[38;5;28;01mraise\u001b[39;00m AttributeError(\u001b[33m\"`\"\u001b[39m + item + \u001b[33m\"` is not an nn.Module\"\u001b[39m)\n",
       "\n",
       "        \u001b[38;5;28;01mreturn\u001b[39;00m mod\n",
       "\n",
       "    \u001b[38;5;28;01mdef\u001b[39;00m set_submodule(\n",
       "        self, target: str, module: \u001b[33m\"Module\"\u001b[39m, strict: bool = \u001b[38;5;28;01mFalse\u001b[39;00m\n",
       "    ) -> \u001b[38;5;28;01mNone\u001b[39;00m:\n",
       "        \u001b[33m\"\"\"\u001b[39m\n",
       "\u001b[33m        Set the submodule given by ``target`` if it exists, otherwise throw an error.\u001b[39m\n",
       "\n",
       "\u001b[33m        .. note::\u001b[39m\n",
       "\u001b[33m            If ``strict`` is set to ``False`` (default), the method will replace an existing submodule\u001b[39m\n",
       "\u001b[33m            or create a new submodule if the parent module exists. If ``strict`` is set to ``True``,\u001b[39m\n",
       "\u001b[33m            the method will only attempt to replace an existing submodule and throw an error if\u001b[39m\n",
       "\u001b[33m            the submodule does not exist.\u001b[39m\n",
       "\n",
       "\u001b[33m        For example, let's say you have an ``nn.Module`` ``A`` that\u001b[39m\n",
       "\u001b[33m        looks like this:\u001b[39m\n",
       "\n",
       "\u001b[33m        .. code-block:: text\u001b[39m\n",
       "\n",
       "\u001b[33m            A(\u001b[39m\n",
       "\u001b[33m                (net_b): Module(\u001b[39m\n",
       "\u001b[33m                    (net_c): Module(\u001b[39m\n",
       "\u001b[33m                        (conv): Conv2d(3, 3, 3)\u001b[39m\n",
       "\u001b[33m                    )\u001b[39m\n",
       "\u001b[33m                    (linear): Linear(3, 3)\u001b[39m\n",
       "\u001b[33m                )\u001b[39m\n",
       "\u001b[33m            )\u001b[39m\n",
       "\n",
       "\u001b[33m        (The diagram shows an ``nn.Module`` ``A``. ``A`` has a nested\u001b[39m\n",
       "\u001b[33m        submodule ``net_b``, which itself has two submodules ``net_c``\u001b[39m\n",
       "\u001b[33m        and ``linear``. ``net_c`` then has a submodule ``conv``.)\u001b[39m\n",
       "\n",
       "\u001b[33m        To override the ``Conv2d`` with a new submodule ``Linear``, you\u001b[39m\n",
       "\u001b[33m        could call ``set_submodule(\"net_b.net_c.conv\", nn.Linear(1, 1))``\u001b[39m\n",
       "\u001b[33m        where ``strict`` could be ``True`` or ``False``\u001b[39m\n",
       "\n",
       "\u001b[33m        To add a new submodule ``Conv2d`` to the existing ``net_b`` module,\u001b[39m\n",
       "\u001b[33m        you would call ``set_submodule(\"net_b.conv\", nn.Conv2d(1, 1, 1))``.\u001b[39m\n",
       "\n",
       "\u001b[33m        In the above if you set ``strict=True`` and call\u001b[39m\n",
       "\u001b[33m        ``set_submodule(\"net_b.conv\", nn.Conv2d(1, 1, 1), strict=True)``, an AttributeError\u001b[39m\n",
       "\u001b[33m        will be raised because ``net_b`` does not have a submodule named ``conv``.\u001b[39m\n",
       "\n",
       "\u001b[33m        Args:\u001b[39m\n",
       "\u001b[33m            target: The fully-qualified string name of the submodule\u001b[39m\n",
       "\u001b[33m                to look for. (See above example for how to specify a\u001b[39m\n",
       "\u001b[33m                fully-qualified string.)\u001b[39m\n",
       "\u001b[33m            module: The module to set the submodule to.\u001b[39m\n",
       "\u001b[33m            strict: If ``False``, the method will replace an existing submodule\u001b[39m\n",
       "\u001b[33m                or create a new submodule if the parent module exists. If ``True``,\u001b[39m\n",
       "\u001b[33m                the method will only attempt to replace an existing submodule and throw an error\u001b[39m\n",
       "\u001b[33m                if the submodule doesn't already exist.\u001b[39m\n",
       "\n",
       "\u001b[33m        Raises:\u001b[39m\n",
       "\u001b[33m            ValueError: If the ``target`` string is empty or if ``module`` is not an instance of ``nn.Module``.\u001b[39m\n",
       "\u001b[33m            AttributeError: If at any point along the path resulting from\u001b[39m\n",
       "\u001b[33m                the ``target`` string the (sub)path resolves to a non-existent\u001b[39m\n",
       "\u001b[33m                attribute name or an object that is not an instance of ``nn.Module``.\u001b[39m\n",
       "\u001b[33m        \"\"\"\u001b[39m\n",
       "        \u001b[38;5;28;01mif\u001b[39;00m target == \u001b[33m\"\"\u001b[39m:\n",
       "            \u001b[38;5;28;01mraise\u001b[39;00m ValueError(\u001b[33m\"Cannot set the submodule without a target name!\"\u001b[39m)\n",
       "\n",
       "        atoms: list[str] = target.split(\u001b[33m\".\"\u001b[39m)\n",
       "        \u001b[38;5;28;01mif\u001b[39;00m \u001b[38;5;28;01mnot\u001b[39;00m isinstance(module, torch.nn.Module):\n",
       "            \u001b[38;5;28;01mraise\u001b[39;00m ValueError(\n",
       "                \u001b[33m\"`\"\u001b[39m + \u001b[33m\"module\"\u001b[39m + f\"` is not an nn.Module, found {type(module)}\"\n",
       "            )\n",
       "        \u001b[38;5;28;01mif\u001b[39;00m len(atoms) == \u001b[32m1\u001b[39m:\n",
       "            parent: torch.nn.Module = self\n",
       "        \u001b[38;5;28;01melse\u001b[39;00m:\n",
       "            parent_key = \u001b[33m\".\"\u001b[39m.join(atoms[:-\u001b[32m1\u001b[39m])\n",
       "            parent = self.get_submodule(parent_key)\n",
       "\n",
       "        \u001b[38;5;28;01mif\u001b[39;00m strict \u001b[38;5;28;01mand\u001b[39;00m \u001b[38;5;28;01mnot\u001b[39;00m hasattr(parent, atoms[-\u001b[32m1\u001b[39m]):\n",
       "            \u001b[38;5;28;01mraise\u001b[39;00m AttributeError(\n",
       "                parent._get_name() + \u001b[33m\" has no attribute `\"\u001b[39m + atoms[-\u001b[32m1\u001b[39m] + \u001b[33m\"`\"\u001b[39m\n",
       "            )\n",
       "        \u001b[38;5;28;01mif\u001b[39;00m hasattr(parent, atoms[-\u001b[32m1\u001b[39m]):\n",
       "            mod = getattr(parent, atoms[-\u001b[32m1\u001b[39m])\n",
       "            \u001b[38;5;28;01mif\u001b[39;00m \u001b[38;5;28;01mnot\u001b[39;00m isinstance(mod, torch.nn.Module):\n",
       "                \u001b[38;5;28;01mraise\u001b[39;00m AttributeError(\u001b[33m\"`\"\u001b[39m + atoms[-\u001b[32m1\u001b[39m] + \u001b[33m\"` is not an nn.Module\"\u001b[39m)\n",
       "        setattr(parent, atoms[-\u001b[32m1\u001b[39m], module)\n",
       "\n",
       "    \u001b[38;5;28;01mdef\u001b[39;00m get_parameter(self, target: str) -> \u001b[33m\"Parameter\"\u001b[39m:\n",
       "        \u001b[33m\"\"\"Return the parameter given by ``target`` if it exists, otherwise throw an error.\u001b[39m\n",
       "\n",
       "\u001b[33m        See the docstring for ``get_submodule`` for a more detailed\u001b[39m\n",
       "\u001b[33m        explanation of this method's functionality as well as how to\u001b[39m\n",
       "\u001b[33m        correctly specify ``target``.\u001b[39m\n",
       "\n",
       "\u001b[33m        Args:\u001b[39m\n",
       "\u001b[33m            target: The fully-qualified string name of the Parameter\u001b[39m\n",
       "\u001b[33m                to look for. (See ``get_submodule`` for how to specify a\u001b[39m\n",
       "\u001b[33m                fully-qualified string.)\u001b[39m\n",
       "\n",
       "\u001b[33m        Returns:\u001b[39m\n",
       "\u001b[33m            torch.nn.Parameter: The Parameter referenced by ``target``\u001b[39m\n",
       "\n",
       "\u001b[33m        Raises:\u001b[39m\n",
       "\u001b[33m            AttributeError: If the target string references an invalid\u001b[39m\n",
       "\u001b[33m                path or resolves to something that is not an\u001b[39m\n",
       "\u001b[33m                ``nn.Parameter``\u001b[39m\n",
       "\u001b[33m        \"\"\"\u001b[39m\n",
       "        module_path, _, param_name = target.rpartition(\u001b[33m\".\"\u001b[39m)\n",
       "\n",
       "        mod: torch.nn.Module = self.get_submodule(module_path)\n",
       "\n",
       "        \u001b[38;5;28;01mif\u001b[39;00m \u001b[38;5;28;01mnot\u001b[39;00m hasattr(mod, param_name):\n",
       "            \u001b[38;5;28;01mraise\u001b[39;00m AttributeError(\n",
       "                mod._get_name() + \u001b[33m\" has no attribute `\"\u001b[39m + param_name + \u001b[33m\"`\"\u001b[39m\n",
       "            )\n",
       "\n",
       "        param: torch.nn.Parameter = getattr(mod, param_name)\n",
       "\n",
       "        \u001b[38;5;28;01mif\u001b[39;00m \u001b[38;5;28;01mnot\u001b[39;00m isinstance(param, torch.nn.Parameter):\n",
       "            \u001b[38;5;28;01mraise\u001b[39;00m AttributeError(\u001b[33m\"`\"\u001b[39m + param_name + \u001b[33m\"` is not an nn.Parameter\"\u001b[39m)\n",
       "\n",
       "        \u001b[38;5;28;01mreturn\u001b[39;00m param\n",
       "\n",
       "    \u001b[38;5;28;01mdef\u001b[39;00m get_buffer(self, target: str) -> \u001b[33m\"Tensor\"\u001b[39m:\n",
       "        \u001b[33m\"\"\"Return the buffer given by ``target`` if it exists, otherwise throw an error.\u001b[39m\n",
       "\n",
       "\u001b[33m        See the docstring for ``get_submodule`` for a more detailed\u001b[39m\n",
       "\u001b[33m        explanation of this method's functionality as well as how to\u001b[39m\n",
       "\u001b[33m        correctly specify ``target``.\u001b[39m\n",
       "\n",
       "\u001b[33m        Args:\u001b[39m\n",
       "\u001b[33m            target: The fully-qualified string name of the buffer\u001b[39m\n",
       "\u001b[33m                to look for. (See ``get_submodule`` for how to specify a\u001b[39m\n",
       "\u001b[33m                fully-qualified string.)\u001b[39m\n",
       "\n",
       "\u001b[33m        Returns:\u001b[39m\n",
       "\u001b[33m            torch.Tensor: The buffer referenced by ``target``\u001b[39m\n",
       "\n",
       "\u001b[33m        Raises:\u001b[39m\n",
       "\u001b[33m            AttributeError: If the target string references an invalid\u001b[39m\n",
       "\u001b[33m                path or resolves to something that is not a\u001b[39m\n",
       "\u001b[33m                buffer\u001b[39m\n",
       "\u001b[33m        \"\"\"\u001b[39m\n",
       "        module_path, _, buffer_name = target.rpartition(\u001b[33m\".\"\u001b[39m)\n",
       "\n",
       "        mod: torch.nn.Module = self.get_submodule(module_path)\n",
       "\n",
       "        \u001b[38;5;28;01mif\u001b[39;00m \u001b[38;5;28;01mnot\u001b[39;00m hasattr(mod, buffer_name):\n",
       "            \u001b[38;5;28;01mraise\u001b[39;00m AttributeError(\n",
       "                mod._get_name() + \u001b[33m\" has no attribute `\"\u001b[39m + buffer_name + \u001b[33m\"`\"\u001b[39m\n",
       "            )\n",
       "\n",
       "        buffer: torch.Tensor = getattr(mod, buffer_name)\n",
       "\n",
       "        \u001b[38;5;28;01mif\u001b[39;00m buffer_name \u001b[38;5;28;01mnot\u001b[39;00m \u001b[38;5;28;01min\u001b[39;00m mod._buffers:\n",
       "            \u001b[38;5;28;01mraise\u001b[39;00m AttributeError(\u001b[33m\"`\"\u001b[39m + buffer_name + \u001b[33m\"` is not a buffer\"\u001b[39m)\n",
       "\n",
       "        \u001b[38;5;28;01mreturn\u001b[39;00m buffer\n",
       "\n",
       "    \u001b[38;5;28;01mdef\u001b[39;00m get_extra_state(self) -> Any:\n",
       "        \u001b[33m\"\"\"Return any extra state to include in the module's state_dict.\u001b[39m\n",
       "\n",
       "\u001b[33m        Implement this and a corresponding :func:`set_extra_state` for your module\u001b[39m\n",
       "\u001b[33m        if you need to store extra state. This function is called when building the\u001b[39m\n",
       "\u001b[33m        module's `state_dict()`.\u001b[39m\n",
       "\n",
       "\u001b[33m        Note that extra state should be picklable to ensure working serialization\u001b[39m\n",
       "\u001b[33m        of the state_dict. We only provide backwards compatibility guarantees\u001b[39m\n",
       "\u001b[33m        for serializing Tensors; other objects may break backwards compatibility if\u001b[39m\n",
       "\u001b[33m        their serialized pickled form changes.\u001b[39m\n",
       "\n",
       "\u001b[33m        Returns:\u001b[39m\n",
       "\u001b[33m            object: Any extra state to store in the module's state_dict\u001b[39m\n",
       "\u001b[33m        \"\"\"\u001b[39m\n",
       "        \u001b[38;5;28;01mraise\u001b[39;00m RuntimeError(\n",
       "            \u001b[33m\"Reached a code path in Module.get_extra_state() that should never be called. \"\u001b[39m\n",
       "            \u001b[33m\"Please file an issue at https://github.com/pytorch/pytorch/issues/new?template=bug-report.yml \"\u001b[39m\n",
       "            \u001b[33m\"to report this bug.\"\u001b[39m\n",
       "        )\n",
       "\n",
       "    \u001b[38;5;28;01mdef\u001b[39;00m set_extra_state(self, state: Any) -> \u001b[38;5;28;01mNone\u001b[39;00m:\n",
       "        \u001b[33m\"\"\"Set extra state contained in the loaded `state_dict`.\u001b[39m\n",
       "\n",
       "\u001b[33m        This function is called from :func:`load_state_dict` to handle any extra state\u001b[39m\n",
       "\u001b[33m        found within the `state_dict`. Implement this function and a corresponding\u001b[39m\n",
       "\u001b[33m        :func:`get_extra_state` for your module if you need to store extra state within its\u001b[39m\n",
       "\u001b[33m        `state_dict`.\u001b[39m\n",
       "\n",
       "\u001b[33m        Args:\u001b[39m\n",
       "\u001b[33m            state (dict): Extra state from the `state_dict`\u001b[39m\n",
       "\u001b[33m        \"\"\"\u001b[39m\n",
       "        \u001b[38;5;28;01mraise\u001b[39;00m RuntimeError(\n",
       "            \u001b[33m\"Reached a code path in Module.set_extra_state() that should never be called. \"\u001b[39m\n",
       "            \u001b[33m\"Please file an issue at https://github.com/pytorch/pytorch/issues/new?template=bug-report.yml \"\u001b[39m\n",
       "            \u001b[33m\"to report this bug.\"\u001b[39m\n",
       "        )\n",
       "\n",
       "    \u001b[38;5;28;01mdef\u001b[39;00m _apply(self, fn, recurse=\u001b[38;5;28;01mTrue\u001b[39;00m):\n",
       "        \u001b[38;5;28;01mif\u001b[39;00m recurse:\n",
       "            \u001b[38;5;28;01mfor\u001b[39;00m module \u001b[38;5;28;01min\u001b[39;00m self.children():\n",
       "                module._apply(fn)\n",
       "\n",
       "        \u001b[38;5;28;01mdef\u001b[39;00m compute_should_use_set_data(tensor, tensor_applied):\n",
       "            \u001b[38;5;28;01mif\u001b[39;00m torch._has_compatible_shallow_copy_type(tensor, tensor_applied):\n",
       "                \u001b[38;5;66;03m# If the new tensor has compatible tensor type as the existing tensor,\u001b[39;00m\n",
       "                \u001b[38;5;66;03m# the current behavior is to change the tensor in-place using `.data =`,\u001b[39;00m\n",
       "                \u001b[38;5;66;03m# and the future behavior is to overwrite the existing tensor. However,\u001b[39;00m\n",
       "                \u001b[38;5;66;03m# changing the current behavior is a BC-breaking change, and we want it\u001b[39;00m\n",
       "                \u001b[38;5;66;03m# to happen in future releases. So for now we introduce the\u001b[39;00m\n",
       "                \u001b[38;5;66;03m# `torch.__future__.get_overwrite_module_params_on_conversion()`\u001b[39;00m\n",
       "                \u001b[38;5;66;03m# global flag to let the user control whether they want the future\u001b[39;00m\n",
       "                \u001b[38;5;66;03m# behavior of overwriting the existing tensor or not.\u001b[39;00m\n",
       "                \u001b[38;5;28;01mreturn\u001b[39;00m \u001b[38;5;28;01mnot\u001b[39;00m torch.__future__.get_overwrite_module_params_on_conversion()\n",
       "            \u001b[38;5;28;01melse\u001b[39;00m:\n",
       "                \u001b[38;5;28;01mreturn\u001b[39;00m \u001b[38;5;28;01mFalse\u001b[39;00m\n",
       "\n",
       "        should_use_swap_tensors = (\n",
       "            torch.__future__.get_swap_module_params_on_conversion()\n",
       "        )\n",
       "\n",
       "        \u001b[38;5;28;01mfor\u001b[39;00m key, param \u001b[38;5;28;01min\u001b[39;00m self._parameters.items():\n",
       "            \u001b[38;5;28;01mif\u001b[39;00m param \u001b[38;5;28;01mis\u001b[39;00m \u001b[38;5;28;01mNone\u001b[39;00m:\n",
       "                \u001b[38;5;28;01mcontinue\u001b[39;00m\n",
       "            \u001b[38;5;66;03m# Tensors stored in modules are graph leaves, and we don't want to\u001b[39;00m\n",
       "            \u001b[38;5;66;03m# track autograd history of `param_applied`, so we have to use\u001b[39;00m\n",
       "            \u001b[38;5;66;03m# `with torch.no_grad():`\u001b[39;00m\n",
       "            \u001b[38;5;28;01mwith\u001b[39;00m torch.no_grad():\n",
       "                param_applied = fn(param)\n",
       "            p_should_use_set_data = compute_should_use_set_data(param, param_applied)\n",
       "\n",
       "            \u001b[38;5;66;03m# subclasses may have multiple child tensors so we need to use swap_tensors\u001b[39;00m\n",
       "            p_should_use_swap_tensors = (\n",
       "                should_use_swap_tensors \u001b[38;5;28;01mor\u001b[39;00m is_traceable_wrapper_subclass(param_applied)\n",
       "            )\n",
       "\n",
       "            param_grad = param.grad\n",
       "            \u001b[38;5;28;01mif\u001b[39;00m p_should_use_swap_tensors:\n",
       "                \u001b[38;5;28;01mtry\u001b[39;00m:\n",
       "                    \u001b[38;5;28;01mif\u001b[39;00m param_grad \u001b[38;5;28;01mis\u001b[39;00m \u001b[38;5;28;01mnot\u001b[39;00m \u001b[38;5;28;01mNone\u001b[39;00m:\n",
       "                        \u001b[38;5;66;03m# Accessing param.grad makes its at::Tensor's use_count 2, which will prevent swapping.\u001b[39;00m\n",
       "                        \u001b[38;5;66;03m# Decrement use count of the gradient by setting to None\u001b[39;00m\n",
       "                        param.grad = \u001b[38;5;28;01mNone\u001b[39;00m\n",
       "                    param_applied = torch.nn.Parameter(\n",
       "                        param_applied, requires_grad=param.requires_grad\n",
       "                    )\n",
       "                    torch.utils.swap_tensors(param, param_applied)\n",
       "                \u001b[38;5;28;01mexcept\u001b[39;00m Exception \u001b[38;5;28;01mas\u001b[39;00m e:\n",
       "                    \u001b[38;5;28;01mif\u001b[39;00m param_grad \u001b[38;5;28;01mis\u001b[39;00m \u001b[38;5;28;01mnot\u001b[39;00m \u001b[38;5;28;01mNone\u001b[39;00m:\n",
       "                        param.grad = param_grad\n",
       "                    \u001b[38;5;28;01mraise\u001b[39;00m RuntimeError(\n",
       "                        f\"_apply(): Couldn't swap {self._get_name()}.{key}\"\n",
       "                    ) \u001b[38;5;28;01mfrom\u001b[39;00m e\n",
       "                out_param = param\n",
       "            \u001b[38;5;28;01melif\u001b[39;00m p_should_use_set_data:\n",
       "                param.data = param_applied\n",
       "                out_param = param\n",
       "            \u001b[38;5;28;01melse\u001b[39;00m:\n",
       "                \u001b[38;5;28;01massert\u001b[39;00m isinstance(param, Parameter)\n",
       "                \u001b[38;5;28;01massert\u001b[39;00m param.is_leaf\n",
       "                out_param = Parameter(param_applied, param.requires_grad)\n",
       "                self._parameters[key] = out_param\n",
       "\n",
       "            \u001b[38;5;28;01mif\u001b[39;00m param_grad \u001b[38;5;28;01mis\u001b[39;00m \u001b[38;5;28;01mnot\u001b[39;00m \u001b[38;5;28;01mNone\u001b[39;00m:\n",
       "                \u001b[38;5;28;01mwith\u001b[39;00m torch.no_grad():\n",
       "                    grad_applied = fn(param_grad)\n",
       "                g_should_use_set_data = compute_should_use_set_data(\n",
       "                    param_grad, grad_applied\n",
       "                )\n",
       "                \u001b[38;5;28;01mif\u001b[39;00m p_should_use_swap_tensors:\n",
       "                    grad_applied.requires_grad_(param_grad.requires_grad)\n",
       "                    \u001b[38;5;28;01mtry\u001b[39;00m:\n",
       "                        torch.utils.swap_tensors(param_grad, grad_applied)\n",
       "                    \u001b[38;5;28;01mexcept\u001b[39;00m Exception \u001b[38;5;28;01mas\u001b[39;00m e:\n",
       "                        \u001b[38;5;28;01mraise\u001b[39;00m RuntimeError(\n",
       "                            f\"_apply(): Couldn't swap {self._get_name()}.{key}.grad\"\n",
       "                        ) \u001b[38;5;28;01mfrom\u001b[39;00m e\n",
       "                    out_param.grad = param_grad\n",
       "                \u001b[38;5;28;01melif\u001b[39;00m g_should_use_set_data:\n",
       "                    \u001b[38;5;28;01massert\u001b[39;00m out_param.grad \u001b[38;5;28;01mis\u001b[39;00m \u001b[38;5;28;01mnot\u001b[39;00m \u001b[38;5;28;01mNone\u001b[39;00m\n",
       "                    out_param.grad.data = grad_applied\n",
       "                \u001b[38;5;28;01melse\u001b[39;00m:\n",
       "                    \u001b[38;5;28;01massert\u001b[39;00m param_grad.is_leaf\n",
       "                    out_param.grad = grad_applied.requires_grad_(\n",
       "                        param_grad.requires_grad\n",
       "                    )\n",
       "\n",
       "        \u001b[38;5;28;01mfor\u001b[39;00m key, buf \u001b[38;5;28;01min\u001b[39;00m self._buffers.items():\n",
       "            \u001b[38;5;28;01mif\u001b[39;00m buf \u001b[38;5;28;01mis\u001b[39;00m \u001b[38;5;28;01mnot\u001b[39;00m \u001b[38;5;28;01mNone\u001b[39;00m:\n",
       "                self._buffers[key] = fn(buf)\n",
       "\n",
       "        \u001b[38;5;28;01mreturn\u001b[39;00m self\n",
       "\n",
       "    \u001b[38;5;28;01mdef\u001b[39;00m apply(self: T, fn: Callable[[\u001b[33m\"Module\"\u001b[39m], \u001b[38;5;28;01mNone\u001b[39;00m]) -> T:\n",
       "        \u001b[33mr\"\"\"Apply ``fn`` recursively to every submodule (as returned by ``.children()``) as well as self.\u001b[39m\n",
       "\n",
       "\u001b[33m        Typical use includes initializing the parameters of a model\u001b[39m\n",
       "\u001b[33m        (see also :ref:`nn-init-doc`).\u001b[39m\n",
       "\n",
       "\u001b[33m        Args:\u001b[39m\n",
       "\u001b[33m            fn (:class:`Module` -> None): function to be applied to each submodule\u001b[39m\n",
       "\n",
       "\u001b[33m        Returns:\u001b[39m\n",
       "\u001b[33m            Module: self\u001b[39m\n",
       "\n",
       "\u001b[33m        Example::\u001b[39m\n",
       "\n",
       "\u001b[33m            >>> @torch.no_grad()\u001b[39m\n",
       "\u001b[33m            >>> def init_weights(m):\u001b[39m\n",
       "\u001b[33m            >>>     print(m)\u001b[39m\n",
       "\u001b[33m            >>>     if type(m) == nn.Linear:\u001b[39m\n",
       "\u001b[33m            >>>         m.weight.fill_(1.0)\u001b[39m\n",
       "\u001b[33m            >>>         print(m.weight)\u001b[39m\n",
       "\u001b[33m            >>> net = nn.Sequential(nn.Linear(2, 2), nn.Linear(2, 2))\u001b[39m\n",
       "\u001b[33m            >>> net.apply(init_weights)\u001b[39m\n",
       "\u001b[33m            Linear(in_features=2, out_features=2, bias=True)\u001b[39m\n",
       "\u001b[33m            Parameter containing:\u001b[39m\n",
       "\u001b[33m            tensor([[1., 1.],\u001b[39m\n",
       "\u001b[33m                    [1., 1.]], requires_grad=True)\u001b[39m\n",
       "\u001b[33m            Linear(in_features=2, out_features=2, bias=True)\u001b[39m\n",
       "\u001b[33m            Parameter containing:\u001b[39m\n",
       "\u001b[33m            tensor([[1., 1.],\u001b[39m\n",
       "\u001b[33m                    [1., 1.]], requires_grad=True)\u001b[39m\n",
       "\u001b[33m            Sequential(\u001b[39m\n",
       "\u001b[33m              (0): Linear(in_features=2, out_features=2, bias=True)\u001b[39m\n",
       "\u001b[33m              (1): Linear(in_features=2, out_features=2, bias=True)\u001b[39m\n",
       "\u001b[33m            )\u001b[39m\n",
       "\n",
       "\u001b[33m        \"\"\"\u001b[39m\n",
       "        \u001b[38;5;28;01mfor\u001b[39;00m module \u001b[38;5;28;01min\u001b[39;00m self.children():\n",
       "            module.apply(fn)\n",
       "        fn(self)\n",
       "        \u001b[38;5;28;01mreturn\u001b[39;00m self\n",
       "\n",
       "    \u001b[38;5;28;01mdef\u001b[39;00m cuda(self: T, device: Optional[Union[int, device]] = \u001b[38;5;28;01mNone\u001b[39;00m) -> T:\n",
       "        \u001b[33mr\"\"\"Move all model parameters and buffers to the GPU.\u001b[39m\n",
       "\n",
       "\u001b[33m        This also makes associated parameters and buffers different objects. So\u001b[39m\n",
       "\u001b[33m        it should be called before constructing the optimizer if the module will\u001b[39m\n",
       "\u001b[33m        live on GPU while being optimized.\u001b[39m\n",
       "\n",
       "\u001b[33m        .. note::\u001b[39m\n",
       "\u001b[33m            This method modifies the module in-place.\u001b[39m\n",
       "\n",
       "\u001b[33m        Args:\u001b[39m\n",
       "\u001b[33m            device (int, optional): if specified, all parameters will be\u001b[39m\n",
       "\u001b[33m                copied to that device\u001b[39m\n",
       "\n",
       "\u001b[33m        Returns:\u001b[39m\n",
       "\u001b[33m            Module: self\u001b[39m\n",
       "\u001b[33m        \"\"\"\u001b[39m\n",
       "        \u001b[38;5;28;01mreturn\u001b[39;00m self._apply(\u001b[38;5;28;01mlambda\u001b[39;00m t: t.cuda(device))\n",
       "\n",
       "    \u001b[38;5;28;01mdef\u001b[39;00m ipu(self: T, device: Optional[Union[int, device]] = \u001b[38;5;28;01mNone\u001b[39;00m) -> T:\n",
       "        \u001b[33mr\"\"\"Move all model parameters and buffers to the IPU.\u001b[39m\n",
       "\n",
       "\u001b[33m        This also makes associated parameters and buffers different objects. So\u001b[39m\n",
       "\u001b[33m        it should be called before constructing the optimizer if the module will\u001b[39m\n",
       "\u001b[33m        live on IPU while being optimized.\u001b[39m\n",
       "\n",
       "\u001b[33m        .. note::\u001b[39m\n",
       "\u001b[33m            This method modifies the module in-place.\u001b[39m\n",
       "\n",
       "\u001b[33m        Arguments:\u001b[39m\n",
       "\u001b[33m            device (int, optional): if specified, all parameters will be\u001b[39m\n",
       "\u001b[33m                copied to that device\u001b[39m\n",
       "\n",
       "\u001b[33m        Returns:\u001b[39m\n",
       "\u001b[33m            Module: self\u001b[39m\n",
       "\u001b[33m        \"\"\"\u001b[39m\n",
       "        \u001b[38;5;28;01mreturn\u001b[39;00m self._apply(\u001b[38;5;28;01mlambda\u001b[39;00m t: t.ipu(device))\n",
       "\n",
       "    \u001b[38;5;28;01mdef\u001b[39;00m xpu(self: T, device: Optional[Union[int, device]] = \u001b[38;5;28;01mNone\u001b[39;00m) -> T:\n",
       "        \u001b[33mr\"\"\"Move all model parameters and buffers to the XPU.\u001b[39m\n",
       "\n",
       "\u001b[33m        This also makes associated parameters and buffers different objects. So\u001b[39m\n",
       "\u001b[33m        it should be called before constructing optimizer if the module will\u001b[39m\n",
       "\u001b[33m        live on XPU while being optimized.\u001b[39m\n",
       "\n",
       "\u001b[33m        .. note::\u001b[39m\n",
       "\u001b[33m            This method modifies the module in-place.\u001b[39m\n",
       "\n",
       "\u001b[33m        Arguments:\u001b[39m\n",
       "\u001b[33m            device (int, optional): if specified, all parameters will be\u001b[39m\n",
       "\u001b[33m                copied to that device\u001b[39m\n",
       "\n",
       "\u001b[33m        Returns:\u001b[39m\n",
       "\u001b[33m            Module: self\u001b[39m\n",
       "\u001b[33m        \"\"\"\u001b[39m\n",
       "        \u001b[38;5;28;01mreturn\u001b[39;00m self._apply(\u001b[38;5;28;01mlambda\u001b[39;00m t: t.xpu(device))\n",
       "\n",
       "    \u001b[38;5;28;01mdef\u001b[39;00m mtia(self: T, device: Optional[Union[int, device]] = \u001b[38;5;28;01mNone\u001b[39;00m) -> T:\n",
       "        \u001b[33mr\"\"\"Move all model parameters and buffers to the MTIA.\u001b[39m\n",
       "\n",
       "\u001b[33m        This also makes associated parameters and buffers different objects. So\u001b[39m\n",
       "\u001b[33m        it should be called before constructing the optimizer if the module will\u001b[39m\n",
       "\u001b[33m        live on MTIA while being optimized.\u001b[39m\n",
       "\n",
       "\u001b[33m        .. note::\u001b[39m\n",
       "\u001b[33m            This method modifies the module in-place.\u001b[39m\n",
       "\n",
       "\u001b[33m        Arguments:\u001b[39m\n",
       "\u001b[33m            device (int, optional): if specified, all parameters will be\u001b[39m\n",
       "\u001b[33m                copied to that device\u001b[39m\n",
       "\n",
       "\u001b[33m        Returns:\u001b[39m\n",
       "\u001b[33m            Module: self\u001b[39m\n",
       "\u001b[33m        \"\"\"\u001b[39m\n",
       "        \u001b[38;5;28;01mreturn\u001b[39;00m self._apply(\u001b[38;5;28;01mlambda\u001b[39;00m t: t.mtia(device))\n",
       "\n",
       "    \u001b[38;5;28;01mdef\u001b[39;00m cpu(self: T) -> T:\n",
       "        \u001b[33mr\"\"\"Move all model parameters and buffers to the CPU.\u001b[39m\n",
       "\n",
       "\u001b[33m        .. note::\u001b[39m\n",
       "\u001b[33m            This method modifies the module in-place.\u001b[39m\n",
       "\n",
       "\u001b[33m        Returns:\u001b[39m\n",
       "\u001b[33m            Module: self\u001b[39m\n",
       "\u001b[33m        \"\"\"\u001b[39m\n",
       "        \u001b[38;5;28;01mreturn\u001b[39;00m self._apply(\u001b[38;5;28;01mlambda\u001b[39;00m t: t.cpu())\n",
       "\n",
       "    \u001b[38;5;28;01mdef\u001b[39;00m type(self: T, dst_type: Union[dtype, str]) -> T:\n",
       "        \u001b[33mr\"\"\"Casts all parameters and buffers to :attr:`dst_type`.\u001b[39m\n",
       "\n",
       "\u001b[33m        .. note::\u001b[39m\n",
       "\u001b[33m            This method modifies the module in-place.\u001b[39m\n",
       "\n",
       "\u001b[33m        Args:\u001b[39m\n",
       "\u001b[33m            dst_type (type or string): the desired type\u001b[39m\n",
       "\n",
       "\u001b[33m        Returns:\u001b[39m\n",
       "\u001b[33m            Module: self\u001b[39m\n",
       "\u001b[33m        \"\"\"\u001b[39m\n",
       "        \u001b[38;5;28;01mreturn\u001b[39;00m self._apply(\u001b[38;5;28;01mlambda\u001b[39;00m t: t.type(dst_type))\n",
       "\n",
       "    \u001b[38;5;28;01mdef\u001b[39;00m float(self: T) -> T:\n",
       "        \u001b[33mr\"\"\"Casts all floating point parameters and buffers to ``float`` datatype.\u001b[39m\n",
       "\n",
       "\u001b[33m        .. note::\u001b[39m\n",
       "\u001b[33m            This method modifies the module in-place.\u001b[39m\n",
       "\n",
       "\u001b[33m        Returns:\u001b[39m\n",
       "\u001b[33m            Module: self\u001b[39m\n",
       "\u001b[33m        \"\"\"\u001b[39m\n",
       "        \u001b[38;5;28;01mreturn\u001b[39;00m self._apply(\u001b[38;5;28;01mlambda\u001b[39;00m t: t.float() \u001b[38;5;28;01mif\u001b[39;00m t.is_floating_point() \u001b[38;5;28;01melse\u001b[39;00m t)\n",
       "\n",
       "    \u001b[38;5;28;01mdef\u001b[39;00m double(self: T) -> T:\n",
       "        \u001b[33mr\"\"\"Casts all floating point parameters and buffers to ``double`` datatype.\u001b[39m\n",
       "\n",
       "\u001b[33m        .. note::\u001b[39m\n",
       "\u001b[33m            This method modifies the module in-place.\u001b[39m\n",
       "\n",
       "\u001b[33m        Returns:\u001b[39m\n",
       "\u001b[33m            Module: self\u001b[39m\n",
       "\u001b[33m        \"\"\"\u001b[39m\n",
       "        \u001b[38;5;28;01mreturn\u001b[39;00m self._apply(\u001b[38;5;28;01mlambda\u001b[39;00m t: t.double() \u001b[38;5;28;01mif\u001b[39;00m t.is_floating_point() \u001b[38;5;28;01melse\u001b[39;00m t)\n",
       "\n",
       "    \u001b[38;5;28;01mdef\u001b[39;00m half(self: T) -> T:\n",
       "        \u001b[33mr\"\"\"Casts all floating point parameters and buffers to ``half`` datatype.\u001b[39m\n",
       "\n",
       "\u001b[33m        .. note::\u001b[39m\n",
       "\u001b[33m            This method modifies the module in-place.\u001b[39m\n",
       "\n",
       "\u001b[33m        Returns:\u001b[39m\n",
       "\u001b[33m            Module: self\u001b[39m\n",
       "\u001b[33m        \"\"\"\u001b[39m\n",
       "        \u001b[38;5;28;01mreturn\u001b[39;00m self._apply(\u001b[38;5;28;01mlambda\u001b[39;00m t: t.half() \u001b[38;5;28;01mif\u001b[39;00m t.is_floating_point() \u001b[38;5;28;01melse\u001b[39;00m t)\n",
       "\n",
       "    \u001b[38;5;28;01mdef\u001b[39;00m bfloat16(self: T) -> T:\n",
       "        \u001b[33mr\"\"\"Casts all floating point parameters and buffers to ``bfloat16`` datatype.\u001b[39m\n",
       "\n",
       "\u001b[33m        .. note::\u001b[39m\n",
       "\u001b[33m            This method modifies the module in-place.\u001b[39m\n",
       "\n",
       "\u001b[33m        Returns:\u001b[39m\n",
       "\u001b[33m            Module: self\u001b[39m\n",
       "\u001b[33m        \"\"\"\u001b[39m\n",
       "        \u001b[38;5;28;01mreturn\u001b[39;00m self._apply(\u001b[38;5;28;01mlambda\u001b[39;00m t: t.bfloat16() \u001b[38;5;28;01mif\u001b[39;00m t.is_floating_point() \u001b[38;5;28;01melse\u001b[39;00m t)\n",
       "\n",
       "    \u001b[38;5;28;01mdef\u001b[39;00m to_empty(\n",
       "        self: T, *, device: Optional[DeviceLikeType], recurse: bool = \u001b[38;5;28;01mTrue\u001b[39;00m\n",
       "    ) -> T:\n",
       "        \u001b[33mr\"\"\"Move the parameters and buffers to the specified device without copying storage.\u001b[39m\n",
       "\n",
       "\u001b[33m        Args:\u001b[39m\n",
       "\u001b[33m            device (:class:`torch.device`): The desired device of the parameters\u001b[39m\n",
       "\u001b[33m                and buffers in this module.\u001b[39m\n",
       "\u001b[33m            recurse (bool): Whether parameters and buffers of submodules should\u001b[39m\n",
       "\u001b[33m                be recursively moved to the specified device.\u001b[39m\n",
       "\n",
       "\u001b[33m        Returns:\u001b[39m\n",
       "\u001b[33m            Module: self\u001b[39m\n",
       "\u001b[33m        \"\"\"\u001b[39m\n",
       "        \u001b[38;5;28;01mreturn\u001b[39;00m self._apply(\n",
       "            \u001b[38;5;28;01mlambda\u001b[39;00m t: torch.empty_like(t, device=device), recurse=recurse\n",
       "        )\n",
       "\n",
       "    @overload\n",
       "    \u001b[38;5;28;01mdef\u001b[39;00m to(\n",
       "        self,\n",
       "        device: Optional[DeviceLikeType] = ...,\n",
       "        dtype: Optional[dtype] = ...,\n",
       "        non_blocking: bool = ...,\n",
       "    ) -> Self:\n",
       "        ...\n",
       "\n",
       "    @overload\n",
       "    \u001b[38;5;28;01mdef\u001b[39;00m to(self, dtype: dtype, non_blocking: bool = ...) -> Self:\n",
       "        ...\n",
       "\n",
       "    @overload\n",
       "    \u001b[38;5;28;01mdef\u001b[39;00m to(self, tensor: Tensor, non_blocking: bool = ...) -> Self:\n",
       "        ...\n",
       "\n",
       "    \u001b[38;5;28;01mdef\u001b[39;00m to(self, *args, **kwargs):\n",
       "        \u001b[33mr\"\"\"Move and/or cast the parameters and buffers.\u001b[39m\n",
       "\n",
       "\u001b[33m        This can be called as\u001b[39m\n",
       "\n",
       "\u001b[33m        .. function:: to(device=None, dtype=None, non_blocking=False)\u001b[39m\n",
       "\u001b[33m           :noindex:\u001b[39m\n",
       "\n",
       "\u001b[33m        .. function:: to(dtype, non_blocking=False)\u001b[39m\n",
       "\u001b[33m           :noindex:\u001b[39m\n",
       "\n",
       "\u001b[33m        .. function:: to(tensor, non_blocking=False)\u001b[39m\n",
       "\u001b[33m           :noindex:\u001b[39m\n",
       "\n",
       "\u001b[33m        .. function:: to(memory_format=torch.channels_last)\u001b[39m\n",
       "\u001b[33m           :noindex:\u001b[39m\n",
       "\n",
       "\u001b[33m        Its signature is similar to :meth:`torch.Tensor.to`, but only accepts\u001b[39m\n",
       "\u001b[33m        floating point or complex :attr:`dtype`\\ s. In addition, this method will\u001b[39m\n",
       "\u001b[33m        only cast the floating point or complex parameters and buffers to :attr:`dtype`\u001b[39m\n",
       "\u001b[33m        (if given). The integral parameters and buffers will be moved\u001b[39m\n",
       "\u001b[33m        :attr:`device`, if that is given, but with dtypes unchanged. When\u001b[39m\n",
       "\u001b[33m        :attr:`non_blocking` is set, it tries to convert/move asynchronously\u001b[39m\n",
       "\u001b[33m        with respect to the host if possible, e.g., moving CPU Tensors with\u001b[39m\n",
       "\u001b[33m        pinned memory to CUDA devices.\u001b[39m\n",
       "\n",
       "\u001b[33m        See below for examples.\u001b[39m\n",
       "\n",
       "\u001b[33m        .. note::\u001b[39m\n",
       "\u001b[33m            This method modifies the module in-place.\u001b[39m\n",
       "\n",
       "\u001b[33m        Args:\u001b[39m\n",
       "\u001b[33m            device (:class:`torch.device`): the desired device of the parameters\u001b[39m\n",
       "\u001b[33m                and buffers in this module\u001b[39m\n",
       "\u001b[33m            dtype (:class:`torch.dtype`): the desired floating point or complex dtype of\u001b[39m\n",
       "\u001b[33m                the parameters and buffers in this module\u001b[39m\n",
       "\u001b[33m            tensor (torch.Tensor): Tensor whose dtype and device are the desired\u001b[39m\n",
       "\u001b[33m                dtype and device for all parameters and buffers in this module\u001b[39m\n",
       "\u001b[33m            memory_format (:class:`torch.memory_format`): the desired memory\u001b[39m\n",
       "\u001b[33m                format for 4D parameters and buffers in this module (keyword\u001b[39m\n",
       "\u001b[33m                only argument)\u001b[39m\n",
       "\n",
       "\u001b[33m        Returns:\u001b[39m\n",
       "\u001b[33m            Module: self\u001b[39m\n",
       "\n",
       "\u001b[33m        Examples::\u001b[39m\n",
       "\n",
       "\u001b[33m            >>> # xdoctest: +IGNORE_WANT(\"non-deterministic\")\u001b[39m\n",
       "\u001b[33m            >>> linear = nn.Linear(2, 2)\u001b[39m\n",
       "\u001b[33m            >>> linear.weight\u001b[39m\n",
       "\u001b[33m            Parameter containing:\u001b[39m\n",
       "\u001b[33m            tensor([[ 0.1913, -0.3420],\u001b[39m\n",
       "\u001b[33m                    [-0.5113, -0.2325]])\u001b[39m\n",
       "\u001b[33m            >>> linear.to(torch.double)\u001b[39m\n",
       "\u001b[33m            Linear(in_features=2, out_features=2, bias=True)\u001b[39m\n",
       "\u001b[33m            >>> linear.weight\u001b[39m\n",
       "\u001b[33m            Parameter containing:\u001b[39m\n",
       "\u001b[33m            tensor([[ 0.1913, -0.3420],\u001b[39m\n",
       "\u001b[33m                    [-0.5113, -0.2325]], dtype=torch.float64)\u001b[39m\n",
       "\u001b[33m            >>> # xdoctest: +REQUIRES(env:TORCH_DOCTEST_CUDA1)\u001b[39m\n",
       "\u001b[33m            >>> gpu1 = torch.device(\"cuda:1\")\u001b[39m\n",
       "\u001b[33m            >>> linear.to(gpu1, dtype=torch.half, non_blocking=True)\u001b[39m\n",
       "\u001b[33m            Linear(in_features=2, out_features=2, bias=True)\u001b[39m\n",
       "\u001b[33m            >>> linear.weight\u001b[39m\n",
       "\u001b[33m            Parameter containing:\u001b[39m\n",
       "\u001b[33m            tensor([[ 0.1914, -0.3420],\u001b[39m\n",
       "\u001b[33m                    [-0.5112, -0.2324]], dtype=torch.float16, device='cuda:1')\u001b[39m\n",
       "\u001b[33m            >>> cpu = torch.device(\"cpu\")\u001b[39m\n",
       "\u001b[33m            >>> linear.to(cpu)\u001b[39m\n",
       "\u001b[33m            Linear(in_features=2, out_features=2, bias=True)\u001b[39m\n",
       "\u001b[33m            >>> linear.weight\u001b[39m\n",
       "\u001b[33m            Parameter containing:\u001b[39m\n",
       "\u001b[33m            tensor([[ 0.1914, -0.3420],\u001b[39m\n",
       "\u001b[33m                    [-0.5112, -0.2324]], dtype=torch.float16)\u001b[39m\n",
       "\n",
       "\u001b[33m            >>> linear = nn.Linear(2, 2, bias=None).to(torch.cdouble)\u001b[39m\n",
       "\u001b[33m            >>> linear.weight\u001b[39m\n",
       "\u001b[33m            Parameter containing:\u001b[39m\n",
       "\u001b[33m            tensor([[ 0.3741+0.j,  0.2382+0.j],\u001b[39m\n",
       "\u001b[33m                    [ 0.5593+0.j, -0.4443+0.j]], dtype=torch.complex128)\u001b[39m\n",
       "\u001b[33m            >>> linear(torch.ones(3, 2, dtype=torch.cdouble))\u001b[39m\n",
       "\u001b[33m            tensor([[0.6122+0.j, 0.1150+0.j],\u001b[39m\n",
       "\u001b[33m                    [0.6122+0.j, 0.1150+0.j],\u001b[39m\n",
       "\u001b[33m                    [0.6122+0.j, 0.1150+0.j]], dtype=torch.complex128)\u001b[39m\n",
       "\n",
       "\u001b[33m        \"\"\"\u001b[39m\n",
       "        device, dtype, non_blocking, convert_to_format = torch._C._nn._parse_to(\n",
       "            *args, **kwargs\n",
       "        )\n",
       "\n",
       "        \u001b[38;5;28;01mif\u001b[39;00m dtype \u001b[38;5;28;01mis\u001b[39;00m \u001b[38;5;28;01mnot\u001b[39;00m \u001b[38;5;28;01mNone\u001b[39;00m:\n",
       "            \u001b[38;5;28;01mif\u001b[39;00m \u001b[38;5;28;01mnot\u001b[39;00m (dtype.is_floating_point \u001b[38;5;28;01mor\u001b[39;00m dtype.is_complex):\n",
       "                \u001b[38;5;28;01mraise\u001b[39;00m TypeError(\n",
       "                    \u001b[33m\"nn.Module.to only accepts floating point or complex \"\u001b[39m\n",
       "                    f\"dtypes, but got desired dtype={dtype}\"\n",
       "                )\n",
       "            \u001b[38;5;28;01mif\u001b[39;00m dtype.is_complex:\n",
       "                warnings.warn(\n",
       "                    \u001b[33m\"Complex modules are a new feature under active development whose design may change, \"\u001b[39m\n",
       "                    \u001b[33m\"and some modules might not work as expected when using complex tensors as parameters or buffers. \"\u001b[39m\n",
       "                    \u001b[33m\"Please file an issue at https://github.com/pytorch/pytorch/issues/new?template=bug-report.yml \"\u001b[39m\n",
       "                    \u001b[33m\"if a complex module does not work as expected.\"\u001b[39m\n",
       "                )\n",
       "\n",
       "        \u001b[38;5;28;01mdef\u001b[39;00m convert(t):\n",
       "            \u001b[38;5;28;01mtry\u001b[39;00m:\n",
       "                \u001b[38;5;28;01mif\u001b[39;00m convert_to_format \u001b[38;5;28;01mis\u001b[39;00m \u001b[38;5;28;01mnot\u001b[39;00m \u001b[38;5;28;01mNone\u001b[39;00m \u001b[38;5;28;01mand\u001b[39;00m t.dim() \u001b[38;5;28;01min\u001b[39;00m (\u001b[32m4\u001b[39m, \u001b[32m5\u001b[39m):\n",
       "                    \u001b[38;5;28;01mreturn\u001b[39;00m t.to(\n",
       "                        device,\n",
       "                        dtype \u001b[38;5;28;01mif\u001b[39;00m t.is_floating_point() \u001b[38;5;28;01mor\u001b[39;00m t.is_complex() \u001b[38;5;28;01melse\u001b[39;00m \u001b[38;5;28;01mNone\u001b[39;00m,\n",
       "                        non_blocking,\n",
       "                        memory_format=convert_to_format,\n",
       "                    )\n",
       "                \u001b[38;5;28;01mreturn\u001b[39;00m t.to(\n",
       "                    device,\n",
       "                    dtype \u001b[38;5;28;01mif\u001b[39;00m t.is_floating_point() \u001b[38;5;28;01mor\u001b[39;00m t.is_complex() \u001b[38;5;28;01melse\u001b[39;00m \u001b[38;5;28;01mNone\u001b[39;00m,\n",
       "                    non_blocking,\n",
       "                )\n",
       "            \u001b[38;5;28;01mexcept\u001b[39;00m NotImplementedError \u001b[38;5;28;01mas\u001b[39;00m e:\n",
       "                \u001b[38;5;28;01mif\u001b[39;00m str(e) == \u001b[33m\"Cannot copy out of meta tensor; no data!\"\u001b[39m:\n",
       "                    \u001b[38;5;28;01mraise\u001b[39;00m NotImplementedError(\n",
       "                        f\"{e} Please use torch.nn.Module.to_empty() instead of torch.nn.Module.to() \"\n",
       "                        f\"when moving module from meta to a different device.\"\n",
       "                    ) \u001b[38;5;28;01mfrom\u001b[39;00m \u001b[38;5;28;01mNone\u001b[39;00m\n",
       "                \u001b[38;5;28;01melse\u001b[39;00m:\n",
       "                    \u001b[38;5;28;01mraise\u001b[39;00m\n",
       "\n",
       "        \u001b[38;5;28;01mreturn\u001b[39;00m self._apply(convert)\n",
       "\n",
       "    \u001b[38;5;28;01mdef\u001b[39;00m register_full_backward_pre_hook(\n",
       "        self,\n",
       "        hook: Callable[[\u001b[33m\"Module\"\u001b[39m, _grad_t], Union[\u001b[38;5;28;01mNone\u001b[39;00m, _grad_t]],\n",
       "        prepend: bool = \u001b[38;5;28;01mFalse\u001b[39;00m,\n",
       "    ) -> RemovableHandle:\n",
       "        \u001b[33mr\"\"\"Register a backward pre-hook on the module.\u001b[39m\n",
       "\n",
       "\u001b[33m        The hook will be called every time the gradients for the module are computed.\u001b[39m\n",
       "\u001b[33m        The hook should have the following signature::\u001b[39m\n",
       "\n",
       "\u001b[33m            hook(module, grad_output) -> tuple[Tensor] or None\u001b[39m\n",
       "\n",
       "\u001b[33m        The :attr:`grad_output` is a tuple. The hook should\u001b[39m\n",
       "\u001b[33m        not modify its arguments, but it can optionally return a new gradient with\u001b[39m\n",
       "\u001b[33m        respect to the output that will be used in place of :attr:`grad_output` in\u001b[39m\n",
       "\u001b[33m        subsequent computations. Entries in :attr:`grad_output` will be ``None`` for\u001b[39m\n",
       "\u001b[33m        all non-Tensor arguments.\u001b[39m\n",
       "\n",
       "\u001b[33m        For technical reasons, when this hook is applied to a Module, its forward function will\u001b[39m\n",
       "\u001b[33m        receive a view of each Tensor passed to the Module. Similarly the caller will receive a view\u001b[39m\n",
       "\u001b[33m        of each Tensor returned by the Module's forward function.\u001b[39m\n",
       "\n",
       "\u001b[33m        .. warning ::\u001b[39m\n",
       "\u001b[33m            Modifying inputs inplace is not allowed when using backward hooks and\u001b[39m\n",
       "\u001b[33m            will raise an error.\u001b[39m\n",
       "\n",
       "\u001b[33m        Args:\u001b[39m\n",
       "\u001b[33m            hook (Callable): The user-defined hook to be registered.\u001b[39m\n",
       "\u001b[33m            prepend (bool): If true, the provided ``hook`` will be fired before\u001b[39m\n",
       "\u001b[33m                all existing ``backward_pre`` hooks on this\u001b[39m\n",
       "\u001b[33m                :class:`torch.nn.Module`. Otherwise, the provided\u001b[39m\n",
       "\u001b[33m                ``hook`` will be fired after all existing ``backward_pre`` hooks\u001b[39m\n",
       "\u001b[33m                on this :class:`torch.nn.Module`. Note that global\u001b[39m\n",
       "\u001b[33m                ``backward_pre`` hooks registered with\u001b[39m\n",
       "\u001b[33m                :func:`register_module_full_backward_pre_hook` will fire before\u001b[39m\n",
       "\u001b[33m                all hooks registered by this method.\u001b[39m\n",
       "\n",
       "\u001b[33m        Returns:\u001b[39m\n",
       "\u001b[33m            :class:`torch.utils.hooks.RemovableHandle`:\u001b[39m\n",
       "\u001b[33m                a handle that can be used to remove the added hook by calling\u001b[39m\n",
       "\u001b[33m                ``handle.remove()``\u001b[39m\n",
       "\n",
       "\u001b[33m        \"\"\"\u001b[39m\n",
       "        handle = RemovableHandle(self._backward_pre_hooks)\n",
       "        self._backward_pre_hooks[handle.id] = hook\n",
       "        \u001b[38;5;28;01mif\u001b[39;00m prepend:\n",
       "            self._backward_pre_hooks.move_to_end(handle.id, last=\u001b[38;5;28;01mFalse\u001b[39;00m)  \u001b[38;5;66;03m# type: ignore[attr-defined]\u001b[39;00m\n",
       "        \u001b[38;5;28;01mreturn\u001b[39;00m handle\n",
       "\n",
       "    \u001b[38;5;28;01mdef\u001b[39;00m register_backward_hook(\n",
       "        self, hook: Callable[[\u001b[33m\"Module\"\u001b[39m, _grad_t, _grad_t], Union[\u001b[38;5;28;01mNone\u001b[39;00m, _grad_t]]\n",
       "    ) -> RemovableHandle:\n",
       "        \u001b[33mr\"\"\"Register a backward hook on the module.\u001b[39m\n",
       "\n",
       "\u001b[33m        This function is deprecated in favor of :meth:`~torch.nn.Module.register_full_backward_hook` and\u001b[39m\n",
       "\u001b[33m        the behavior of this function will change in future versions.\u001b[39m\n",
       "\n",
       "\u001b[33m        Returns:\u001b[39m\n",
       "\u001b[33m            :class:`torch.utils.hooks.RemovableHandle`:\u001b[39m\n",
       "\u001b[33m                a handle that can be used to remove the added hook by calling\u001b[39m\n",
       "\u001b[33m                ``handle.remove()``\u001b[39m\n",
       "\n",
       "\u001b[33m        \"\"\"\u001b[39m\n",
       "        \u001b[38;5;28;01mif\u001b[39;00m self._is_full_backward_hook \u001b[38;5;28;01mis\u001b[39;00m \u001b[38;5;28;01mTrue\u001b[39;00m:\n",
       "            \u001b[38;5;28;01mraise\u001b[39;00m RuntimeError(\n",
       "                \u001b[33m\"Cannot use both regular backward hooks and full backward hooks on a \"\u001b[39m\n",
       "                \u001b[33m\"single Module. Please use only one of them.\"\u001b[39m\n",
       "            )\n",
       "\n",
       "        self._is_full_backward_hook = \u001b[38;5;28;01mFalse\u001b[39;00m\n",
       "\n",
       "        handle = RemovableHandle(self._backward_hooks)\n",
       "        self._backward_hooks[handle.id] = hook\n",
       "        \u001b[38;5;28;01mreturn\u001b[39;00m handle\n",
       "\n",
       "    \u001b[38;5;28;01mdef\u001b[39;00m register_full_backward_hook(\n",
       "        self,\n",
       "        hook: Callable[[\u001b[33m\"Module\"\u001b[39m, _grad_t, _grad_t], Union[\u001b[38;5;28;01mNone\u001b[39;00m, _grad_t]],\n",
       "        prepend: bool = \u001b[38;5;28;01mFalse\u001b[39;00m,\n",
       "    ) -> RemovableHandle:\n",
       "        \u001b[33mr\"\"\"Register a backward hook on the module.\u001b[39m\n",
       "\n",
       "\u001b[33m        The hook will be called every time the gradients with respect to a module\u001b[39m\n",
       "\u001b[33m        are computed, i.e. the hook will execute if and only if the gradients with\u001b[39m\n",
       "\u001b[33m        respect to module outputs are computed. The hook should have the following\u001b[39m\n",
       "\u001b[33m        signature::\u001b[39m\n",
       "\n",
       "\u001b[33m            hook(module, grad_input, grad_output) -> tuple(Tensor) or None\u001b[39m\n",
       "\n",
       "\u001b[33m        The :attr:`grad_input` and :attr:`grad_output` are tuples that contain the gradients\u001b[39m\n",
       "\u001b[33m        with respect to the inputs and outputs respectively. The hook should\u001b[39m\n",
       "\u001b[33m        not modify its arguments, but it can optionally return a new gradient with\u001b[39m\n",
       "\u001b[33m        respect to the input that will be used in place of :attr:`grad_input` in\u001b[39m\n",
       "\u001b[33m        subsequent computations. :attr:`grad_input` will only correspond to the inputs given\u001b[39m\n",
       "\u001b[33m        as positional arguments and all kwarg arguments are ignored. Entries\u001b[39m\n",
       "\u001b[33m        in :attr:`grad_input` and :attr:`grad_output` will be ``None`` for all non-Tensor\u001b[39m\n",
       "\u001b[33m        arguments.\u001b[39m\n",
       "\n",
       "\u001b[33m        For technical reasons, when this hook is applied to a Module, its forward function will\u001b[39m\n",
       "\u001b[33m        receive a view of each Tensor passed to the Module. Similarly the caller will receive a view\u001b[39m\n",
       "\u001b[33m        of each Tensor returned by the Module's forward function.\u001b[39m\n",
       "\n",
       "\u001b[33m        .. warning ::\u001b[39m\n",
       "\u001b[33m            Modifying inputs or outputs inplace is not allowed when using backward hooks and\u001b[39m\n",
       "\u001b[33m            will raise an error.\u001b[39m\n",
       "\n",
       "\u001b[33m        Args:\u001b[39m\n",
       "\u001b[33m            hook (Callable): The user-defined hook to be registered.\u001b[39m\n",
       "\u001b[33m            prepend (bool): If true, the provided ``hook`` will be fired before\u001b[39m\n",
       "\u001b[33m                all existing ``backward`` hooks on this\u001b[39m\n",
       "\u001b[33m                :class:`torch.nn.Module`. Otherwise, the provided\u001b[39m\n",
       "\u001b[33m                ``hook`` will be fired after all existing ``backward`` hooks on\u001b[39m\n",
       "\u001b[33m                this :class:`torch.nn.Module`. Note that global\u001b[39m\n",
       "\u001b[33m                ``backward`` hooks registered with\u001b[39m\n",
       "\u001b[33m                :func:`register_module_full_backward_hook` will fire before\u001b[39m\n",
       "\u001b[33m                all hooks registered by this method.\u001b[39m\n",
       "\n",
       "\u001b[33m        Returns:\u001b[39m\n",
       "\u001b[33m            :class:`torch.utils.hooks.RemovableHandle`:\u001b[39m\n",
       "\u001b[33m                a handle that can be used to remove the added hook by calling\u001b[39m\n",
       "\u001b[33m                ``handle.remove()``\u001b[39m\n",
       "\n",
       "\u001b[33m        \"\"\"\u001b[39m\n",
       "        \u001b[38;5;28;01mif\u001b[39;00m self._is_full_backward_hook \u001b[38;5;28;01mis\u001b[39;00m \u001b[38;5;28;01mFalse\u001b[39;00m:\n",
       "            \u001b[38;5;28;01mraise\u001b[39;00m RuntimeError(\n",
       "                \u001b[33m\"Cannot use both regular backward hooks and full backward hooks on a \"\u001b[39m\n",
       "                \u001b[33m\"single Module. Please use only one of them.\"\u001b[39m\n",
       "            )\n",
       "\n",
       "        self._is_full_backward_hook = \u001b[38;5;28;01mTrue\u001b[39;00m\n",
       "\n",
       "        handle = RemovableHandle(self._backward_hooks)\n",
       "        self._backward_hooks[handle.id] = hook\n",
       "        \u001b[38;5;28;01mif\u001b[39;00m prepend:\n",
       "            self._backward_hooks.move_to_end(handle.id, last=\u001b[38;5;28;01mFalse\u001b[39;00m)  \u001b[38;5;66;03m# type: ignore[attr-defined]\u001b[39;00m\n",
       "        \u001b[38;5;28;01mreturn\u001b[39;00m handle\n",
       "\n",
       "    \u001b[38;5;28;01mdef\u001b[39;00m _get_backward_hooks(self):\n",
       "        \u001b[33mr\"\"\"Return the backward hooks for use in the call function.\u001b[39m\n",
       "\n",
       "\u001b[33m        It returns two lists, one with the full backward hooks and one with the non-full\u001b[39m\n",
       "\u001b[33m        backward hooks.\u001b[39m\n",
       "\u001b[33m        \"\"\"\u001b[39m\n",
       "        full_backward_hooks: list[Callable] = []\n",
       "        \u001b[38;5;28;01mif\u001b[39;00m _global_is_full_backward_hook \u001b[38;5;28;01mis\u001b[39;00m \u001b[38;5;28;01mTrue\u001b[39;00m:\n",
       "            full_backward_hooks += _global_backward_hooks.values()\n",
       "        \u001b[38;5;28;01mif\u001b[39;00m self._is_full_backward_hook \u001b[38;5;28;01mis\u001b[39;00m \u001b[38;5;28;01mTrue\u001b[39;00m:\n",
       "            full_backward_hooks += self._backward_hooks.values()\n",
       "\n",
       "        non_full_backward_hooks: list[Callable] = []\n",
       "        \u001b[38;5;28;01mif\u001b[39;00m _global_is_full_backward_hook \u001b[38;5;28;01mis\u001b[39;00m \u001b[38;5;28;01mFalse\u001b[39;00m:\n",
       "            non_full_backward_hooks += _global_backward_hooks.values()\n",
       "        \u001b[38;5;28;01mif\u001b[39;00m self._is_full_backward_hook \u001b[38;5;28;01mis\u001b[39;00m \u001b[38;5;28;01mFalse\u001b[39;00m:\n",
       "            non_full_backward_hooks += self._backward_hooks.values()\n",
       "\n",
       "        \u001b[38;5;28;01mreturn\u001b[39;00m full_backward_hooks, non_full_backward_hooks\n",
       "\n",
       "    \u001b[38;5;28;01mdef\u001b[39;00m _get_backward_pre_hooks(self):\n",
       "        backward_pre_hooks: list[Callable] = []\n",
       "        backward_pre_hooks += _global_backward_pre_hooks.values()\n",
       "        backward_pre_hooks += self._backward_pre_hooks.values()\n",
       "\n",
       "        \u001b[38;5;28;01mreturn\u001b[39;00m backward_pre_hooks\n",
       "\n",
       "    \u001b[38;5;28;01mdef\u001b[39;00m _maybe_warn_non_full_backward_hook(self, inputs, result, grad_fn):\n",
       "        \u001b[38;5;28;01mif\u001b[39;00m \u001b[38;5;28;01mnot\u001b[39;00m isinstance(result, torch.Tensor):\n",
       "            \u001b[38;5;28;01mif\u001b[39;00m \u001b[38;5;28;01mnot\u001b[39;00m (\n",
       "                isinstance(result, tuple)\n",
       "                \u001b[38;5;28;01mand\u001b[39;00m all(isinstance(r, torch.Tensor) \u001b[38;5;28;01mfor\u001b[39;00m r \u001b[38;5;28;01min\u001b[39;00m result)\n",
       "            ):\n",
       "                warnings.warn(\n",
       "                    \u001b[33m\"Using non-full backward hooks on a Module that does not return a \"\u001b[39m\n",
       "                    \u001b[33m\"single Tensor or a tuple of Tensors is deprecated and will be removed \"\u001b[39m\n",
       "                    \u001b[33m\"in future versions. This hook will be missing some of the grad_output. \"\u001b[39m\n",
       "                    \u001b[33m\"Please use register_full_backward_hook to get the documented behavior.\"\u001b[39m,\n",
       "                    FutureWarning,\n",
       "                    stacklevel=\u001b[32m2\u001b[39m,\n",
       "                )\n",
       "                \u001b[38;5;28;01mreturn\u001b[39;00m\n",
       "        \u001b[38;5;28;01melse\u001b[39;00m:\n",
       "            result = (result,)\n",
       "\n",
       "        \u001b[38;5;28;01mif\u001b[39;00m \u001b[38;5;28;01mnot\u001b[39;00m isinstance(inputs, torch.Tensor):\n",
       "            \u001b[38;5;28;01mif\u001b[39;00m \u001b[38;5;28;01mnot\u001b[39;00m (\n",
       "                isinstance(inputs, tuple)\n",
       "                \u001b[38;5;28;01mand\u001b[39;00m all(isinstance(i, torch.Tensor) \u001b[38;5;28;01mfor\u001b[39;00m i \u001b[38;5;28;01min\u001b[39;00m inputs)\n",
       "            ):\n",
       "                warnings.warn(\n",
       "                    \u001b[33m\"Using non-full backward hooks on a Module that does not take as input a \"\u001b[39m\n",
       "                    \u001b[33m\"single Tensor or a tuple of Tensors is deprecated and will be removed \"\u001b[39m\n",
       "                    \u001b[33m\"in future versions. This hook will be missing some of the grad_input. \"\u001b[39m\n",
       "                    \u001b[33m\"Please use register_full_backward_hook to get the documented behavior.\"\u001b[39m,\n",
       "                    FutureWarning,\n",
       "                    stacklevel=\u001b[32m2\u001b[39m,\n",
       "                )\n",
       "                \u001b[38;5;28;01mreturn\u001b[39;00m\n",
       "        \u001b[38;5;28;01melse\u001b[39;00m:\n",
       "            inputs = (inputs,)\n",
       "\n",
       "        \u001b[38;5;66;03m# At this point we are sure that inputs and result are tuple of Tensors\u001b[39;00m\n",
       "        out_grad_fn = {r.grad_fn \u001b[38;5;28;01mfor\u001b[39;00m r \u001b[38;5;28;01min\u001b[39;00m result \u001b[38;5;28;01mif\u001b[39;00m r.grad_fn \u001b[38;5;28;01mis\u001b[39;00m \u001b[38;5;28;01mnot\u001b[39;00m \u001b[38;5;28;01mNone\u001b[39;00m}\n",
       "        \u001b[38;5;28;01mif\u001b[39;00m len(out_grad_fn) == \u001b[32m0\u001b[39m \u001b[38;5;28;01mor\u001b[39;00m (\n",
       "            len(out_grad_fn) == \u001b[32m1\u001b[39m \u001b[38;5;28;01mand\u001b[39;00m grad_fn \u001b[38;5;28;01mnot\u001b[39;00m \u001b[38;5;28;01min\u001b[39;00m out_grad_fn\n",
       "        ):\n",
       "            warnings.warn(\n",
       "                \u001b[33m\"Using a non-full backward hook when outputs are nested in python data structure \"\u001b[39m\n",
       "                \u001b[33m\"is deprecated and will be removed in future versions. This hook will be missing \"\u001b[39m\n",
       "                \u001b[33m\"some grad_output.\"\u001b[39m,\n",
       "                FutureWarning,\n",
       "                stacklevel=\u001b[32m2\u001b[39m,\n",
       "            )\n",
       "        \u001b[38;5;28;01melif\u001b[39;00m len(out_grad_fn) > \u001b[32m1\u001b[39m:\n",
       "            warnings.warn(\n",
       "                \u001b[33m\"Using a non-full backward hook when outputs are generated by different autograd Nodes \"\u001b[39m\n",
       "                \u001b[33m\"is deprecated and will be removed in future versions. This hook will be missing \"\u001b[39m\n",
       "                \u001b[33m\"some grad_output. Please use register_full_backward_hook to get the documented behavior.\"\u001b[39m,\n",
       "                FutureWarning,\n",
       "                stacklevel=\u001b[32m2\u001b[39m,\n",
       "            )\n",
       "        \u001b[38;5;28;01melse\u001b[39;00m:\n",
       "            \u001b[38;5;66;03m# At this point the grad_output part of the hook will most likely be correct\u001b[39;00m\n",
       "            inputs_grad_fn = {i.grad_fn \u001b[38;5;28;01mfor\u001b[39;00m i \u001b[38;5;28;01min\u001b[39;00m inputs \u001b[38;5;28;01mif\u001b[39;00m i.grad_fn \u001b[38;5;28;01mis\u001b[39;00m \u001b[38;5;28;01mnot\u001b[39;00m \u001b[38;5;28;01mNone\u001b[39;00m}\n",
       "\n",
       "            next_functions = {n[\u001b[32m0\u001b[39m] \u001b[38;5;28;01mfor\u001b[39;00m n \u001b[38;5;28;01min\u001b[39;00m grad_fn.next_functions}\n",
       "\n",
       "            \u001b[38;5;28;01mif\u001b[39;00m inputs_grad_fn != next_functions:\n",
       "                warnings.warn(\n",
       "                    \u001b[33m\"Using a non-full backward hook when the forward contains multiple autograd Nodes \"\u001b[39m\n",
       "                    \u001b[33m\"is deprecated and will be removed in future versions. This hook will be missing \"\u001b[39m\n",
       "                    \u001b[33m\"some grad_input. Please use register_full_backward_hook to get the documented \"\u001b[39m\n",
       "                    \u001b[33m\"behavior.\"\u001b[39m,\n",
       "                    FutureWarning,\n",
       "                    stacklevel=\u001b[32m2\u001b[39m,\n",
       "                )\n",
       "\n",
       "    \u001b[38;5;28;01mdef\u001b[39;00m register_forward_pre_hook(\n",
       "        self,\n",
       "        hook: Union[\n",
       "            Callable[[T, tuple[Any, ...]], Optional[Any]],\n",
       "            Callable[\n",
       "                [T, tuple[Any, ...], dict[str, Any]],\n",
       "                Optional[tuple[Any, dict[str, Any]]],\n",
       "            ],\n",
       "        ],\n",
       "        *,\n",
       "        prepend: bool = \u001b[38;5;28;01mFalse\u001b[39;00m,\n",
       "        with_kwargs: bool = \u001b[38;5;28;01mFalse\u001b[39;00m,\n",
       "    ) -> RemovableHandle:\n",
       "        \u001b[33mr\"\"\"Register a forward pre-hook on the module.\u001b[39m\n",
       "\n",
       "\u001b[33m        The hook will be called every time before :func:`forward` is invoked.\u001b[39m\n",
       "\n",
       "\n",
       "\u001b[33m        If ``with_kwargs`` is false or not specified, the input contains only\u001b[39m\n",
       "\u001b[33m        the positional arguments given to the module. Keyword arguments won't be\u001b[39m\n",
       "\u001b[33m        passed to the hooks and only to the ``forward``. The hook can modify the\u001b[39m\n",
       "\u001b[33m        input. User can either return a tuple or a single modified value in the\u001b[39m\n",
       "\u001b[33m        hook. We will wrap the value into a tuple if a single value is returned\u001b[39m\n",
       "\u001b[33m        (unless that value is already a tuple). The hook should have the\u001b[39m\n",
       "\u001b[33m        following signature::\u001b[39m\n",
       "\n",
       "\u001b[33m            hook(module, args) -> None or modified input\u001b[39m\n",
       "\n",
       "\u001b[33m        If ``with_kwargs`` is true, the forward pre-hook will be passed the\u001b[39m\n",
       "\u001b[33m        kwargs given to the forward function. And if the hook modifies the\u001b[39m\n",
       "\u001b[33m        input, both the args and kwargs should be returned. The hook should have\u001b[39m\n",
       "\u001b[33m        the following signature::\u001b[39m\n",
       "\n",
       "\u001b[33m            hook(module, args, kwargs) -> None or a tuple of modified input and kwargs\u001b[39m\n",
       "\n",
       "\u001b[33m        Args:\u001b[39m\n",
       "\u001b[33m            hook (Callable): The user defined hook to be registered.\u001b[39m\n",
       "\u001b[33m            prepend (bool): If true, the provided ``hook`` will be fired before\u001b[39m\n",
       "\u001b[33m                all existing ``forward_pre`` hooks on this\u001b[39m\n",
       "\u001b[33m                :class:`torch.nn.Module`. Otherwise, the provided\u001b[39m\n",
       "\u001b[33m                ``hook`` will be fired after all existing ``forward_pre`` hooks\u001b[39m\n",
       "\u001b[33m                on this :class:`torch.nn.Module`. Note that global\u001b[39m\n",
       "\u001b[33m                ``forward_pre`` hooks registered with\u001b[39m\n",
       "\u001b[33m                :func:`register_module_forward_pre_hook` will fire before all\u001b[39m\n",
       "\u001b[33m                hooks registered by this method.\u001b[39m\n",
       "\u001b[33m                Default: ``False``\u001b[39m\n",
       "\u001b[33m            with_kwargs (bool): If true, the ``hook`` will be passed the kwargs\u001b[39m\n",
       "\u001b[33m                given to the forward function.\u001b[39m\n",
       "\u001b[33m                Default: ``False``\u001b[39m\n",
       "\n",
       "\u001b[33m        Returns:\u001b[39m\n",
       "\u001b[33m            :class:`torch.utils.hooks.RemovableHandle`:\u001b[39m\n",
       "\u001b[33m                a handle that can be used to remove the added hook by calling\u001b[39m\n",
       "\u001b[33m                ``handle.remove()``\u001b[39m\n",
       "\u001b[33m        \"\"\"\u001b[39m\n",
       "        handle = RemovableHandle(\n",
       "            self._forward_pre_hooks, extra_dict=self._forward_pre_hooks_with_kwargs\n",
       "        )\n",
       "        self._forward_pre_hooks[handle.id] = hook\n",
       "        \u001b[38;5;28;01mif\u001b[39;00m with_kwargs:\n",
       "            self._forward_pre_hooks_with_kwargs[handle.id] = \u001b[38;5;28;01mTrue\u001b[39;00m\n",
       "\n",
       "        \u001b[38;5;28;01mif\u001b[39;00m prepend:\n",
       "            self._forward_pre_hooks.move_to_end(handle.id, last=\u001b[38;5;28;01mFalse\u001b[39;00m)  \u001b[38;5;66;03m# type: ignore[attr-defined]\u001b[39;00m\n",
       "        \u001b[38;5;28;01mreturn\u001b[39;00m handle\n",
       "\n",
       "    \u001b[38;5;28;01mdef\u001b[39;00m register_forward_hook(\n",
       "        self,\n",
       "        hook: Union[\n",
       "            Callable[[T, tuple[Any, ...], Any], Optional[Any]],\n",
       "            Callable[[T, tuple[Any, ...], dict[str, Any], Any], Optional[Any]],\n",
       "        ],\n",
       "        *,\n",
       "        prepend: bool = \u001b[38;5;28;01mFalse\u001b[39;00m,\n",
       "        with_kwargs: bool = \u001b[38;5;28;01mFalse\u001b[39;00m,\n",
       "        always_call: bool = \u001b[38;5;28;01mFalse\u001b[39;00m,\n",
       "    ) -> RemovableHandle:\n",
       "        \u001b[33mr\"\"\"Register a forward hook on the module.\u001b[39m\n",
       "\n",
       "\u001b[33m        The hook will be called every time after :func:`forward` has computed an output.\u001b[39m\n",
       "\n",
       "\u001b[33m        If ``with_kwargs`` is ``False`` or not specified, the input contains only\u001b[39m\n",
       "\u001b[33m        the positional arguments given to the module. Keyword arguments won't be\u001b[39m\n",
       "\u001b[33m        passed to the hooks and only to the ``forward``. The hook can modify the\u001b[39m\n",
       "\u001b[33m        output. It can modify the input inplace but it will not have effect on\u001b[39m\n",
       "\u001b[33m        forward since this is called after :func:`forward` is called. The hook\u001b[39m\n",
       "\u001b[33m        should have the following signature::\u001b[39m\n",
       "\n",
       "\u001b[33m            hook(module, args, output) -> None or modified output\u001b[39m\n",
       "\n",
       "\u001b[33m        If ``with_kwargs`` is ``True``, the forward hook will be passed the\u001b[39m\n",
       "\u001b[33m        ``kwargs`` given to the forward function and be expected to return the\u001b[39m\n",
       "\u001b[33m        output possibly modified. The hook should have the following signature::\u001b[39m\n",
       "\n",
       "\u001b[33m            hook(module, args, kwargs, output) -> None or modified output\u001b[39m\n",
       "\n",
       "\u001b[33m        Args:\u001b[39m\n",
       "\u001b[33m            hook (Callable): The user defined hook to be registered.\u001b[39m\n",
       "\u001b[33m            prepend (bool): If ``True``, the provided ``hook`` will be fired\u001b[39m\n",
       "\u001b[33m                before all existing ``forward`` hooks on this\u001b[39m\n",
       "\u001b[33m                :class:`torch.nn.Module`. Otherwise, the provided\u001b[39m\n",
       "\u001b[33m                ``hook`` will be fired after all existing ``forward`` hooks on\u001b[39m\n",
       "\u001b[33m                this :class:`torch.nn.Module`. Note that global\u001b[39m\n",
       "\u001b[33m                ``forward`` hooks registered with\u001b[39m\n",
       "\u001b[33m                :func:`register_module_forward_hook` will fire before all hooks\u001b[39m\n",
       "\u001b[33m                registered by this method.\u001b[39m\n",
       "\u001b[33m                Default: ``False``\u001b[39m\n",
       "\u001b[33m            with_kwargs (bool): If ``True``, the ``hook`` will be passed the\u001b[39m\n",
       "\u001b[33m                kwargs given to the forward function.\u001b[39m\n",
       "\u001b[33m                Default: ``False``\u001b[39m\n",
       "\u001b[33m            always_call (bool): If ``True`` the ``hook`` will be run regardless of\u001b[39m\n",
       "\u001b[33m                whether an exception is raised while calling the Module.\u001b[39m\n",
       "\u001b[33m                Default: ``False``\u001b[39m\n",
       "\n",
       "\u001b[33m        Returns:\u001b[39m\n",
       "\u001b[33m            :class:`torch.utils.hooks.RemovableHandle`:\u001b[39m\n",
       "\u001b[33m                a handle that can be used to remove the added hook by calling\u001b[39m\n",
       "\u001b[33m                ``handle.remove()``\u001b[39m\n",
       "\u001b[33m        \"\"\"\u001b[39m\n",
       "        handle = RemovableHandle(\n",
       "            self._forward_hooks,\n",
       "            extra_dict=[\n",
       "                self._forward_hooks_with_kwargs,\n",
       "                self._forward_hooks_always_called,\n",
       "            ],\n",
       "        )\n",
       "        self._forward_hooks[handle.id] = hook\n",
       "        \u001b[38;5;28;01mif\u001b[39;00m with_kwargs:\n",
       "            self._forward_hooks_with_kwargs[handle.id] = \u001b[38;5;28;01mTrue\u001b[39;00m\n",
       "        \u001b[38;5;28;01mif\u001b[39;00m always_call:\n",
       "            self._forward_hooks_always_called[handle.id] = \u001b[38;5;28;01mTrue\u001b[39;00m\n",
       "        \u001b[38;5;28;01mif\u001b[39;00m prepend:\n",
       "            self._forward_hooks.move_to_end(handle.id, last=\u001b[38;5;28;01mFalse\u001b[39;00m)  \u001b[38;5;66;03m# type: ignore[attr-defined]\u001b[39;00m\n",
       "        \u001b[38;5;28;01mreturn\u001b[39;00m handle\n",
       "\n",
       "    \u001b[38;5;28;01mdef\u001b[39;00m _slow_forward(self, *input, **kwargs):\n",
       "        tracing_state = torch._C._get_tracing_state()\n",
       "        \u001b[38;5;28;01mif\u001b[39;00m \u001b[38;5;28;01mnot\u001b[39;00m tracing_state \u001b[38;5;28;01mor\u001b[39;00m isinstance(self.forward, torch._C.ScriptMethod):\n",
       "            \u001b[38;5;28;01mreturn\u001b[39;00m self.forward(*input, **kwargs)\n",
       "        recording_scopes = torch.jit._trace._trace_module_map \u001b[38;5;28;01mis\u001b[39;00m \u001b[38;5;28;01mnot\u001b[39;00m \u001b[38;5;28;01mNone\u001b[39;00m\n",
       "        \u001b[38;5;28;01mif\u001b[39;00m recording_scopes:\n",
       "            \u001b[38;5;66;03m# type ignore was added because at this point one knows that\u001b[39;00m\n",
       "            \u001b[38;5;66;03m# torch.jit._trace._trace_module_map is not Optional and has type Dict[Any, Any]\u001b[39;00m\n",
       "            name = torch.jit._trace._trace_module_map[self] \u001b[38;5;28;01mif\u001b[39;00m self \u001b[38;5;28;01min\u001b[39;00m torch.jit._trace._trace_module_map \u001b[38;5;28;01melse\u001b[39;00m \u001b[38;5;28;01mNone\u001b[39;00m  \u001b[38;5;66;03m# type: ignore[index, operator] # noqa: B950\u001b[39;00m\n",
       "            \u001b[38;5;28;01mif\u001b[39;00m name:\n",
       "                tracing_state.push_scope(name)\n",
       "            \u001b[38;5;28;01melse\u001b[39;00m:\n",
       "                recording_scopes = \u001b[38;5;28;01mFalse\u001b[39;00m\n",
       "        \u001b[38;5;28;01mtry\u001b[39;00m:\n",
       "            result = self.forward(*input, **kwargs)\n",
       "        \u001b[38;5;28;01mfinally\u001b[39;00m:\n",
       "            \u001b[38;5;28;01mif\u001b[39;00m recording_scopes:\n",
       "                tracing_state.pop_scope()\n",
       "        \u001b[38;5;28;01mreturn\u001b[39;00m result\n",
       "\n",
       "    \u001b[38;5;28;01mdef\u001b[39;00m _wrapped_call_impl(self, *args, **kwargs):\n",
       "        \u001b[38;5;28;01mif\u001b[39;00m self._compiled_call_impl \u001b[38;5;28;01mis\u001b[39;00m \u001b[38;5;28;01mnot\u001b[39;00m \u001b[38;5;28;01mNone\u001b[39;00m:\n",
       "            \u001b[38;5;28;01mreturn\u001b[39;00m self._compiled_call_impl(*args, **kwargs)  \u001b[38;5;66;03m# type: ignore[misc]\u001b[39;00m\n",
       "        \u001b[38;5;28;01melse\u001b[39;00m:\n",
       "            \u001b[38;5;28;01mreturn\u001b[39;00m self._call_impl(*args, **kwargs)\n",
       "\n",
       "    \u001b[38;5;66;03m# torchrec tests the code consistency with the following code\u001b[39;00m\n",
       "    \u001b[38;5;66;03m# fmt: off\u001b[39;00m\n",
       "    \u001b[38;5;28;01mdef\u001b[39;00m _call_impl(self, *args, **kwargs):\n",
       "        forward_call = (self._slow_forward \u001b[38;5;28;01mif\u001b[39;00m torch._C._get_tracing_state() \u001b[38;5;28;01melse\u001b[39;00m self.forward)\n",
       "        \u001b[38;5;66;03m# If we don't have any hooks, we want to skip the rest of the logic in\u001b[39;00m\n",
       "        \u001b[38;5;66;03m# this function, and just call forward.\u001b[39;00m\n",
       "        \u001b[38;5;28;01mif\u001b[39;00m \u001b[38;5;28;01mnot\u001b[39;00m (self._backward_hooks \u001b[38;5;28;01mor\u001b[39;00m self._backward_pre_hooks \u001b[38;5;28;01mor\u001b[39;00m self._forward_hooks \u001b[38;5;28;01mor\u001b[39;00m self._forward_pre_hooks\n",
       "                \u001b[38;5;28;01mor\u001b[39;00m _global_backward_pre_hooks \u001b[38;5;28;01mor\u001b[39;00m _global_backward_hooks\n",
       "                \u001b[38;5;28;01mor\u001b[39;00m _global_forward_hooks \u001b[38;5;28;01mor\u001b[39;00m _global_forward_pre_hooks):\n",
       "            \u001b[38;5;28;01mreturn\u001b[39;00m forward_call(*args, **kwargs)\n",
       "\n",
       "        result = \u001b[38;5;28;01mNone\u001b[39;00m\n",
       "        called_always_called_hooks = set()\n",
       "\n",
       "        \u001b[38;5;28;01mdef\u001b[39;00m inner():\n",
       "            \u001b[38;5;28;01mnonlocal\u001b[39;00m result, args, kwargs\n",
       "\n",
       "            full_backward_hooks, non_full_backward_hooks = [], []\n",
       "            backward_pre_hooks = []\n",
       "            \u001b[38;5;28;01mif\u001b[39;00m self._backward_pre_hooks \u001b[38;5;28;01mor\u001b[39;00m _global_backward_pre_hooks:\n",
       "                backward_pre_hooks = self._get_backward_pre_hooks()\n",
       "\n",
       "            \u001b[38;5;28;01mif\u001b[39;00m self._backward_hooks \u001b[38;5;28;01mor\u001b[39;00m _global_backward_hooks:\n",
       "                full_backward_hooks, non_full_backward_hooks = self._get_backward_hooks()\n",
       "\n",
       "            \u001b[38;5;28;01mif\u001b[39;00m _global_forward_pre_hooks \u001b[38;5;28;01mor\u001b[39;00m self._forward_pre_hooks:\n",
       "                \u001b[38;5;28;01mfor\u001b[39;00m hook_id, hook \u001b[38;5;28;01min\u001b[39;00m (\n",
       "                    *_global_forward_pre_hooks.items(),\n",
       "                    *self._forward_pre_hooks.items(),\n",
       "                ):\n",
       "                    \u001b[38;5;28;01mif\u001b[39;00m hook_id \u001b[38;5;28;01min\u001b[39;00m self._forward_pre_hooks_with_kwargs:\n",
       "                        args_kwargs_result = hook(self, args, kwargs)  \u001b[38;5;66;03m# type: ignore[misc]\u001b[39;00m\n",
       "                        \u001b[38;5;28;01mif\u001b[39;00m args_kwargs_result \u001b[38;5;28;01mis\u001b[39;00m \u001b[38;5;28;01mnot\u001b[39;00m \u001b[38;5;28;01mNone\u001b[39;00m:\n",
       "                            \u001b[38;5;28;01mif\u001b[39;00m isinstance(args_kwargs_result, tuple) \u001b[38;5;28;01mand\u001b[39;00m len(args_kwargs_result) == \u001b[32m2\u001b[39m:\n",
       "                                args, kwargs = args_kwargs_result\n",
       "                            \u001b[38;5;28;01melse\u001b[39;00m:\n",
       "                                \u001b[38;5;28;01mraise\u001b[39;00m RuntimeError(\n",
       "                                    \u001b[33m\"forward pre-hook must return None or a tuple \"\u001b[39m\n",
       "                                    f\"of (new_args, new_kwargs), but got {args_kwargs_result}.\"\n",
       "                                )\n",
       "                    \u001b[38;5;28;01melse\u001b[39;00m:\n",
       "                        args_result = hook(self, args)\n",
       "                        \u001b[38;5;28;01mif\u001b[39;00m args_result \u001b[38;5;28;01mis\u001b[39;00m \u001b[38;5;28;01mnot\u001b[39;00m \u001b[38;5;28;01mNone\u001b[39;00m:\n",
       "                            \u001b[38;5;28;01mif\u001b[39;00m \u001b[38;5;28;01mnot\u001b[39;00m isinstance(args_result, tuple):\n",
       "                                args_result = (args_result,)\n",
       "                            args = args_result\n",
       "\n",
       "            bw_hook = \u001b[38;5;28;01mNone\u001b[39;00m\n",
       "            \u001b[38;5;28;01mif\u001b[39;00m full_backward_hooks \u001b[38;5;28;01mor\u001b[39;00m backward_pre_hooks:\n",
       "                bw_hook = BackwardHook(self, full_backward_hooks, backward_pre_hooks)\n",
       "                args = bw_hook.setup_input_hook(args)\n",
       "\n",
       "            result = forward_call(*args, **kwargs)\n",
       "            \u001b[38;5;28;01mif\u001b[39;00m _global_forward_hooks \u001b[38;5;28;01mor\u001b[39;00m self._forward_hooks:\n",
       "                \u001b[38;5;28;01mfor\u001b[39;00m hook_id, hook \u001b[38;5;28;01min\u001b[39;00m (\n",
       "                    *_global_forward_hooks.items(),\n",
       "                    *self._forward_hooks.items(),\n",
       "                ):\n",
       "                    \u001b[38;5;66;03m# mark that always called hook is run\u001b[39;00m\n",
       "                    \u001b[38;5;28;01mif\u001b[39;00m hook_id \u001b[38;5;28;01min\u001b[39;00m self._forward_hooks_always_called \u001b[38;5;28;01mor\u001b[39;00m hook_id \u001b[38;5;28;01min\u001b[39;00m _global_forward_hooks_always_called:\n",
       "                        called_always_called_hooks.add(hook_id)\n",
       "\n",
       "                    \u001b[38;5;28;01mif\u001b[39;00m hook_id \u001b[38;5;28;01min\u001b[39;00m self._forward_hooks_with_kwargs \u001b[38;5;28;01mor\u001b[39;00m hook_id \u001b[38;5;28;01min\u001b[39;00m _global_forward_hooks_with_kwargs:\n",
       "                        hook_result = hook(self, args, kwargs, result)\n",
       "                    \u001b[38;5;28;01melse\u001b[39;00m:\n",
       "                        hook_result = hook(self, args, result)\n",
       "\n",
       "                    \u001b[38;5;28;01mif\u001b[39;00m hook_result \u001b[38;5;28;01mis\u001b[39;00m \u001b[38;5;28;01mnot\u001b[39;00m \u001b[38;5;28;01mNone\u001b[39;00m:\n",
       "                        result = hook_result\n",
       "\n",
       "            \u001b[38;5;28;01mif\u001b[39;00m bw_hook:\n",
       "                \u001b[38;5;28;01mif\u001b[39;00m \u001b[38;5;28;01mnot\u001b[39;00m isinstance(result, (torch.Tensor, tuple)):\n",
       "                    warnings.warn(\u001b[33m\"For backward hooks to be called,\"\u001b[39m\n",
       "                                  \u001b[33m\" module output should be a Tensor or a tuple of Tensors\"\u001b[39m\n",
       "                                  f\" but received {type(result)}\")\n",
       "                result = bw_hook.setup_output_hook(result)\n",
       "\n",
       "            \u001b[38;5;66;03m# Handle the non-full backward hooks\u001b[39;00m\n",
       "            \u001b[38;5;28;01mif\u001b[39;00m non_full_backward_hooks:\n",
       "                var = result\n",
       "                \u001b[38;5;28;01mwhile\u001b[39;00m \u001b[38;5;28;01mnot\u001b[39;00m isinstance(var, torch.Tensor):\n",
       "                    \u001b[38;5;28;01mif\u001b[39;00m isinstance(var, dict):\n",
       "                        var = next(v \u001b[38;5;28;01mfor\u001b[39;00m v \u001b[38;5;28;01min\u001b[39;00m var.values() \u001b[38;5;28;01mif\u001b[39;00m isinstance(v, torch.Tensor))\n",
       "                    \u001b[38;5;28;01melse\u001b[39;00m:\n",
       "                        var = var[\u001b[32m0\u001b[39m]\n",
       "                grad_fn = var.grad_fn\n",
       "                \u001b[38;5;28;01mif\u001b[39;00m grad_fn \u001b[38;5;28;01mis\u001b[39;00m \u001b[38;5;28;01mnot\u001b[39;00m \u001b[38;5;28;01mNone\u001b[39;00m:\n",
       "                    \u001b[38;5;28;01mfor\u001b[39;00m hook \u001b[38;5;28;01min\u001b[39;00m non_full_backward_hooks:\n",
       "                        grad_fn.register_hook(_WrappedHook(hook, self))\n",
       "                    self._maybe_warn_non_full_backward_hook(args, result, grad_fn)\n",
       "\n",
       "            \u001b[38;5;28;01mreturn\u001b[39;00m result\n",
       "\n",
       "        \u001b[38;5;66;03m# This is technically not behavior equivalent when compiling, but it's\u001b[39;00m\n",
       "        \u001b[38;5;66;03m# incredibly unlikely we will ever support throwing an exception in NN\u001b[39;00m\n",
       "        \u001b[38;5;66;03m# module, and then catching it here, and then reraising it, and then\u001b[39;00m\n",
       "        \u001b[38;5;66;03m# catching it again, and expecting the resulting frame to be compiled.\u001b[39;00m\n",
       "        \u001b[38;5;66;03m# The reraise here just gunks up our exception handling for no good\u001b[39;00m\n",
       "        \u001b[38;5;66;03m# reason.  Don't try to run the always called hooks in event of\u001b[39;00m\n",
       "        \u001b[38;5;66;03m# exception.\u001b[39;00m\n",
       "        \u001b[38;5;28;01mif\u001b[39;00m torch.compiler.is_compiling():\n",
       "            \u001b[38;5;28;01mreturn\u001b[39;00m inner()\n",
       "\n",
       "        \u001b[38;5;28;01mtry\u001b[39;00m:\n",
       "            \u001b[38;5;28;01mreturn\u001b[39;00m inner()\n",
       "        \u001b[38;5;28;01mexcept\u001b[39;00m Exception:\n",
       "            \u001b[38;5;66;03m# run always called hooks if they have not already been run\u001b[39;00m\n",
       "            \u001b[38;5;66;03m# For now only forward hooks have the always_call option but perhaps\u001b[39;00m\n",
       "            \u001b[38;5;66;03m# this functionality should be added to full backward hooks as well.\u001b[39;00m\n",
       "            \u001b[38;5;28;01mfor\u001b[39;00m hook_id, hook \u001b[38;5;28;01min\u001b[39;00m _global_forward_hooks.items():\n",
       "                \u001b[38;5;28;01mif\u001b[39;00m hook_id \u001b[38;5;28;01min\u001b[39;00m _global_forward_hooks_always_called \u001b[38;5;28;01mand\u001b[39;00m hook_id \u001b[38;5;28;01mnot\u001b[39;00m \u001b[38;5;28;01min\u001b[39;00m called_always_called_hooks:  \u001b[38;5;66;03m# type: ignore[possibly-undefined]\u001b[39;00m\n",
       "                    \u001b[38;5;28;01mtry\u001b[39;00m:\n",
       "                        hook_result = hook(self, args, result)  \u001b[38;5;66;03m# type: ignore[possibly-undefined]\u001b[39;00m\n",
       "                        \u001b[38;5;28;01mif\u001b[39;00m hook_result \u001b[38;5;28;01mis\u001b[39;00m \u001b[38;5;28;01mnot\u001b[39;00m \u001b[38;5;28;01mNone\u001b[39;00m:\n",
       "                            result = hook_result\n",
       "                    \u001b[38;5;28;01mexcept\u001b[39;00m Exception \u001b[38;5;28;01mas\u001b[39;00m e:\n",
       "                        warnings.warn(\u001b[33m\"global module forward hook with ``always_call=True`` raised an exception \"\u001b[39m\n",
       "                                      f\"that was silenced as another error was raised in forward: {str(e)}\")\n",
       "                        \u001b[38;5;28;01mcontinue\u001b[39;00m\n",
       "\n",
       "            \u001b[38;5;28;01mfor\u001b[39;00m hook_id, hook \u001b[38;5;28;01min\u001b[39;00m self._forward_hooks.items():\n",
       "                \u001b[38;5;28;01mif\u001b[39;00m hook_id \u001b[38;5;28;01min\u001b[39;00m self._forward_hooks_always_called \u001b[38;5;28;01mand\u001b[39;00m hook_id \u001b[38;5;28;01mnot\u001b[39;00m \u001b[38;5;28;01min\u001b[39;00m called_always_called_hooks:  \u001b[38;5;66;03m# type: ignore[possibly-undefined]\u001b[39;00m\n",
       "                    \u001b[38;5;28;01mtry\u001b[39;00m:\n",
       "                        \u001b[38;5;28;01mif\u001b[39;00m hook_id \u001b[38;5;28;01min\u001b[39;00m self._forward_hooks_with_kwargs:\n",
       "                            hook_result = hook(self, args, kwargs, result)  \u001b[38;5;66;03m# type: ignore[possibly-undefined]\u001b[39;00m\n",
       "                        \u001b[38;5;28;01melse\u001b[39;00m:\n",
       "                            hook_result = hook(self, args, result)  \u001b[38;5;66;03m# type: ignore[possibly-undefined]\u001b[39;00m\n",
       "                        \u001b[38;5;28;01mif\u001b[39;00m hook_result \u001b[38;5;28;01mis\u001b[39;00m \u001b[38;5;28;01mnot\u001b[39;00m \u001b[38;5;28;01mNone\u001b[39;00m:\n",
       "                            result = hook_result\n",
       "                    \u001b[38;5;28;01mexcept\u001b[39;00m Exception \u001b[38;5;28;01mas\u001b[39;00m e:\n",
       "                        warnings.warn(\u001b[33m\"module forward hook with ``always_call=True`` raised an exception \"\u001b[39m\n",
       "                                      f\"that was silenced as another error was raised in forward: {str(e)}\")\n",
       "                        \u001b[38;5;28;01mcontinue\u001b[39;00m\n",
       "            \u001b[38;5;66;03m# raise exception raised in try block\u001b[39;00m\n",
       "            \u001b[38;5;28;01mraise\u001b[39;00m\n",
       "    \u001b[38;5;66;03m# fmt: on\u001b[39;00m\n",
       "\n",
       "    __call__: Callable[..., Any] = _wrapped_call_impl\n",
       "\n",
       "    \u001b[38;5;28;01mdef\u001b[39;00m __getstate__(self):\n",
       "        state = self.__dict__.copy()\n",
       "        state.pop(\u001b[33m\"_compiled_call_impl\"\u001b[39m, \u001b[38;5;28;01mNone\u001b[39;00m)\n",
       "        \u001b[38;5;28;01mreturn\u001b[39;00m state\n",
       "\n",
       "    \u001b[38;5;28;01mdef\u001b[39;00m __setstate__(self, state):\n",
       "        self.__dict__.update(state)\n",
       "\n",
       "        \u001b[38;5;66;03m# Support loading old checkpoints that don't have the following attrs:\u001b[39;00m\n",
       "        \u001b[38;5;28;01mif\u001b[39;00m \u001b[33m\"_forward_pre_hooks\"\u001b[39m \u001b[38;5;28;01mnot\u001b[39;00m \u001b[38;5;28;01min\u001b[39;00m self.__dict__:\n",
       "            self._forward_pre_hooks = OrderedDict()\n",
       "        \u001b[38;5;28;01mif\u001b[39;00m \u001b[33m\"_forward_pre_hooks_with_kwargs\"\u001b[39m \u001b[38;5;28;01mnot\u001b[39;00m \u001b[38;5;28;01min\u001b[39;00m self.__dict__:\n",
       "            self._forward_pre_hooks_with_kwargs = OrderedDict()\n",
       "        \u001b[38;5;28;01mif\u001b[39;00m \u001b[33m\"_forward_hooks_with_kwargs\"\u001b[39m \u001b[38;5;28;01mnot\u001b[39;00m \u001b[38;5;28;01min\u001b[39;00m self.__dict__:\n",
       "            self._forward_hooks_with_kwargs = OrderedDict()\n",
       "        \u001b[38;5;28;01mif\u001b[39;00m \u001b[33m\"_forward_hooks_always_called\"\u001b[39m \u001b[38;5;28;01mnot\u001b[39;00m \u001b[38;5;28;01min\u001b[39;00m self.__dict__:\n",
       "            self._forward_hooks_always_called = OrderedDict()\n",
       "        \u001b[38;5;28;01mif\u001b[39;00m \u001b[33m\"_state_dict_hooks\"\u001b[39m \u001b[38;5;28;01mnot\u001b[39;00m \u001b[38;5;28;01min\u001b[39;00m self.__dict__:\n",
       "            self._state_dict_hooks = OrderedDict()\n",
       "        \u001b[38;5;28;01mif\u001b[39;00m \u001b[33m\"_state_dict_pre_hooks\"\u001b[39m \u001b[38;5;28;01mnot\u001b[39;00m \u001b[38;5;28;01min\u001b[39;00m self.__dict__:\n",
       "            self._state_dict_pre_hooks = OrderedDict()\n",
       "        \u001b[38;5;28;01mif\u001b[39;00m \u001b[33m\"_load_state_dict_pre_hooks\"\u001b[39m \u001b[38;5;28;01mnot\u001b[39;00m \u001b[38;5;28;01min\u001b[39;00m self.__dict__:\n",
       "            self._load_state_dict_pre_hooks = OrderedDict()\n",
       "        \u001b[38;5;28;01mif\u001b[39;00m \u001b[33m\"_load_state_dict_post_hooks\"\u001b[39m \u001b[38;5;28;01mnot\u001b[39;00m \u001b[38;5;28;01min\u001b[39;00m self.__dict__:\n",
       "            self._load_state_dict_post_hooks = OrderedDict()\n",
       "        \u001b[38;5;28;01mif\u001b[39;00m \u001b[33m\"_non_persistent_buffers_set\"\u001b[39m \u001b[38;5;28;01mnot\u001b[39;00m \u001b[38;5;28;01min\u001b[39;00m self.__dict__:\n",
       "            self._non_persistent_buffers_set = set()\n",
       "        \u001b[38;5;28;01mif\u001b[39;00m \u001b[33m\"_is_full_backward_hook\"\u001b[39m \u001b[38;5;28;01mnot\u001b[39;00m \u001b[38;5;28;01min\u001b[39;00m self.__dict__:\n",
       "            self._is_full_backward_hook = \u001b[38;5;28;01mNone\u001b[39;00m\n",
       "        \u001b[38;5;28;01mif\u001b[39;00m \u001b[33m\"_backward_pre_hooks\"\u001b[39m \u001b[38;5;28;01mnot\u001b[39;00m \u001b[38;5;28;01min\u001b[39;00m self.__dict__:\n",
       "            self._backward_pre_hooks = OrderedDict()\n",
       "\n",
       "    \u001b[38;5;66;03m# It is crucial that the return type is not annotated as `Any`, otherwise type checking\u001b[39;00m\n",
       "    \u001b[38;5;66;03m# on `torch.nn.Module` and all its subclasses is largely disabled as a result. See:\u001b[39;00m\n",
       "    \u001b[38;5;66;03m# https://github.com/pytorch/pytorch/pull/115074\u001b[39;00m\n",
       "    \u001b[38;5;28;01mdef\u001b[39;00m __getattr__(self, name: str) -> Union[Tensor, \u001b[33m\"Module\"\u001b[39m]:\n",
       "        \u001b[38;5;28;01mif\u001b[39;00m \u001b[33m\"_parameters\"\u001b[39m \u001b[38;5;28;01min\u001b[39;00m self.__dict__:\n",
       "            _parameters = self.__dict__[\u001b[33m\"_parameters\"\u001b[39m]\n",
       "            \u001b[38;5;28;01mif\u001b[39;00m name \u001b[38;5;28;01min\u001b[39;00m _parameters:\n",
       "                \u001b[38;5;28;01mreturn\u001b[39;00m _parameters[name]\n",
       "        \u001b[38;5;28;01mif\u001b[39;00m \u001b[33m\"_buffers\"\u001b[39m \u001b[38;5;28;01min\u001b[39;00m self.__dict__:\n",
       "            _buffers = self.__dict__[\u001b[33m\"_buffers\"\u001b[39m]\n",
       "            \u001b[38;5;28;01mif\u001b[39;00m name \u001b[38;5;28;01min\u001b[39;00m _buffers:\n",
       "                \u001b[38;5;28;01mreturn\u001b[39;00m _buffers[name]\n",
       "        \u001b[38;5;28;01mif\u001b[39;00m \u001b[33m\"_modules\"\u001b[39m \u001b[38;5;28;01min\u001b[39;00m self.__dict__:\n",
       "            modules = self.__dict__[\u001b[33m\"_modules\"\u001b[39m]\n",
       "            \u001b[38;5;28;01mif\u001b[39;00m name \u001b[38;5;28;01min\u001b[39;00m modules:\n",
       "                \u001b[38;5;28;01mreturn\u001b[39;00m modules[name]\n",
       "        \u001b[38;5;28;01mraise\u001b[39;00m AttributeError(\n",
       "            f\"'{type(self).__name__}' object has no attribute '{name}'\"\n",
       "        )\n",
       "\n",
       "    \u001b[38;5;28;01mdef\u001b[39;00m __setattr__(self, name: str, value: Union[Tensor, \u001b[33m\"Module\"\u001b[39m]) -> \u001b[38;5;28;01mNone\u001b[39;00m:\n",
       "        \u001b[38;5;28;01mdef\u001b[39;00m remove_from(*dicts_or_sets):\n",
       "            \u001b[38;5;28;01mfor\u001b[39;00m d \u001b[38;5;28;01min\u001b[39;00m dicts_or_sets:\n",
       "                \u001b[38;5;28;01mif\u001b[39;00m name \u001b[38;5;28;01min\u001b[39;00m d:\n",
       "                    \u001b[38;5;28;01mif\u001b[39;00m isinstance(d, dict):\n",
       "                        \u001b[38;5;28;01mdel\u001b[39;00m d[name]\n",
       "                    \u001b[38;5;28;01melse\u001b[39;00m:\n",
       "                        d.discard(name)\n",
       "\n",
       "        params = self.__dict__.get(\u001b[33m\"_parameters\"\u001b[39m)\n",
       "        \u001b[38;5;28;01mif\u001b[39;00m isinstance(value, Parameter):\n",
       "            \u001b[38;5;28;01mif\u001b[39;00m params \u001b[38;5;28;01mis\u001b[39;00m \u001b[38;5;28;01mNone\u001b[39;00m:\n",
       "                \u001b[38;5;28;01mraise\u001b[39;00m AttributeError(\n",
       "                    \u001b[33m\"cannot assign parameters before Module.__init__() call\"\u001b[39m\n",
       "                )\n",
       "            remove_from(\n",
       "                self.__dict__,\n",
       "                self._buffers,\n",
       "                self._modules,\n",
       "                self._non_persistent_buffers_set,\n",
       "            )\n",
       "            self.register_parameter(name, value)\n",
       "        \u001b[38;5;28;01melif\u001b[39;00m params \u001b[38;5;28;01mis\u001b[39;00m \u001b[38;5;28;01mnot\u001b[39;00m \u001b[38;5;28;01mNone\u001b[39;00m \u001b[38;5;28;01mand\u001b[39;00m name \u001b[38;5;28;01min\u001b[39;00m params:\n",
       "            \u001b[38;5;28;01mif\u001b[39;00m value \u001b[38;5;28;01mis\u001b[39;00m \u001b[38;5;28;01mnot\u001b[39;00m \u001b[38;5;28;01mNone\u001b[39;00m:\n",
       "                \u001b[38;5;28;01mraise\u001b[39;00m TypeError(\n",
       "                    f\"cannot assign '{torch.typename(value)}' as parameter '{name}' \"\n",
       "                    \u001b[33m\"(torch.nn.Parameter or None expected)\"\u001b[39m\n",
       "                )\n",
       "            self.register_parameter(name, value)\n",
       "        \u001b[38;5;28;01melse\u001b[39;00m:\n",
       "            modules = self.__dict__.get(\u001b[33m\"_modules\"\u001b[39m)\n",
       "            \u001b[38;5;28;01mif\u001b[39;00m isinstance(value, Module):\n",
       "                \u001b[38;5;28;01mif\u001b[39;00m modules \u001b[38;5;28;01mis\u001b[39;00m \u001b[38;5;28;01mNone\u001b[39;00m:\n",
       "                    \u001b[38;5;28;01mraise\u001b[39;00m AttributeError(\n",
       "                        \u001b[33m\"cannot assign module before Module.__init__() call\"\u001b[39m\n",
       "                    )\n",
       "                remove_from(\n",
       "                    self.__dict__,\n",
       "                    self._parameters,\n",
       "                    self._buffers,\n",
       "                    self._non_persistent_buffers_set,\n",
       "                )\n",
       "                \u001b[38;5;28;01mfor\u001b[39;00m hook \u001b[38;5;28;01min\u001b[39;00m _global_module_registration_hooks.values():\n",
       "                    output = hook(self, name, value)\n",
       "                    \u001b[38;5;28;01mif\u001b[39;00m output \u001b[38;5;28;01mis\u001b[39;00m \u001b[38;5;28;01mnot\u001b[39;00m \u001b[38;5;28;01mNone\u001b[39;00m:\n",
       "                        value = output\n",
       "                modules[name] = value\n",
       "            \u001b[38;5;28;01melif\u001b[39;00m modules \u001b[38;5;28;01mis\u001b[39;00m \u001b[38;5;28;01mnot\u001b[39;00m \u001b[38;5;28;01mNone\u001b[39;00m \u001b[38;5;28;01mand\u001b[39;00m name \u001b[38;5;28;01min\u001b[39;00m modules:\n",
       "                \u001b[38;5;28;01mif\u001b[39;00m value \u001b[38;5;28;01mis\u001b[39;00m \u001b[38;5;28;01mnot\u001b[39;00m \u001b[38;5;28;01mNone\u001b[39;00m:\n",
       "                    \u001b[38;5;28;01mraise\u001b[39;00m TypeError(\n",
       "                        f\"cannot assign '{torch.typename(value)}' as child module '{name}' \"\n",
       "                        \u001b[33m\"(torch.nn.Module or None expected)\"\u001b[39m\n",
       "                    )\n",
       "                \u001b[38;5;28;01mfor\u001b[39;00m hook \u001b[38;5;28;01min\u001b[39;00m _global_module_registration_hooks.values():\n",
       "                    output = hook(self, name, value)\n",
       "                    \u001b[38;5;28;01mif\u001b[39;00m output \u001b[38;5;28;01mis\u001b[39;00m \u001b[38;5;28;01mnot\u001b[39;00m \u001b[38;5;28;01mNone\u001b[39;00m:\n",
       "                        value = output\n",
       "                modules[name] = value\n",
       "            \u001b[38;5;28;01melse\u001b[39;00m:\n",
       "                buffers = self.__dict__.get(\u001b[33m\"_buffers\"\u001b[39m)\n",
       "                \u001b[38;5;28;01mif\u001b[39;00m isinstance(value, Buffer) \u001b[38;5;28;01mor\u001b[39;00m buffers \u001b[38;5;28;01mis\u001b[39;00m \u001b[38;5;28;01mnot\u001b[39;00m \u001b[38;5;28;01mNone\u001b[39;00m \u001b[38;5;28;01mand\u001b[39;00m name \u001b[38;5;28;01min\u001b[39;00m buffers:\n",
       "                    \u001b[38;5;28;01mif\u001b[39;00m value \u001b[38;5;28;01mis\u001b[39;00m \u001b[38;5;28;01mnot\u001b[39;00m \u001b[38;5;28;01mNone\u001b[39;00m \u001b[38;5;28;01mand\u001b[39;00m \u001b[38;5;28;01mnot\u001b[39;00m isinstance(value, torch.Tensor):\n",
       "                        \u001b[38;5;28;01mraise\u001b[39;00m TypeError(\n",
       "                            f\"cannot assign '{torch.typename(value)}' as buffer '{name}' \"\n",
       "                            \u001b[33m\"(torch.nn.Buffer, torch.Tensor or None expected)\"\u001b[39m\n",
       "                        )\n",
       "                    \u001b[38;5;28;01mif\u001b[39;00m isinstance(value, Buffer):\n",
       "                        persistent = value.persistent\n",
       "                    \u001b[38;5;28;01melse\u001b[39;00m:\n",
       "                        persistent = name \u001b[38;5;28;01mnot\u001b[39;00m \u001b[38;5;28;01min\u001b[39;00m self._non_persistent_buffers_set\n",
       "                    \u001b[38;5;66;03m# === HACK ===\u001b[39;00m\n",
       "                    \u001b[38;5;66;03m# This whole block below should just be:\u001b[39;00m\n",
       "                    \u001b[38;5;66;03m# self.register_buffer(name, value, persistent)\u001b[39;00m\n",
       "\n",
       "                    \u001b[38;5;66;03m# But to support subclasses of nn.Module that (wrongfully) implement a\u001b[39;00m\n",
       "                    \u001b[38;5;66;03m# register_buffer() method that doesn't have the \"persistent\"\u001b[39;00m\n",
       "                    \u001b[38;5;66;03m# argument. Only pass it in if it is accepted otherwise assume\u001b[39;00m\n",
       "                    \u001b[38;5;66;03m# it is always true\u001b[39;00m\n",
       "                    \u001b[38;5;28;01mif\u001b[39;00m self.register_buffer \u001b[38;5;28;01mis\u001b[39;00m torch.nn.Module.register_buffer:\n",
       "                        self.register_buffer(name, value, persistent)\n",
       "                    \u001b[38;5;28;01melse\u001b[39;00m:\n",
       "                        sign = inspect.signature(self.register_buffer)\n",
       "                        \u001b[38;5;28;01mif\u001b[39;00m \u001b[33m\"persistent\"\u001b[39m \u001b[38;5;28;01min\u001b[39;00m sign.parameters:\n",
       "                            self.register_buffer(name, value, persistent)\n",
       "                        \u001b[38;5;28;01melse\u001b[39;00m:\n",
       "                            \u001b[38;5;28;01mif\u001b[39;00m \u001b[38;5;28;01mnot\u001b[39;00m persistent:\n",
       "                                \u001b[38;5;28;01mraise\u001b[39;00m RuntimeError(\n",
       "                                    \u001b[33m\"Registering a non-persistent buffer \"\u001b[39m\n",
       "                                    \u001b[33m\"on a Module subclass that implements \"\u001b[39m\n",
       "                                    \u001b[33m\"register_buffer() without the persistent \"\u001b[39m\n",
       "                                    \u001b[33m\"argument is not allowed.\"\u001b[39m\n",
       "                                )\n",
       "                            \u001b[38;5;66;03m# Assume that the implementation without the argument has the\u001b[39;00m\n",
       "                            \u001b[38;5;66;03m# behavior from before the argument was added: persistent=True\u001b[39;00m\n",
       "                            self.register_buffer(name, value)\n",
       "                    \u001b[38;5;66;03m# === HACK END ===\u001b[39;00m\n",
       "                \u001b[38;5;28;01melse\u001b[39;00m:\n",
       "                    super().__setattr__(name, value)\n",
       "\n",
       "    \u001b[38;5;28;01mdef\u001b[39;00m __delattr__(self, name):\n",
       "        \u001b[38;5;28;01mif\u001b[39;00m name \u001b[38;5;28;01min\u001b[39;00m self._parameters:\n",
       "            \u001b[38;5;28;01mdel\u001b[39;00m self._parameters[name]\n",
       "        \u001b[38;5;28;01melif\u001b[39;00m name \u001b[38;5;28;01min\u001b[39;00m self._buffers:\n",
       "            \u001b[38;5;28;01mdel\u001b[39;00m self._buffers[name]\n",
       "            self._non_persistent_buffers_set.discard(name)\n",
       "        \u001b[38;5;28;01melif\u001b[39;00m name \u001b[38;5;28;01min\u001b[39;00m self._modules:\n",
       "            \u001b[38;5;28;01mdel\u001b[39;00m self._modules[name]\n",
       "        \u001b[38;5;28;01melse\u001b[39;00m:\n",
       "            super().__delattr__(name)\n",
       "\n",
       "    \u001b[38;5;28;01mdef\u001b[39;00m _register_state_dict_hook(self, hook):\n",
       "        \u001b[33mr\"\"\"Register a post-hook for the :meth:`~torch.nn.Module.state_dict` method.\u001b[39m\n",
       "\n",
       "\u001b[33m        It should have the following signature::\u001b[39m\n",
       "\u001b[33m            hook(module, state_dict, prefix, local_metadata) -> None or state_dict\u001b[39m\n",
       "\n",
       "\u001b[33m        The registered hooks can modify the ``state_dict`` inplace or return a new one.\u001b[39m\n",
       "\u001b[33m        If a new ``state_dict`` is returned, it will only be respected if it is the root\u001b[39m\n",
       "\u001b[33m        module that :meth:`~nn.Module.state_dict` is called from.\u001b[39m\n",
       "\u001b[33m        \"\"\"\u001b[39m\n",
       "        \u001b[38;5;28;01mif\u001b[39;00m getattr(hook, \u001b[33m\"_from_public_api\"\u001b[39m, \u001b[38;5;28;01mFalse\u001b[39;00m):\n",
       "            \u001b[38;5;28;01mraise\u001b[39;00m RuntimeError(\n",
       "                \u001b[33m\"Cannot register the same function as the state dict post hook that was \"\u001b[39m\n",
       "                \u001b[33m\"previously registered via register_state_dict_post_hook\"\u001b[39m\n",
       "            )\n",
       "        handle = RemovableHandle(self._state_dict_hooks)\n",
       "        self._state_dict_hooks[handle.id] = hook\n",
       "        \u001b[38;5;28;01mreturn\u001b[39;00m handle\n",
       "\n",
       "    \u001b[38;5;28;01mdef\u001b[39;00m register_state_dict_post_hook(self, hook):\n",
       "        \u001b[33mr\"\"\"Register a post-hook for the :meth:`~torch.nn.Module.state_dict` method.\u001b[39m\n",
       "\n",
       "\u001b[33m        It should have the following signature::\u001b[39m\n",
       "\u001b[33m            hook(module, state_dict, prefix, local_metadata) -> None\u001b[39m\n",
       "\n",
       "\u001b[33m        The registered hooks can modify the ``state_dict`` inplace.\u001b[39m\n",
       "\u001b[33m        \"\"\"\u001b[39m\n",
       "        \u001b[38;5;66;03m# In _register_state_dict_hook there was a bug described in\u001b[39;00m\n",
       "        \u001b[38;5;66;03m# https://github.com/pytorch/pytorch/issues/117437 where the return value\u001b[39;00m\n",
       "        \u001b[38;5;66;03m# was only respected for the root module but not child submodules.\u001b[39;00m\n",
       "        \u001b[38;5;66;03m# We fix this in this public version by only allowing inplace modifications on\u001b[39;00m\n",
       "        \u001b[38;5;66;03m# the state_dict by the hook. However, since hooks registered via both these\u001b[39;00m\n",
       "        \u001b[38;5;66;03m# APIs will be added to `_state_dict_hooks` and the type of `_state_dict_hooks`\u001b[39;00m\n",
       "        \u001b[38;5;66;03m# cannot be changed due to many dependencies on it, we mark a hook\u001b[39;00m\n",
       "        \u001b[38;5;66;03m# as being registered via the public API by setting `_from_public_api` on it.\u001b[39;00m\n",
       "        \u001b[38;5;66;03m# In the implementation of `state_dict`, if the callable does not have this\u001b[39;00m\n",
       "        \u001b[38;5;66;03m# flag, the old behavior of respecting the return value will be preserved\u001b[39;00m\n",
       "        \u001b[38;5;66;03m# for the root module, otherwise, we ensure that the hook returns None.\u001b[39;00m\n",
       "        hook._from_public_api = \u001b[38;5;28;01mTrue\u001b[39;00m\n",
       "        handle = RemovableHandle(self._state_dict_hooks)\n",
       "        self._state_dict_hooks[handle.id] = hook\n",
       "        \u001b[38;5;28;01mreturn\u001b[39;00m handle\n",
       "\n",
       "    \u001b[38;5;28;01mdef\u001b[39;00m register_state_dict_pre_hook(self, hook):\n",
       "        \u001b[33mr\"\"\"Register a pre-hook for the :meth:`~torch.nn.Module.state_dict` method.\u001b[39m\n",
       "\n",
       "\u001b[33m        It should have the following signature::\u001b[39m\n",
       "\u001b[33m            hook(module, prefix, keep_vars) -> None\u001b[39m\n",
       "\n",
       "\u001b[33m        The registered hooks can be used to perform pre-processing before the ``state_dict``\u001b[39m\n",
       "\u001b[33m        call is made.\u001b[39m\n",
       "\u001b[33m        \"\"\"\u001b[39m\n",
       "        handle = RemovableHandle(self._state_dict_pre_hooks)\n",
       "        self._state_dict_pre_hooks[handle.id] = hook\n",
       "        \u001b[38;5;28;01mreturn\u001b[39;00m handle\n",
       "\n",
       "    \u001b[38;5;28;01mdef\u001b[39;00m _save_to_state_dict(self, destination, prefix, keep_vars):\n",
       "        \u001b[33mr\"\"\"Save module state to the `destination` dictionary.\u001b[39m\n",
       "\n",
       "\u001b[33m        The `destination` dictionary will contain the state\u001b[39m\n",
       "\u001b[33m        of the module, but not its descendants. This is called on every\u001b[39m\n",
       "\u001b[33m        submodule in :meth:`~torch.nn.Module.state_dict`.\u001b[39m\n",
       "\n",
       "\u001b[33m        In rare cases, subclasses can achieve class-specific behavior by\u001b[39m\n",
       "\u001b[33m        overriding this method with custom logic.\u001b[39m\n",
       "\n",
       "\u001b[33m        Args:\u001b[39m\n",
       "\u001b[33m            destination (dict): a dict where state will be stored\u001b[39m\n",
       "\u001b[33m            prefix (str): the prefix for parameters and buffers used in this\u001b[39m\n",
       "\u001b[33m                module\u001b[39m\n",
       "\u001b[33m        \"\"\"\u001b[39m\n",
       "        \u001b[38;5;28;01mfor\u001b[39;00m name, param \u001b[38;5;28;01min\u001b[39;00m self._parameters.items():\n",
       "            \u001b[38;5;28;01mif\u001b[39;00m param \u001b[38;5;28;01mis\u001b[39;00m \u001b[38;5;28;01mnot\u001b[39;00m \u001b[38;5;28;01mNone\u001b[39;00m:\n",
       "                destination[prefix + name] = param \u001b[38;5;28;01mif\u001b[39;00m keep_vars \u001b[38;5;28;01melse\u001b[39;00m param.detach()\n",
       "        \u001b[38;5;28;01mfor\u001b[39;00m name, buf \u001b[38;5;28;01min\u001b[39;00m self._buffers.items():\n",
       "            \u001b[38;5;28;01mif\u001b[39;00m buf \u001b[38;5;28;01mis\u001b[39;00m \u001b[38;5;28;01mnot\u001b[39;00m \u001b[38;5;28;01mNone\u001b[39;00m \u001b[38;5;28;01mand\u001b[39;00m name \u001b[38;5;28;01mnot\u001b[39;00m \u001b[38;5;28;01min\u001b[39;00m self._non_persistent_buffers_set:\n",
       "                destination[prefix + name] = buf \u001b[38;5;28;01mif\u001b[39;00m keep_vars \u001b[38;5;28;01melse\u001b[39;00m buf.detach()\n",
       "        extra_state_key = prefix + _EXTRA_STATE_KEY_SUFFIX\n",
       "        \u001b[38;5;28;01mif\u001b[39;00m (\n",
       "            getattr(self.__class__, \u001b[33m\"get_extra_state\"\u001b[39m, Module.get_extra_state)\n",
       "            \u001b[38;5;28;01mis\u001b[39;00m \u001b[38;5;28;01mnot\u001b[39;00m Module.get_extra_state\n",
       "        ):\n",
       "            destination[extra_state_key] = self.get_extra_state()\n",
       "\n",
       "    \u001b[38;5;66;03m# The user can pass an optional arbitrary mappable object to `state_dict`, in which case `state_dict` returns\u001b[39;00m\n",
       "    \u001b[38;5;66;03m# back that same object. But if they pass nothing, an `OrderedDict` is created and returned.\u001b[39;00m\n",
       "    T_destination = TypeVar(\u001b[33m\"T_destination\"\u001b[39m, bound=dict[str, Any])\n",
       "\n",
       "    @overload\n",
       "    \u001b[38;5;28;01mdef\u001b[39;00m state_dict(\n",
       "        self, *, destination: T_destination, prefix: str = ..., keep_vars: bool = ...\n",
       "    ) -> T_destination:\n",
       "        ...\n",
       "\n",
       "    @overload\n",
       "    \u001b[38;5;28;01mdef\u001b[39;00m state_dict(self, *, prefix: str = ..., keep_vars: bool = ...) -> dict[str, Any]:\n",
       "        ...\n",
       "\n",
       "    \u001b[38;5;66;03m# TODO: Change `*args` to `*` and remove the corresponding warning in docs when BC allows.\u001b[39;00m\n",
       "    \u001b[38;5;66;03m# Also remove the logic for arg parsing together.\u001b[39;00m\n",
       "    \u001b[38;5;28;01mdef\u001b[39;00m state_dict(self, *args, destination=\u001b[38;5;28;01mNone\u001b[39;00m, prefix=\u001b[33m\"\"\u001b[39m, keep_vars=\u001b[38;5;28;01mFalse\u001b[39;00m):\n",
       "        \u001b[33mr\"\"\"Return a dictionary containing references to the whole state of the module.\u001b[39m\n",
       "\n",
       "\u001b[33m        Both parameters and persistent buffers (e.g. running averages) are\u001b[39m\n",
       "\u001b[33m        included. Keys are corresponding parameter and buffer names.\u001b[39m\n",
       "\u001b[33m        Parameters and buffers set to ``None`` are not included.\u001b[39m\n",
       "\n",
       "\u001b[33m        .. note::\u001b[39m\n",
       "\u001b[33m            The returned object is a shallow copy. It contains references\u001b[39m\n",
       "\u001b[33m            to the module's parameters and buffers.\u001b[39m\n",
       "\n",
       "\u001b[33m        .. warning::\u001b[39m\n",
       "\u001b[33m            Currently ``state_dict()`` also accepts positional arguments for\u001b[39m\n",
       "\u001b[33m            ``destination``, ``prefix`` and ``keep_vars`` in order. However,\u001b[39m\n",
       "\u001b[33m            this is being deprecated and keyword arguments will be enforced in\u001b[39m\n",
       "\u001b[33m            future releases.\u001b[39m\n",
       "\n",
       "\u001b[33m        .. warning::\u001b[39m\n",
       "\u001b[33m            Please avoid the use of argument ``destination`` as it is not\u001b[39m\n",
       "\u001b[33m            designed for end-users.\u001b[39m\n",
       "\n",
       "\u001b[33m        Args:\u001b[39m\n",
       "\u001b[33m            destination (dict, optional): If provided, the state of module will\u001b[39m\n",
       "\u001b[33m                be updated into the dict and the same object is returned.\u001b[39m\n",
       "\u001b[33m                Otherwise, an ``OrderedDict`` will be created and returned.\u001b[39m\n",
       "\u001b[33m                Default: ``None``.\u001b[39m\n",
       "\u001b[33m            prefix (str, optional): a prefix added to parameter and buffer\u001b[39m\n",
       "\u001b[33m                names to compose the keys in state_dict. Default: ``''``.\u001b[39m\n",
       "\u001b[33m            keep_vars (bool, optional): by default the :class:`~torch.Tensor` s\u001b[39m\n",
       "\u001b[33m                returned in the state dict are detached from autograd. If it's\u001b[39m\n",
       "\u001b[33m                set to ``True``, detaching will not be performed.\u001b[39m\n",
       "\u001b[33m                Default: ``False``.\u001b[39m\n",
       "\n",
       "\u001b[33m        Returns:\u001b[39m\n",
       "\u001b[33m            dict:\u001b[39m\n",
       "\u001b[33m                a dictionary containing a whole state of the module\u001b[39m\n",
       "\n",
       "\u001b[33m        Example::\u001b[39m\n",
       "\n",
       "\u001b[33m            >>> # xdoctest: +SKIP(\"undefined vars\")\u001b[39m\n",
       "\u001b[33m            >>> module.state_dict().keys()\u001b[39m\n",
       "\u001b[33m            ['bias', 'weight']\u001b[39m\n",
       "\n",
       "\u001b[33m        \"\"\"\u001b[39m\n",
       "        \u001b[38;5;66;03m# TODO: Remove `args` and the parsing logic when BC allows.\u001b[39;00m\n",
       "        \u001b[38;5;28;01mif\u001b[39;00m len(args) > \u001b[32m0\u001b[39m:\n",
       "            \u001b[38;5;66;03m# DeprecationWarning is ignored by default\u001b[39;00m\n",
       "            warnings.warn(\n",
       "                \u001b[33m\"Positional args are being deprecated, use kwargs instead. Refer to \"\u001b[39m\n",
       "                \u001b[33m\"https://pytorch.org/docs/main/generated/torch.nn.Module.html#torch.nn.Module.state_dict\"\u001b[39m\n",
       "                \u001b[33m\" for details.\"\u001b[39m,\n",
       "                FutureWarning,\n",
       "                stacklevel=\u001b[32m2\u001b[39m,\n",
       "            )\n",
       "            \u001b[38;5;28;01mif\u001b[39;00m destination \u001b[38;5;28;01mis\u001b[39;00m \u001b[38;5;28;01mNone\u001b[39;00m:\n",
       "                destination = args[\u001b[32m0\u001b[39m]\n",
       "            \u001b[38;5;28;01mif\u001b[39;00m len(args) > \u001b[32m1\u001b[39m \u001b[38;5;28;01mand\u001b[39;00m prefix == \u001b[33m\"\"\u001b[39m:\n",
       "                prefix = args[\u001b[32m1\u001b[39m]\n",
       "            \u001b[38;5;28;01mif\u001b[39;00m len(args) > \u001b[32m2\u001b[39m \u001b[38;5;28;01mand\u001b[39;00m keep_vars \u001b[38;5;28;01mis\u001b[39;00m \u001b[38;5;28;01mFalse\u001b[39;00m:\n",
       "                keep_vars = args[\u001b[32m2\u001b[39m]\n",
       "\n",
       "        \u001b[38;5;28;01mif\u001b[39;00m destination \u001b[38;5;28;01mis\u001b[39;00m \u001b[38;5;28;01mNone\u001b[39;00m:\n",
       "            destination = OrderedDict()\n",
       "            destination._metadata = OrderedDict()\n",
       "\n",
       "        local_metadata = dict(version=self._version)\n",
       "        \u001b[38;5;28;01mif\u001b[39;00m hasattr(destination, \u001b[33m\"_metadata\"\u001b[39m):\n",
       "            destination._metadata[prefix[:-\u001b[32m1\u001b[39m]] = local_metadata\n",
       "\n",
       "        \u001b[38;5;28;01mfor\u001b[39;00m hook \u001b[38;5;28;01min\u001b[39;00m self._state_dict_pre_hooks.values():\n",
       "            hook(self, prefix, keep_vars)\n",
       "        self._save_to_state_dict(destination, prefix, keep_vars)\n",
       "        \u001b[38;5;28;01mfor\u001b[39;00m name, module \u001b[38;5;28;01min\u001b[39;00m self._modules.items():\n",
       "            \u001b[38;5;28;01mif\u001b[39;00m module \u001b[38;5;28;01mis\u001b[39;00m \u001b[38;5;28;01mnot\u001b[39;00m \u001b[38;5;28;01mNone\u001b[39;00m:\n",
       "                module.state_dict(\n",
       "                    destination=destination,\n",
       "                    prefix=prefix + name + \u001b[33m\".\"\u001b[39m,\n",
       "                    keep_vars=keep_vars,\n",
       "                )\n",
       "        \u001b[38;5;28;01mfor\u001b[39;00m hook \u001b[38;5;28;01min\u001b[39;00m self._state_dict_hooks.values():\n",
       "            hook_result = hook(self, destination, prefix, local_metadata)\n",
       "            \u001b[38;5;28;01mif\u001b[39;00m \u001b[38;5;28;01mnot\u001b[39;00m getattr(hook, \u001b[33m\"_from_public_api\"\u001b[39m, \u001b[38;5;28;01mFalse\u001b[39;00m):\n",
       "                \u001b[38;5;28;01mif\u001b[39;00m hook_result \u001b[38;5;28;01mis\u001b[39;00m \u001b[38;5;28;01mnot\u001b[39;00m \u001b[38;5;28;01mNone\u001b[39;00m:\n",
       "                    destination = hook_result\n",
       "            \u001b[38;5;28;01melse\u001b[39;00m:\n",
       "                \u001b[38;5;28;01mif\u001b[39;00m hook_result \u001b[38;5;28;01mis\u001b[39;00m \u001b[38;5;28;01mnot\u001b[39;00m \u001b[38;5;28;01mNone\u001b[39;00m:\n",
       "                    \u001b[38;5;28;01mraise\u001b[39;00m RuntimeError(\u001b[33m\"state_dict post-hook must return None\"\u001b[39m)\n",
       "        \u001b[38;5;28;01mreturn\u001b[39;00m destination\n",
       "\n",
       "    \u001b[38;5;28;01mdef\u001b[39;00m _register_load_state_dict_pre_hook(self, hook, with_module=\u001b[38;5;28;01mFalse\u001b[39;00m):\n",
       "        \u001b[33mr\"\"\"See :meth:`~torch.nn.Module.register_load_state_dict_pre_hook` for details.\u001b[39m\n",
       "\n",
       "\u001b[33m        A subtle difference is that if ``with_module`` is set to ``False``, then the\u001b[39m\n",
       "\u001b[33m        hook will not take the ``module`` as the first argument whereas\u001b[39m\n",
       "\u001b[33m        :meth:`~torch.nn.Module.register_load_state_dict_pre_hook` always takes the\u001b[39m\n",
       "\u001b[33m        ``module`` as the first argument.\u001b[39m\n",
       "\n",
       "\u001b[33m        Arguments:\u001b[39m\n",
       "\u001b[33m            hook (Callable): Callable hook that will be invoked before\u001b[39m\n",
       "\u001b[33m                loading the state dict.\u001b[39m\n",
       "\u001b[33m            with_module (bool, optional): Whether or not to pass the module\u001b[39m\n",
       "\u001b[33m                instance to the hook as the first parameter.\u001b[39m\n",
       "\u001b[33m        \"\"\"\u001b[39m\n",
       "        handle = RemovableHandle(self._load_state_dict_pre_hooks)\n",
       "        self._load_state_dict_pre_hooks[handle.id] = _WrappedHook(\n",
       "            hook, self \u001b[38;5;28;01mif\u001b[39;00m with_module \u001b[38;5;28;01melse\u001b[39;00m \u001b[38;5;28;01mNone\u001b[39;00m\n",
       "        )\n",
       "        \u001b[38;5;28;01mreturn\u001b[39;00m handle\n",
       "\n",
       "    \u001b[38;5;28;01mdef\u001b[39;00m register_load_state_dict_pre_hook(self, hook):\n",
       "        \u001b[33mr\"\"\"Register a pre-hook to be run before module's :meth:`~nn.Module.load_state_dict` is called.\u001b[39m\n",
       "\n",
       "\u001b[33m        It should have the following signature::\u001b[39m\n",
       "\u001b[33m            hook(module, state_dict, prefix, local_metadata, strict, missing_keys, unexpected_keys, error_msgs) -> None  # noqa: B950\u001b[39m\n",
       "\n",
       "\u001b[33m        Arguments:\u001b[39m\n",
       "\u001b[33m            hook (Callable): Callable hook that will be invoked before\u001b[39m\n",
       "\u001b[33m                loading the state dict.\u001b[39m\n",
       "\u001b[33m        \"\"\"\u001b[39m\n",
       "        \u001b[38;5;28;01mreturn\u001b[39;00m self._register_load_state_dict_pre_hook(hook, with_module=\u001b[38;5;28;01mTrue\u001b[39;00m)\n",
       "\n",
       "    \u001b[38;5;28;01mdef\u001b[39;00m register_load_state_dict_post_hook(self, hook):\n",
       "        \u001b[33mr\"\"\"Register a post-hook to be run after module's :meth:`~nn.Module.load_state_dict` is called.\u001b[39m\n",
       "\n",
       "\u001b[33m        It should have the following signature::\u001b[39m\n",
       "\u001b[33m            hook(module, incompatible_keys) -> None\u001b[39m\n",
       "\n",
       "\u001b[33m        The ``module`` argument is the current module that this hook is registered\u001b[39m\n",
       "\u001b[33m        on, and the ``incompatible_keys`` argument is a ``NamedTuple`` consisting\u001b[39m\n",
       "\u001b[33m        of attributes ``missing_keys`` and ``unexpected_keys``. ``missing_keys``\u001b[39m\n",
       "\u001b[33m        is a ``list`` of ``str`` containing the missing keys and\u001b[39m\n",
       "\u001b[33m        ``unexpected_keys`` is a ``list`` of ``str`` containing the unexpected keys.\u001b[39m\n",
       "\n",
       "\u001b[33m        The given incompatible_keys can be modified inplace if needed.\u001b[39m\n",
       "\n",
       "\u001b[33m        Note that the checks performed when calling :func:`load_state_dict` with\u001b[39m\n",
       "\u001b[33m        ``strict=True`` are affected by modifications the hook makes to\u001b[39m\n",
       "\u001b[33m        ``missing_keys`` or ``unexpected_keys``, as expected. Additions to either\u001b[39m\n",
       "\u001b[33m        set of keys will result in an error being thrown when ``strict=True``, and\u001b[39m\n",
       "\u001b[33m        clearing out both missing and unexpected keys will avoid an error.\u001b[39m\n",
       "\n",
       "\u001b[33m        Returns:\u001b[39m\n",
       "\u001b[33m            :class:`torch.utils.hooks.RemovableHandle`:\u001b[39m\n",
       "\u001b[33m                a handle that can be used to remove the added hook by calling\u001b[39m\n",
       "\u001b[33m                ``handle.remove()``\u001b[39m\n",
       "\u001b[33m        \"\"\"\u001b[39m\n",
       "        handle = RemovableHandle(self._load_state_dict_post_hooks)\n",
       "        self._load_state_dict_post_hooks[handle.id] = hook\n",
       "        \u001b[38;5;28;01mreturn\u001b[39;00m handle\n",
       "\n",
       "    \u001b[38;5;28;01mdef\u001b[39;00m _load_from_state_dict(\n",
       "        self,\n",
       "        state_dict,\n",
       "        prefix,\n",
       "        local_metadata,\n",
       "        strict,\n",
       "        missing_keys,\n",
       "        unexpected_keys,\n",
       "        error_msgs,\n",
       "    ):\n",
       "        \u001b[33mr\"\"\"Copy parameters and buffers from :attr:`state_dict` into only this module, but not its descendants.\u001b[39m\n",
       "\n",
       "\u001b[33m        This is called on every submodule\u001b[39m\n",
       "\u001b[33m        in :meth:`~torch.nn.Module.load_state_dict`. Metadata saved for this\u001b[39m\n",
       "\u001b[33m        module in input :attr:`state_dict` is provided as :attr:`local_metadata`.\u001b[39m\n",
       "\u001b[33m        For state dicts without metadata, :attr:`local_metadata` is empty.\u001b[39m\n",
       "\u001b[33m        Subclasses can achieve class-specific backward compatible loading using\u001b[39m\n",
       "\u001b[33m        the version number at `local_metadata.get(\"version\", None)`.\u001b[39m\n",
       "\u001b[33m        Additionally, :attr:`local_metadata` can also contain the key\u001b[39m\n",
       "\u001b[33m        `assign_to_params_buffers` that indicates whether keys should be\u001b[39m\n",
       "\u001b[33m        assigned their corresponding tensor in the state_dict.\u001b[39m\n",
       "\n",
       "\u001b[33m        .. note::\u001b[39m\n",
       "\u001b[33m            :attr:`state_dict` is not the same object as the input\u001b[39m\n",
       "\u001b[33m            :attr:`state_dict` to :meth:`~torch.nn.Module.load_state_dict`. So\u001b[39m\n",
       "\u001b[33m            it can be modified.\u001b[39m\n",
       "\n",
       "\u001b[33m        Args:\u001b[39m\n",
       "\u001b[33m            state_dict (dict): a dict containing parameters and\u001b[39m\n",
       "\u001b[33m                persistent buffers.\u001b[39m\n",
       "\u001b[33m            prefix (str): the prefix for parameters and buffers used in this\u001b[39m\n",
       "\u001b[33m                module\u001b[39m\n",
       "\u001b[33m            local_metadata (dict): a dict containing the metadata for this module.\u001b[39m\n",
       "\u001b[33m                See\u001b[39m\n",
       "\u001b[33m            strict (bool): whether to strictly enforce that the keys in\u001b[39m\n",
       "\u001b[33m                :attr:`state_dict` with :attr:`prefix` match the names of\u001b[39m\n",
       "\u001b[33m                parameters and buffers in this module\u001b[39m\n",
       "\u001b[33m            missing_keys (list of str): if ``strict=True``, add missing keys to\u001b[39m\n",
       "\u001b[33m                this list\u001b[39m\n",
       "\u001b[33m            unexpected_keys (list of str): if ``strict=True``, add unexpected\u001b[39m\n",
       "\u001b[33m                keys to this list\u001b[39m\n",
       "\u001b[33m            error_msgs (list of str): error messages should be added to this\u001b[39m\n",
       "\u001b[33m                list, and will be reported together in\u001b[39m\n",
       "\u001b[33m                :meth:`~torch.nn.Module.load_state_dict`\u001b[39m\n",
       "\u001b[33m        \"\"\"\u001b[39m\n",
       "        \u001b[38;5;28;01mfor\u001b[39;00m hook \u001b[38;5;28;01min\u001b[39;00m self._load_state_dict_pre_hooks.values():\n",
       "            hook(\n",
       "                state_dict,\n",
       "                prefix,\n",
       "                local_metadata,\n",
       "                strict,\n",
       "                missing_keys,\n",
       "                unexpected_keys,\n",
       "                error_msgs,\n",
       "            )\n",
       "\n",
       "        persistent_buffers = {\n",
       "            k: v\n",
       "            \u001b[38;5;28;01mfor\u001b[39;00m k, v \u001b[38;5;28;01min\u001b[39;00m self._buffers.items()\n",
       "            \u001b[38;5;28;01mif\u001b[39;00m k \u001b[38;5;28;01mnot\u001b[39;00m \u001b[38;5;28;01min\u001b[39;00m self._non_persistent_buffers_set\n",
       "        }\n",
       "        local_name_params = itertools.chain(\n",
       "            self._parameters.items(), persistent_buffers.items()\n",
       "        )\n",
       "        local_state = {k: v \u001b[38;5;28;01mfor\u001b[39;00m k, v \u001b[38;5;28;01min\u001b[39;00m local_name_params \u001b[38;5;28;01mif\u001b[39;00m v \u001b[38;5;28;01mis\u001b[39;00m \u001b[38;5;28;01mnot\u001b[39;00m \u001b[38;5;28;01mNone\u001b[39;00m}\n",
       "        assign_to_params_buffers = local_metadata.get(\u001b[33m\"assign_to_params_buffers\"\u001b[39m, \u001b[38;5;28;01mFalse\u001b[39;00m)\n",
       "        use_swap_tensors = torch.__future__.get_swap_module_params_on_conversion()\n",
       "\n",
       "        \u001b[38;5;28;01mfor\u001b[39;00m name, param \u001b[38;5;28;01min\u001b[39;00m local_state.items():\n",
       "            key = prefix + name\n",
       "            \u001b[38;5;28;01mif\u001b[39;00m key \u001b[38;5;28;01min\u001b[39;00m state_dict:\n",
       "                input_param = state_dict[key]\n",
       "                \u001b[38;5;28;01mif\u001b[39;00m \u001b[38;5;28;01mnot\u001b[39;00m torch.overrides.is_tensor_like(input_param):\n",
       "                    error_msgs.append(\n",
       "                        f'While copying the parameter named \"{key}\", '\n",
       "                        \u001b[33m\"expected torch.Tensor or Tensor-like object from checkpoint but \"\u001b[39m\n",
       "                        f\"received {type(input_param)}\"\n",
       "                    )\n",
       "                    \u001b[38;5;28;01mcontinue\u001b[39;00m\n",
       "\n",
       "                \u001b[38;5;66;03m# This is used to avoid copying uninitialized parameters into\u001b[39;00m\n",
       "                \u001b[38;5;66;03m# non-lazy modules, since they dont have the hook to do the checks\u001b[39;00m\n",
       "                \u001b[38;5;66;03m# in such case, it will error when accessing the .shape attribute.\u001b[39;00m\n",
       "                is_param_lazy = torch.nn.parameter.is_lazy(param)\n",
       "                \u001b[38;5;66;03m# Backward compatibility: loading 1-dim tensor from 0.3.* to version 0.4+\u001b[39;00m\n",
       "                \u001b[38;5;28;01mif\u001b[39;00m (\n",
       "                    \u001b[38;5;28;01mnot\u001b[39;00m is_param_lazy\n",
       "                    \u001b[38;5;28;01mand\u001b[39;00m len(param.shape) == \u001b[32m0\u001b[39m\n",
       "                    \u001b[38;5;28;01mand\u001b[39;00m len(input_param.shape) == \u001b[32m1\u001b[39m\n",
       "                ):\n",
       "                    input_param = input_param[\u001b[32m0\u001b[39m]\n",
       "\n",
       "                \u001b[38;5;28;01mif\u001b[39;00m \u001b[38;5;28;01mnot\u001b[39;00m is_param_lazy \u001b[38;5;28;01mand\u001b[39;00m input_param.shape != param.shape:\n",
       "                    \u001b[38;5;66;03m# local shape should match the one in checkpoint\u001b[39;00m\n",
       "                    error_msgs.append(\n",
       "                        f\"size mismatch for {key}: copying a param with shape {input_param.shape} from checkpoint, \"\n",
       "                        f\"the shape in current model is {param.shape}.\"\n",
       "                    )\n",
       "                    \u001b[38;5;28;01mcontinue\u001b[39;00m\n",
       "\n",
       "                \u001b[38;5;28;01mif\u001b[39;00m (\n",
       "                    param.is_meta\n",
       "                    \u001b[38;5;28;01mand\u001b[39;00m \u001b[38;5;28;01mnot\u001b[39;00m input_param.is_meta\n",
       "                    \u001b[38;5;28;01mand\u001b[39;00m \u001b[38;5;28;01mnot\u001b[39;00m assign_to_params_buffers\n",
       "                ):\n",
       "                    warnings.warn(\n",
       "                        f\"for {key}: copying from a non-meta parameter in the checkpoint to a meta \"\n",
       "                        \u001b[33m\"parameter in the current model, which is a no-op. (Did you mean to \"\u001b[39m\n",
       "                        \u001b[33m\"pass `assign=True` to assign items in the state dictionary to their \"\u001b[39m\n",
       "                        \u001b[33m\"corresponding key in the module instead of copying them in place?)\"\u001b[39m\n",
       "                    )\n",
       "\n",
       "                \u001b[38;5;28;01mtry\u001b[39;00m:\n",
       "                    \u001b[38;5;28;01mwith\u001b[39;00m torch.no_grad():\n",
       "                        \u001b[38;5;28;01mif\u001b[39;00m use_swap_tensors:\n",
       "                            new_input_param = param.module_load(\n",
       "                                input_param, assign=assign_to_params_buffers\n",
       "                            )\n",
       "                            \u001b[38;5;28;01mif\u001b[39;00m id(new_input_param) == id(input_param) \u001b[38;5;28;01mor\u001b[39;00m id(\n",
       "                                new_input_param\n",
       "                            ) == id(param):\n",
       "                                \u001b[38;5;28;01mraise\u001b[39;00m RuntimeError(\n",
       "                                    \u001b[33m\"module_load returned one of self or other, please .detach() \"\u001b[39m\n",
       "                                    \u001b[33m\"the result if returning one of the inputs in module_load\"\u001b[39m\n",
       "                                )\n",
       "                            \u001b[38;5;28;01mif\u001b[39;00m isinstance(param, torch.nn.Parameter):\n",
       "                                \u001b[38;5;28;01mif\u001b[39;00m \u001b[38;5;28;01mnot\u001b[39;00m isinstance(new_input_param, torch.nn.Parameter):\n",
       "                                    new_input_param = torch.nn.Parameter(\n",
       "                                        new_input_param,\n",
       "                                        requires_grad=param.requires_grad,\n",
       "                                    )\n",
       "                                \u001b[38;5;28;01melse\u001b[39;00m:\n",
       "                                    new_input_param.requires_grad_(param.requires_grad)\n",
       "                            torch.utils.swap_tensors(param, new_input_param)\n",
       "                            \u001b[38;5;28;01mdel\u001b[39;00m new_input_param\n",
       "                        \u001b[38;5;28;01melif\u001b[39;00m assign_to_params_buffers:\n",
       "                            \u001b[38;5;66;03m# Shape checks are already done above\u001b[39;00m\n",
       "                            \u001b[38;5;28;01mif\u001b[39;00m isinstance(param, torch.nn.Parameter):\n",
       "                                \u001b[38;5;28;01mif\u001b[39;00m \u001b[38;5;28;01mnot\u001b[39;00m isinstance(input_param, torch.nn.Parameter):\n",
       "                                    input_param = torch.nn.Parameter(\n",
       "                                        input_param, requires_grad=param.requires_grad\n",
       "                                    )\n",
       "                                \u001b[38;5;28;01melse\u001b[39;00m:\n",
       "                                    input_param.requires_grad_(param.requires_grad)\n",
       "                            setattr(self, name, input_param)\n",
       "                        \u001b[38;5;28;01melse\u001b[39;00m:\n",
       "                            param.copy_(input_param)\n",
       "                \u001b[38;5;28;01mexcept\u001b[39;00m Exception \u001b[38;5;28;01mas\u001b[39;00m ex:\n",
       "                    action = \u001b[33m\"swapping\"\u001b[39m \u001b[38;5;28;01mif\u001b[39;00m use_swap_tensors \u001b[38;5;28;01melse\u001b[39;00m \u001b[33m\"copying\"\u001b[39m\n",
       "                    error_msgs.append(\n",
       "                        f'While {action} the parameter named \"{key}\", '\n",
       "                        f\"whose dimensions in the model are {param.size()} and \"\n",
       "                        f\"whose dimensions in the checkpoint are {input_param.size()}, \"\n",
       "                        f\"an exception occurred : {ex.args}.\"\n",
       "                    )\n",
       "            \u001b[38;5;28;01melif\u001b[39;00m strict:\n",
       "                missing_keys.append(key)\n",
       "\n",
       "        extra_state_key = prefix + _EXTRA_STATE_KEY_SUFFIX\n",
       "        \u001b[38;5;28;01mif\u001b[39;00m (\n",
       "            getattr(self.__class__, \u001b[33m\"set_extra_state\"\u001b[39m, Module.set_extra_state)\n",
       "            \u001b[38;5;28;01mis\u001b[39;00m \u001b[38;5;28;01mnot\u001b[39;00m Module.set_extra_state\n",
       "        ):\n",
       "            \u001b[38;5;28;01mif\u001b[39;00m extra_state_key \u001b[38;5;28;01min\u001b[39;00m state_dict:\n",
       "                self.set_extra_state(state_dict[extra_state_key])\n",
       "            \u001b[38;5;28;01melif\u001b[39;00m strict:\n",
       "                missing_keys.append(extra_state_key)\n",
       "        \u001b[38;5;28;01melif\u001b[39;00m strict \u001b[38;5;28;01mand\u001b[39;00m (extra_state_key \u001b[38;5;28;01min\u001b[39;00m state_dict):\n",
       "            unexpected_keys.append(extra_state_key)\n",
       "\n",
       "        \u001b[38;5;28;01mif\u001b[39;00m strict:\n",
       "            \u001b[38;5;28;01mfor\u001b[39;00m key \u001b[38;5;28;01min\u001b[39;00m state_dict.keys():\n",
       "                \u001b[38;5;28;01mif\u001b[39;00m key.startswith(prefix) \u001b[38;5;28;01mand\u001b[39;00m key != extra_state_key:\n",
       "                    input_name = key[len(prefix) :].split(\u001b[33m\".\"\u001b[39m, \u001b[32m1\u001b[39m)\n",
       "                    \u001b[38;5;66;03m# Must be Module if it have attributes\u001b[39;00m\n",
       "                    \u001b[38;5;28;01mif\u001b[39;00m len(input_name) > \u001b[32m1\u001b[39m:\n",
       "                        \u001b[38;5;28;01mif\u001b[39;00m input_name[\u001b[32m0\u001b[39m] \u001b[38;5;28;01mnot\u001b[39;00m \u001b[38;5;28;01min\u001b[39;00m self._modules:\n",
       "                            unexpected_keys.append(key)\n",
       "                    \u001b[38;5;28;01melif\u001b[39;00m input_name[\u001b[32m0\u001b[39m] \u001b[38;5;28;01mnot\u001b[39;00m \u001b[38;5;28;01min\u001b[39;00m local_state:\n",
       "                        unexpected_keys.append(key)\n",
       "\n",
       "    \u001b[38;5;28;01mdef\u001b[39;00m load_state_dict(\n",
       "        self, state_dict: Mapping[str, Any], strict: bool = \u001b[38;5;28;01mTrue\u001b[39;00m, assign: bool = \u001b[38;5;28;01mFalse\u001b[39;00m\n",
       "    ):\n",
       "        \u001b[33mr\"\"\"Copy parameters and buffers from :attr:`state_dict` into this module and its descendants.\u001b[39m\n",
       "\n",
       "\u001b[33m        If :attr:`strict` is ``True``, then\u001b[39m\n",
       "\u001b[33m        the keys of :attr:`state_dict` must exactly match the keys returned\u001b[39m\n",
       "\u001b[33m        by this module's :meth:`~torch.nn.Module.state_dict` function.\u001b[39m\n",
       "\n",
       "\u001b[33m        .. warning::\u001b[39m\n",
       "\u001b[33m            If :attr:`assign` is ``True`` the optimizer must be created after\u001b[39m\n",
       "\u001b[33m            the call to :attr:`load_state_dict` unless\u001b[39m\n",
       "\u001b[33m            :func:`~torch.__future__.get_swap_module_params_on_conversion` is ``True``.\u001b[39m\n",
       "\n",
       "\u001b[33m        Args:\u001b[39m\n",
       "\u001b[33m            state_dict (dict): a dict containing parameters and\u001b[39m\n",
       "\u001b[33m                persistent buffers.\u001b[39m\n",
       "\u001b[33m            strict (bool, optional): whether to strictly enforce that the keys\u001b[39m\n",
       "\u001b[33m                in :attr:`state_dict` match the keys returned by this module's\u001b[39m\n",
       "\u001b[33m                :meth:`~torch.nn.Module.state_dict` function. Default: ``True``\u001b[39m\n",
       "\u001b[33m            assign (bool, optional): When set to ``False``, the properties of the tensors\u001b[39m\n",
       "\u001b[33m                in the current module are preserved whereas setting it to ``True`` preserves\u001b[39m\n",
       "\u001b[33m                properties of the Tensors in the state dict. The only\u001b[39m\n",
       "\u001b[33m                exception is the ``requires_grad`` field of :class:`~torch.nn.Parameter`s\u001b[39m\n",
       "\u001b[33m                for which the value from the module is preserved.\u001b[39m\n",
       "\u001b[33m                Default: ``False``\u001b[39m\n",
       "\n",
       "\u001b[33m        Returns:\u001b[39m\n",
       "\u001b[33m            ``NamedTuple`` with ``missing_keys`` and ``unexpected_keys`` fields:\u001b[39m\n",
       "\u001b[33m                * **missing_keys** is a list of str containing any keys that are expected\u001b[39m\n",
       "\u001b[33m                    by this module but missing from the provided ``state_dict``.\u001b[39m\n",
       "\u001b[33m                * **unexpected_keys** is a list of str containing the keys that are not\u001b[39m\n",
       "\u001b[33m                    expected by this module but present in the provided ``state_dict``.\u001b[39m\n",
       "\n",
       "\u001b[33m        Note:\u001b[39m\n",
       "\u001b[33m            If a parameter or buffer is registered as ``None`` and its corresponding key\u001b[39m\n",
       "\u001b[33m            exists in :attr:`state_dict`, :meth:`load_state_dict` will raise a\u001b[39m\n",
       "\u001b[33m            ``RuntimeError``.\u001b[39m\n",
       "\u001b[33m        \"\"\"\u001b[39m\n",
       "        \u001b[38;5;28;01mif\u001b[39;00m \u001b[38;5;28;01mnot\u001b[39;00m isinstance(state_dict, Mapping):\n",
       "            \u001b[38;5;28;01mraise\u001b[39;00m TypeError(\n",
       "                f\"Expected state_dict to be dict-like, got {type(state_dict)}.\"\n",
       "            )\n",
       "\n",
       "        missing_keys: list[str] = []\n",
       "        unexpected_keys: list[str] = []\n",
       "        error_msgs: list[str] = []\n",
       "\n",
       "        \u001b[38;5;66;03m# copy state_dict so _load_from_state_dict can modify it\u001b[39;00m\n",
       "        metadata = getattr(state_dict, \u001b[33m\"_metadata\"\u001b[39m, \u001b[38;5;28;01mNone\u001b[39;00m)\n",
       "        state_dict = OrderedDict(state_dict)\n",
       "        \u001b[38;5;28;01mif\u001b[39;00m metadata \u001b[38;5;28;01mis\u001b[39;00m \u001b[38;5;28;01mnot\u001b[39;00m \u001b[38;5;28;01mNone\u001b[39;00m:\n",
       "            \u001b[38;5;66;03m# mypy isn't aware that \"_metadata\" exists in state_dict\u001b[39;00m\n",
       "            state_dict._metadata = metadata  \u001b[38;5;66;03m# type: ignore[attr-defined]\u001b[39;00m\n",
       "\n",
       "        \u001b[38;5;28;01mdef\u001b[39;00m load(module, local_state_dict, prefix=\u001b[33m\"\"\u001b[39m):\n",
       "            local_metadata = {} \u001b[38;5;28;01mif\u001b[39;00m metadata \u001b[38;5;28;01mis\u001b[39;00m \u001b[38;5;28;01mNone\u001b[39;00m \u001b[38;5;28;01melse\u001b[39;00m metadata.get(prefix[:-\u001b[32m1\u001b[39m], {})\n",
       "            \u001b[38;5;28;01mif\u001b[39;00m assign:\n",
       "                local_metadata[\u001b[33m\"assign_to_params_buffers\"\u001b[39m] = assign\n",
       "            module._load_from_state_dict(\n",
       "                local_state_dict,\n",
       "                prefix,\n",
       "                local_metadata,\n",
       "                \u001b[38;5;28;01mTrue\u001b[39;00m,\n",
       "                missing_keys,\n",
       "                unexpected_keys,\n",
       "                error_msgs,\n",
       "            )\n",
       "            \u001b[38;5;28;01mfor\u001b[39;00m name, child \u001b[38;5;28;01min\u001b[39;00m module._modules.items():\n",
       "                \u001b[38;5;28;01mif\u001b[39;00m child \u001b[38;5;28;01mis\u001b[39;00m \u001b[38;5;28;01mnot\u001b[39;00m \u001b[38;5;28;01mNone\u001b[39;00m:\n",
       "                    child_prefix = prefix + name + \u001b[33m\".\"\u001b[39m\n",
       "                    child_state_dict = {\n",
       "                        k: v\n",
       "                        \u001b[38;5;28;01mfor\u001b[39;00m k, v \u001b[38;5;28;01min\u001b[39;00m local_state_dict.items()\n",
       "                        \u001b[38;5;28;01mif\u001b[39;00m k.startswith(child_prefix)\n",
       "                    }\n",
       "                    load(child, child_state_dict, child_prefix)  \u001b[38;5;66;03m# noqa: F821\u001b[39;00m\n",
       "\n",
       "            \u001b[38;5;66;03m# Note that the hook can modify missing_keys and unexpected_keys.\u001b[39;00m\n",
       "            incompatible_keys = _IncompatibleKeys(missing_keys, unexpected_keys)\n",
       "            \u001b[38;5;28;01mfor\u001b[39;00m hook \u001b[38;5;28;01min\u001b[39;00m module._load_state_dict_post_hooks.values():\n",
       "                out = hook(module, incompatible_keys)\n",
       "                \u001b[38;5;28;01massert\u001b[39;00m out \u001b[38;5;28;01mis\u001b[39;00m \u001b[38;5;28;01mNone\u001b[39;00m, (\n",
       "                    \u001b[33m\"Hooks registered with ``register_load_state_dict_post_hook`` are not\"\u001b[39m\n",
       "                    \u001b[33m\"expected to return new values, if incompatible_keys need to be modified,\"\u001b[39m\n",
       "                    \u001b[33m\"it should be done inplace.\"\u001b[39m\n",
       "                )\n",
       "\n",
       "        load(self, state_dict)\n",
       "        \u001b[38;5;28;01mdel\u001b[39;00m load\n",
       "\n",
       "        \u001b[38;5;28;01mif\u001b[39;00m strict:\n",
       "            \u001b[38;5;28;01mif\u001b[39;00m len(unexpected_keys) > \u001b[32m0\u001b[39m:\n",
       "                error_msgs.insert(\n",
       "                    \u001b[32m0\u001b[39m,\n",
       "                    \u001b[33m\"Unexpected key(s) in state_dict: {}. \"\u001b[39m.format(\n",
       "                        \u001b[33m\", \"\u001b[39m.join(f'\"{k}\"' \u001b[38;5;28;01mfor\u001b[39;00m k \u001b[38;5;28;01min\u001b[39;00m unexpected_keys)\n",
       "                    ),\n",
       "                )\n",
       "            \u001b[38;5;28;01mif\u001b[39;00m len(missing_keys) > \u001b[32m0\u001b[39m:\n",
       "                error_msgs.insert(\n",
       "                    \u001b[32m0\u001b[39m,\n",
       "                    \u001b[33m\"Missing key(s) in state_dict: {}. \"\u001b[39m.format(\n",
       "                        \u001b[33m\", \"\u001b[39m.join(f'\"{k}\"' \u001b[38;5;28;01mfor\u001b[39;00m k \u001b[38;5;28;01min\u001b[39;00m missing_keys)\n",
       "                    ),\n",
       "                )\n",
       "\n",
       "        \u001b[38;5;28;01mif\u001b[39;00m len(error_msgs) > \u001b[32m0\u001b[39m:\n",
       "            \u001b[38;5;28;01mraise\u001b[39;00m RuntimeError(\n",
       "                \u001b[33m\"Error(s) in loading state_dict for {}:\\n\\t{}\"\u001b[39m.format(\n",
       "                    self.__class__.__name__, \u001b[33m\"\\n\\t\"\u001b[39m.join(error_msgs)\n",
       "                )\n",
       "            )\n",
       "        \u001b[38;5;28;01mreturn\u001b[39;00m _IncompatibleKeys(missing_keys, unexpected_keys)\n",
       "\n",
       "    \u001b[38;5;28;01mdef\u001b[39;00m _named_members(\n",
       "        self, get_members_fn, prefix=\u001b[33m\"\"\u001b[39m, recurse=\u001b[38;5;28;01mTrue\u001b[39;00m, remove_duplicate: bool = \u001b[38;5;28;01mTrue\u001b[39;00m\n",
       "    ):\n",
       "        \u001b[33mr\"\"\"Help yield various names + members of modules.\"\"\"\u001b[39m\n",
       "        memo = set()\n",
       "        modules = (\n",
       "            self.named_modules(prefix=prefix, remove_duplicate=remove_duplicate)\n",
       "            \u001b[38;5;28;01mif\u001b[39;00m recurse\n",
       "            \u001b[38;5;28;01melse\u001b[39;00m [(prefix, self)]\n",
       "        )\n",
       "        \u001b[38;5;28;01mfor\u001b[39;00m module_prefix, module \u001b[38;5;28;01min\u001b[39;00m modules:\n",
       "            members = get_members_fn(module)\n",
       "            \u001b[38;5;28;01mfor\u001b[39;00m k, v \u001b[38;5;28;01min\u001b[39;00m members:\n",
       "                \u001b[38;5;28;01mif\u001b[39;00m v \u001b[38;5;28;01mis\u001b[39;00m \u001b[38;5;28;01mNone\u001b[39;00m \u001b[38;5;28;01mor\u001b[39;00m v \u001b[38;5;28;01min\u001b[39;00m memo:\n",
       "                    \u001b[38;5;28;01mcontinue\u001b[39;00m\n",
       "                \u001b[38;5;28;01mif\u001b[39;00m remove_duplicate:\n",
       "                    memo.add(v)\n",
       "                name = module_prefix + (\u001b[33m\".\"\u001b[39m \u001b[38;5;28;01mif\u001b[39;00m module_prefix \u001b[38;5;28;01melse\u001b[39;00m \u001b[33m\"\"\u001b[39m) + k\n",
       "                \u001b[38;5;28;01myield\u001b[39;00m name, v\n",
       "\n",
       "    \u001b[38;5;28;01mdef\u001b[39;00m parameters(self, recurse: bool = \u001b[38;5;28;01mTrue\u001b[39;00m) -> Iterator[Parameter]:\n",
       "        \u001b[33mr\"\"\"Return an iterator over module parameters.\u001b[39m\n",
       "\n",
       "\u001b[33m        This is typically passed to an optimizer.\u001b[39m\n",
       "\n",
       "\u001b[33m        Args:\u001b[39m\n",
       "\u001b[33m            recurse (bool): if True, then yields parameters of this module\u001b[39m\n",
       "\u001b[33m                and all submodules. Otherwise, yields only parameters that\u001b[39m\n",
       "\u001b[33m                are direct members of this module.\u001b[39m\n",
       "\n",
       "\u001b[33m        Yields:\u001b[39m\n",
       "\u001b[33m            Parameter: module parameter\u001b[39m\n",
       "\n",
       "\u001b[33m        Example::\u001b[39m\n",
       "\n",
       "\u001b[33m            >>> # xdoctest: +SKIP(\"undefined vars\")\u001b[39m\n",
       "\u001b[33m            >>> for param in model.parameters():\u001b[39m\n",
       "\u001b[33m            >>>     print(type(param), param.size())\u001b[39m\n",
       "\u001b[33m            <class 'torch.Tensor'> (20L,)\u001b[39m\n",
       "\u001b[33m            <class 'torch.Tensor'> (20L, 1L, 5L, 5L)\u001b[39m\n",
       "\n",
       "\u001b[33m        \"\"\"\u001b[39m\n",
       "        \u001b[38;5;28;01mfor\u001b[39;00m _name, param \u001b[38;5;28;01min\u001b[39;00m self.named_parameters(recurse=recurse):\n",
       "            \u001b[38;5;28;01myield\u001b[39;00m param\n",
       "\n",
       "    \u001b[38;5;28;01mdef\u001b[39;00m named_parameters(\n",
       "        self, prefix: str = \u001b[33m\"\"\u001b[39m, recurse: bool = \u001b[38;5;28;01mTrue\u001b[39;00m, remove_duplicate: bool = \u001b[38;5;28;01mTrue\u001b[39;00m\n",
       "    ) -> Iterator[tuple[str, Parameter]]:\n",
       "        \u001b[33mr\"\"\"Return an iterator over module parameters, yielding both the name of the parameter as well as the parameter itself.\u001b[39m\n",
       "\n",
       "\u001b[33m        Args:\u001b[39m\n",
       "\u001b[33m            prefix (str): prefix to prepend to all parameter names.\u001b[39m\n",
       "\u001b[33m            recurse (bool): if True, then yields parameters of this module\u001b[39m\n",
       "\u001b[33m                and all submodules. Otherwise, yields only parameters that\u001b[39m\n",
       "\u001b[33m                are direct members of this module.\u001b[39m\n",
       "\u001b[33m            remove_duplicate (bool, optional): whether to remove the duplicated\u001b[39m\n",
       "\u001b[33m                parameters in the result. Defaults to True.\u001b[39m\n",
       "\n",
       "\u001b[33m        Yields:\u001b[39m\n",
       "\u001b[33m            (str, Parameter): Tuple containing the name and parameter\u001b[39m\n",
       "\n",
       "\u001b[33m        Example::\u001b[39m\n",
       "\n",
       "\u001b[33m            >>> # xdoctest: +SKIP(\"undefined vars\")\u001b[39m\n",
       "\u001b[33m            >>> for name, param in self.named_parameters():\u001b[39m\n",
       "\u001b[33m            >>>     if name in ['bias']:\u001b[39m\n",
       "\u001b[33m            >>>         print(param.size())\u001b[39m\n",
       "\n",
       "\u001b[33m        \"\"\"\u001b[39m\n",
       "        gen = self._named_members(\n",
       "            \u001b[38;5;28;01mlambda\u001b[39;00m module: module._parameters.items(),\n",
       "            prefix=prefix,\n",
       "            recurse=recurse,\n",
       "            remove_duplicate=remove_duplicate,\n",
       "        )\n",
       "        \u001b[38;5;28;01myield\u001b[39;00m \u001b[38;5;28;01mfrom\u001b[39;00m gen\n",
       "\n",
       "    \u001b[38;5;28;01mdef\u001b[39;00m buffers(self, recurse: bool = \u001b[38;5;28;01mTrue\u001b[39;00m) -> Iterator[Tensor]:\n",
       "        \u001b[33mr\"\"\"Return an iterator over module buffers.\u001b[39m\n",
       "\n",
       "\u001b[33m        Args:\u001b[39m\n",
       "\u001b[33m            recurse (bool): if True, then yields buffers of this module\u001b[39m\n",
       "\u001b[33m                and all submodules. Otherwise, yields only buffers that\u001b[39m\n",
       "\u001b[33m                are direct members of this module.\u001b[39m\n",
       "\n",
       "\u001b[33m        Yields:\u001b[39m\n",
       "\u001b[33m            torch.Tensor: module buffer\u001b[39m\n",
       "\n",
       "\u001b[33m        Example::\u001b[39m\n",
       "\n",
       "\u001b[33m            >>> # xdoctest: +SKIP(\"undefined vars\")\u001b[39m\n",
       "\u001b[33m            >>> for buf in model.buffers():\u001b[39m\n",
       "\u001b[33m            >>>     print(type(buf), buf.size())\u001b[39m\n",
       "\u001b[33m            <class 'torch.Tensor'> (20L,)\u001b[39m\n",
       "\u001b[33m            <class 'torch.Tensor'> (20L, 1L, 5L, 5L)\u001b[39m\n",
       "\n",
       "\u001b[33m        \"\"\"\u001b[39m\n",
       "        \u001b[38;5;28;01mfor\u001b[39;00m _, buf \u001b[38;5;28;01min\u001b[39;00m self.named_buffers(recurse=recurse):\n",
       "            \u001b[38;5;28;01myield\u001b[39;00m buf\n",
       "\n",
       "    \u001b[38;5;28;01mdef\u001b[39;00m named_buffers(\n",
       "        self, prefix: str = \u001b[33m\"\"\u001b[39m, recurse: bool = \u001b[38;5;28;01mTrue\u001b[39;00m, remove_duplicate: bool = \u001b[38;5;28;01mTrue\u001b[39;00m\n",
       "    ) -> Iterator[tuple[str, Tensor]]:\n",
       "        \u001b[33mr\"\"\"Return an iterator over module buffers, yielding both the name of the buffer as well as the buffer itself.\u001b[39m\n",
       "\n",
       "\u001b[33m        Args:\u001b[39m\n",
       "\u001b[33m            prefix (str): prefix to prepend to all buffer names.\u001b[39m\n",
       "\u001b[33m            recurse (bool, optional): if True, then yields buffers of this module\u001b[39m\n",
       "\u001b[33m                and all submodules. Otherwise, yields only buffers that\u001b[39m\n",
       "\u001b[33m                are direct members of this module. Defaults to True.\u001b[39m\n",
       "\u001b[33m            remove_duplicate (bool, optional): whether to remove the duplicated buffers in the result. Defaults to True.\u001b[39m\n",
       "\n",
       "\u001b[33m        Yields:\u001b[39m\n",
       "\u001b[33m            (str, torch.Tensor): Tuple containing the name and buffer\u001b[39m\n",
       "\n",
       "\u001b[33m        Example::\u001b[39m\n",
       "\n",
       "\u001b[33m            >>> # xdoctest: +SKIP(\"undefined vars\")\u001b[39m\n",
       "\u001b[33m            >>> for name, buf in self.named_buffers():\u001b[39m\n",
       "\u001b[33m            >>>     if name in ['running_var']:\u001b[39m\n",
       "\u001b[33m            >>>         print(buf.size())\u001b[39m\n",
       "\n",
       "\u001b[33m        \"\"\"\u001b[39m\n",
       "        gen = self._named_members(\n",
       "            \u001b[38;5;28;01mlambda\u001b[39;00m module: module._buffers.items(),\n",
       "            prefix=prefix,\n",
       "            recurse=recurse,\n",
       "            remove_duplicate=remove_duplicate,\n",
       "        )\n",
       "        \u001b[38;5;28;01myield\u001b[39;00m \u001b[38;5;28;01mfrom\u001b[39;00m gen\n",
       "\n",
       "    \u001b[38;5;28;01mdef\u001b[39;00m children(self) -> Iterator[\u001b[33m\"Module\"\u001b[39m]:\n",
       "        \u001b[33mr\"\"\"Return an iterator over immediate children modules.\u001b[39m\n",
       "\n",
       "\u001b[33m        Yields:\u001b[39m\n",
       "\u001b[33m            Module: a child module\u001b[39m\n",
       "\u001b[33m        \"\"\"\u001b[39m\n",
       "        \u001b[38;5;28;01mfor\u001b[39;00m _name, module \u001b[38;5;28;01min\u001b[39;00m self.named_children():\n",
       "            \u001b[38;5;28;01myield\u001b[39;00m module\n",
       "\n",
       "    \u001b[38;5;28;01mdef\u001b[39;00m named_children(self) -> Iterator[tuple[str, \u001b[33m\"Module\"\u001b[39m]]:\n",
       "        \u001b[33mr\"\"\"Return an iterator over immediate children modules, yielding both the name of the module as well as the module itself.\u001b[39m\n",
       "\n",
       "\u001b[33m        Yields:\u001b[39m\n",
       "\u001b[33m            (str, Module): Tuple containing a name and child module\u001b[39m\n",
       "\n",
       "\u001b[33m        Example::\u001b[39m\n",
       "\n",
       "\u001b[33m            >>> # xdoctest: +SKIP(\"undefined vars\")\u001b[39m\n",
       "\u001b[33m            >>> for name, module in model.named_children():\u001b[39m\n",
       "\u001b[33m            >>>     if name in ['conv4', 'conv5']:\u001b[39m\n",
       "\u001b[33m            >>>         print(module)\u001b[39m\n",
       "\n",
       "\u001b[33m        \"\"\"\u001b[39m\n",
       "        memo = set()\n",
       "        \u001b[38;5;28;01mfor\u001b[39;00m name, module \u001b[38;5;28;01min\u001b[39;00m self._modules.items():\n",
       "            \u001b[38;5;28;01mif\u001b[39;00m module \u001b[38;5;28;01mis\u001b[39;00m \u001b[38;5;28;01mnot\u001b[39;00m \u001b[38;5;28;01mNone\u001b[39;00m \u001b[38;5;28;01mand\u001b[39;00m module \u001b[38;5;28;01mnot\u001b[39;00m \u001b[38;5;28;01min\u001b[39;00m memo:\n",
       "                memo.add(module)\n",
       "                \u001b[38;5;28;01myield\u001b[39;00m name, module\n",
       "\n",
       "    \u001b[38;5;28;01mdef\u001b[39;00m modules(self) -> Iterator[\u001b[33m\"Module\"\u001b[39m]:\n",
       "        \u001b[33mr\"\"\"Return an iterator over all modules in the network.\u001b[39m\n",
       "\n",
       "\u001b[33m        Yields:\u001b[39m\n",
       "\u001b[33m            Module: a module in the network\u001b[39m\n",
       "\n",
       "\u001b[33m        Note:\u001b[39m\n",
       "\u001b[33m            Duplicate modules are returned only once. In the following\u001b[39m\n",
       "\u001b[33m            example, ``l`` will be returned only once.\u001b[39m\n",
       "\n",
       "\u001b[33m        Example::\u001b[39m\n",
       "\n",
       "\u001b[33m            >>> l = nn.Linear(2, 2)\u001b[39m\n",
       "\u001b[33m            >>> net = nn.Sequential(l, l)\u001b[39m\n",
       "\u001b[33m            >>> for idx, m in enumerate(net.modules()):\u001b[39m\n",
       "\u001b[33m            ...     print(idx, '->', m)\u001b[39m\n",
       "\n",
       "\u001b[33m            0 -> Sequential(\u001b[39m\n",
       "\u001b[33m              (0): Linear(in_features=2, out_features=2, bias=True)\u001b[39m\n",
       "\u001b[33m              (1): Linear(in_features=2, out_features=2, bias=True)\u001b[39m\n",
       "\u001b[33m            )\u001b[39m\n",
       "\u001b[33m            1 -> Linear(in_features=2, out_features=2, bias=True)\u001b[39m\n",
       "\n",
       "\u001b[33m        \"\"\"\u001b[39m\n",
       "        \u001b[38;5;28;01mfor\u001b[39;00m _, module \u001b[38;5;28;01min\u001b[39;00m self.named_modules():\n",
       "            \u001b[38;5;28;01myield\u001b[39;00m module\n",
       "\n",
       "    \u001b[38;5;28;01mdef\u001b[39;00m named_modules(\n",
       "        self,\n",
       "        memo: Optional[set[\u001b[33m\"Module\"\u001b[39m]] = \u001b[38;5;28;01mNone\u001b[39;00m,\n",
       "        prefix: str = \u001b[33m\"\"\u001b[39m,\n",
       "        remove_duplicate: bool = \u001b[38;5;28;01mTrue\u001b[39;00m,\n",
       "    ):\n",
       "        \u001b[33mr\"\"\"Return an iterator over all modules in the network, yielding both the name of the module as well as the module itself.\u001b[39m\n",
       "\n",
       "\u001b[33m        Args:\u001b[39m\n",
       "\u001b[33m            memo: a memo to store the set of modules already added to the result\u001b[39m\n",
       "\u001b[33m            prefix: a prefix that will be added to the name of the module\u001b[39m\n",
       "\u001b[33m            remove_duplicate: whether to remove the duplicated module instances in the result\u001b[39m\n",
       "\u001b[33m                or not\u001b[39m\n",
       "\n",
       "\u001b[33m        Yields:\u001b[39m\n",
       "\u001b[33m            (str, Module): Tuple of name and module\u001b[39m\n",
       "\n",
       "\u001b[33m        Note:\u001b[39m\n",
       "\u001b[33m            Duplicate modules are returned only once. In the following\u001b[39m\n",
       "\u001b[33m            example, ``l`` will be returned only once.\u001b[39m\n",
       "\n",
       "\u001b[33m        Example::\u001b[39m\n",
       "\n",
       "\u001b[33m            >>> l = nn.Linear(2, 2)\u001b[39m\n",
       "\u001b[33m            >>> net = nn.Sequential(l, l)\u001b[39m\n",
       "\u001b[33m            >>> for idx, m in enumerate(net.named_modules()):\u001b[39m\n",
       "\u001b[33m            ...     print(idx, '->', m)\u001b[39m\n",
       "\n",
       "\u001b[33m            0 -> ('', Sequential(\u001b[39m\n",
       "\u001b[33m              (0): Linear(in_features=2, out_features=2, bias=True)\u001b[39m\n",
       "\u001b[33m              (1): Linear(in_features=2, out_features=2, bias=True)\u001b[39m\n",
       "\u001b[33m            ))\u001b[39m\n",
       "\u001b[33m            1 -> ('0', Linear(in_features=2, out_features=2, bias=True))\u001b[39m\n",
       "\n",
       "\u001b[33m        \"\"\"\u001b[39m\n",
       "        \u001b[38;5;28;01mif\u001b[39;00m memo \u001b[38;5;28;01mis\u001b[39;00m \u001b[38;5;28;01mNone\u001b[39;00m:\n",
       "            memo = set()\n",
       "        \u001b[38;5;28;01mif\u001b[39;00m self \u001b[38;5;28;01mnot\u001b[39;00m \u001b[38;5;28;01min\u001b[39;00m memo:\n",
       "            \u001b[38;5;28;01mif\u001b[39;00m remove_duplicate:\n",
       "                memo.add(self)\n",
       "            \u001b[38;5;28;01myield\u001b[39;00m prefix, self\n",
       "            \u001b[38;5;28;01mfor\u001b[39;00m name, module \u001b[38;5;28;01min\u001b[39;00m self._modules.items():\n",
       "                \u001b[38;5;28;01mif\u001b[39;00m module \u001b[38;5;28;01mis\u001b[39;00m \u001b[38;5;28;01mNone\u001b[39;00m:\n",
       "                    \u001b[38;5;28;01mcontinue\u001b[39;00m\n",
       "                submodule_prefix = prefix + (\u001b[33m\".\"\u001b[39m \u001b[38;5;28;01mif\u001b[39;00m prefix \u001b[38;5;28;01melse\u001b[39;00m \u001b[33m\"\"\u001b[39m) + name\n",
       "                \u001b[38;5;28;01myield\u001b[39;00m \u001b[38;5;28;01mfrom\u001b[39;00m module.named_modules(\n",
       "                    memo, submodule_prefix, remove_duplicate\n",
       "                )\n",
       "\n",
       "    \u001b[38;5;28;01mdef\u001b[39;00m train(self: T, mode: bool = \u001b[38;5;28;01mTrue\u001b[39;00m) -> T:\n",
       "        \u001b[33mr\"\"\"Set the module in training mode.\u001b[39m\n",
       "\n",
       "\u001b[33m        This has an effect only on certain modules. See the documentation of\u001b[39m\n",
       "\u001b[33m        particular modules for details of their behaviors in training/evaluation\u001b[39m\n",
       "\u001b[33m        mode, i.e., whether they are affected, e.g. :class:`Dropout`, :class:`BatchNorm`,\u001b[39m\n",
       "\u001b[33m        etc.\u001b[39m\n",
       "\n",
       "\u001b[33m        Args:\u001b[39m\n",
       "\u001b[33m            mode (bool): whether to set training mode (``True``) or evaluation\u001b[39m\n",
       "\u001b[33m                         mode (``False``). Default: ``True``.\u001b[39m\n",
       "\n",
       "\u001b[33m        Returns:\u001b[39m\n",
       "\u001b[33m            Module: self\u001b[39m\n",
       "\u001b[33m        \"\"\"\u001b[39m\n",
       "        \u001b[38;5;28;01mif\u001b[39;00m \u001b[38;5;28;01mnot\u001b[39;00m isinstance(mode, bool):\n",
       "            \u001b[38;5;28;01mraise\u001b[39;00m ValueError(\u001b[33m\"training mode is expected to be boolean\"\u001b[39m)\n",
       "        self.training = mode\n",
       "        \u001b[38;5;28;01mfor\u001b[39;00m module \u001b[38;5;28;01min\u001b[39;00m self.children():\n",
       "            module.train(mode)\n",
       "        \u001b[38;5;28;01mreturn\u001b[39;00m self\n",
       "\n",
       "    \u001b[38;5;28;01mdef\u001b[39;00m eval(self: T) -> T:\n",
       "        \u001b[33mr\"\"\"Set the module in evaluation mode.\u001b[39m\n",
       "\n",
       "\u001b[33m        This has an effect only on certain modules. See the documentation of\u001b[39m\n",
       "\u001b[33m        particular modules for details of their behaviors in training/evaluation\u001b[39m\n",
       "\u001b[33m        mode, i.e. whether they are affected, e.g. :class:`Dropout`, :class:`BatchNorm`,\u001b[39m\n",
       "\u001b[33m        etc.\u001b[39m\n",
       "\n",
       "\u001b[33m        This is equivalent with :meth:`self.train(False) <torch.nn.Module.train>`.\u001b[39m\n",
       "\n",
       "\u001b[33m        See :ref:`locally-disable-grad-doc` for a comparison between\u001b[39m\n",
       "\u001b[33m        `.eval()` and several similar mechanisms that may be confused with it.\u001b[39m\n",
       "\n",
       "\u001b[33m        Returns:\u001b[39m\n",
       "\u001b[33m            Module: self\u001b[39m\n",
       "\u001b[33m        \"\"\"\u001b[39m\n",
       "        \u001b[38;5;28;01mreturn\u001b[39;00m self.train(\u001b[38;5;28;01mFalse\u001b[39;00m)\n",
       "\n",
       "    \u001b[38;5;28;01mdef\u001b[39;00m requires_grad_(self: T, requires_grad: bool = \u001b[38;5;28;01mTrue\u001b[39;00m) -> T:\n",
       "        \u001b[33mr\"\"\"Change if autograd should record operations on parameters in this module.\u001b[39m\n",
       "\n",
       "\u001b[33m        This method sets the parameters' :attr:`requires_grad` attributes\u001b[39m\n",
       "\u001b[33m        in-place.\u001b[39m\n",
       "\n",
       "\u001b[33m        This method is helpful for freezing part of the module for finetuning\u001b[39m\n",
       "\u001b[33m        or training parts of a model individually (e.g., GAN training).\u001b[39m\n",
       "\n",
       "\u001b[33m        See :ref:`locally-disable-grad-doc` for a comparison between\u001b[39m\n",
       "\u001b[33m        `.requires_grad_()` and several similar mechanisms that may be confused with it.\u001b[39m\n",
       "\n",
       "\u001b[33m        Args:\u001b[39m\n",
       "\u001b[33m            requires_grad (bool): whether autograd should record operations on\u001b[39m\n",
       "\u001b[33m                                  parameters in this module. Default: ``True``.\u001b[39m\n",
       "\n",
       "\u001b[33m        Returns:\u001b[39m\n",
       "\u001b[33m            Module: self\u001b[39m\n",
       "\u001b[33m        \"\"\"\u001b[39m\n",
       "        \u001b[38;5;28;01mfor\u001b[39;00m p \u001b[38;5;28;01min\u001b[39;00m self.parameters():\n",
       "            p.requires_grad_(requires_grad)\n",
       "        \u001b[38;5;28;01mreturn\u001b[39;00m self\n",
       "\n",
       "    \u001b[38;5;28;01mdef\u001b[39;00m zero_grad(self, set_to_none: bool = \u001b[38;5;28;01mTrue\u001b[39;00m) -> \u001b[38;5;28;01mNone\u001b[39;00m:\n",
       "        \u001b[33mr\"\"\"Reset gradients of all model parameters.\u001b[39m\n",
       "\n",
       "\u001b[33m        See similar function under :class:`torch.optim.Optimizer` for more context.\u001b[39m\n",
       "\n",
       "\u001b[33m        Args:\u001b[39m\n",
       "\u001b[33m            set_to_none (bool): instead of setting to zero, set the grads to None.\u001b[39m\n",
       "\u001b[33m                See :meth:`torch.optim.Optimizer.zero_grad` for details.\u001b[39m\n",
       "\u001b[33m        \"\"\"\u001b[39m\n",
       "        \u001b[38;5;28;01mif\u001b[39;00m getattr(self, \u001b[33m\"_is_replica\"\u001b[39m, \u001b[38;5;28;01mFalse\u001b[39;00m):\n",
       "            warnings.warn(\n",
       "                \u001b[33m\"Calling .zero_grad() from a module created with nn.DataParallel() has no effect. \"\u001b[39m\n",
       "                \u001b[33m\"The parameters are copied (in a differentiable manner) from the original module. \"\u001b[39m\n",
       "                \u001b[33m\"This means they are not leaf nodes in autograd and so don't accumulate gradients. \"\u001b[39m\n",
       "                \u001b[33m\"If you need gradients in your forward method, consider using autograd.grad instead.\"\u001b[39m\n",
       "            )\n",
       "\n",
       "        \u001b[38;5;28;01mfor\u001b[39;00m p \u001b[38;5;28;01min\u001b[39;00m self.parameters():\n",
       "            \u001b[38;5;28;01mif\u001b[39;00m p.grad \u001b[38;5;28;01mis\u001b[39;00m \u001b[38;5;28;01mnot\u001b[39;00m \u001b[38;5;28;01mNone\u001b[39;00m:\n",
       "                \u001b[38;5;28;01mif\u001b[39;00m set_to_none:\n",
       "                    p.grad = \u001b[38;5;28;01mNone\u001b[39;00m\n",
       "                \u001b[38;5;28;01melse\u001b[39;00m:\n",
       "                    \u001b[38;5;28;01mif\u001b[39;00m p.grad.grad_fn \u001b[38;5;28;01mis\u001b[39;00m \u001b[38;5;28;01mnot\u001b[39;00m \u001b[38;5;28;01mNone\u001b[39;00m:\n",
       "                        p.grad.detach_()\n",
       "                    \u001b[38;5;28;01melse\u001b[39;00m:\n",
       "                        p.grad.requires_grad_(\u001b[38;5;28;01mFalse\u001b[39;00m)\n",
       "                    p.grad.zero_()\n",
       "\n",
       "    \u001b[38;5;28;01mdef\u001b[39;00m share_memory(self: T) -> T:\n",
       "        \u001b[33mr\"\"\"See :meth:`torch.Tensor.share_memory_`.\"\"\"\u001b[39m\n",
       "        \u001b[38;5;28;01mreturn\u001b[39;00m self._apply(\u001b[38;5;28;01mlambda\u001b[39;00m t: t.share_memory_())\n",
       "\n",
       "    \u001b[38;5;28;01mdef\u001b[39;00m _get_name(self):\n",
       "        \u001b[38;5;28;01mreturn\u001b[39;00m self.__class__.__name__\n",
       "\n",
       "    \u001b[38;5;28;01mdef\u001b[39;00m extra_repr(self) -> str:\n",
       "        \u001b[33mr\"\"\"Return the extra representation of the module.\u001b[39m\n",
       "\n",
       "\u001b[33m        To print customized extra information, you should re-implement\u001b[39m\n",
       "\u001b[33m        this method in your own modules. Both single-line and multi-line\u001b[39m\n",
       "\u001b[33m        strings are acceptable.\u001b[39m\n",
       "\u001b[33m        \"\"\"\u001b[39m\n",
       "        \u001b[38;5;28;01mreturn\u001b[39;00m \u001b[33m\"\"\u001b[39m\n",
       "\n",
       "    \u001b[38;5;28;01mdef\u001b[39;00m __repr__(self):\n",
       "        \u001b[38;5;66;03m# We treat the extra repr like the sub-module, one item per line\u001b[39;00m\n",
       "        extra_lines = []\n",
       "        extra_repr = self.extra_repr()\n",
       "        \u001b[38;5;66;03m# empty string will be split into list ['']\u001b[39;00m\n",
       "        \u001b[38;5;28;01mif\u001b[39;00m extra_repr:\n",
       "            extra_lines = extra_repr.split(\u001b[33m\"\\n\"\u001b[39m)\n",
       "        child_lines = []\n",
       "        \u001b[38;5;28;01mfor\u001b[39;00m key, module \u001b[38;5;28;01min\u001b[39;00m self._modules.items():\n",
       "            mod_str = repr(module)\n",
       "            mod_str = _addindent(mod_str, \u001b[32m2\u001b[39m)\n",
       "            child_lines.append(\u001b[33m\"(\"\u001b[39m + key + \u001b[33m\"): \"\u001b[39m + mod_str)\n",
       "        lines = extra_lines + child_lines\n",
       "\n",
       "        main_str = self._get_name() + \u001b[33m\"(\"\u001b[39m\n",
       "        \u001b[38;5;28;01mif\u001b[39;00m lines:\n",
       "            \u001b[38;5;66;03m# simple one-liner info, which most builtin Modules will use\u001b[39;00m\n",
       "            \u001b[38;5;28;01mif\u001b[39;00m len(extra_lines) == \u001b[32m1\u001b[39m \u001b[38;5;28;01mand\u001b[39;00m \u001b[38;5;28;01mnot\u001b[39;00m child_lines:\n",
       "                main_str += extra_lines[\u001b[32m0\u001b[39m]\n",
       "            \u001b[38;5;28;01melse\u001b[39;00m:\n",
       "                main_str += \u001b[33m\"\\n  \"\u001b[39m + \u001b[33m\"\\n  \"\u001b[39m.join(lines) + \u001b[33m\"\\n\"\u001b[39m\n",
       "\n",
       "        main_str += \u001b[33m\")\"\u001b[39m\n",
       "        \u001b[38;5;28;01mreturn\u001b[39;00m main_str\n",
       "\n",
       "    \u001b[38;5;28;01mdef\u001b[39;00m __dir__(self):\n",
       "        module_attrs = dir(self.__class__)\n",
       "        attrs = list(self.__dict__.keys())\n",
       "        parameters = list(self._parameters.keys())\n",
       "        modules = list(self._modules.keys())\n",
       "        buffers = list(self._buffers.keys())\n",
       "        keys = module_attrs + attrs + parameters + modules + buffers\n",
       "\n",
       "        \u001b[38;5;66;03m# Eliminate attrs that are not legal Python variable names\u001b[39;00m\n",
       "        keys = [key \u001b[38;5;28;01mfor\u001b[39;00m key \u001b[38;5;28;01min\u001b[39;00m keys \u001b[38;5;28;01mif\u001b[39;00m \u001b[38;5;28;01mnot\u001b[39;00m key[\u001b[32m0\u001b[39m].isdigit()]\n",
       "\n",
       "        \u001b[38;5;28;01mreturn\u001b[39;00m sorted(keys)\n",
       "\n",
       "    \u001b[38;5;28;01mdef\u001b[39;00m _replicate_for_data_parallel(self):\n",
       "        replica = self.__new__(type(self))\n",
       "        replica.__dict__ = self.__dict__.copy()\n",
       "\n",
       "        \u001b[38;5;66;03m# replicas do not have parameters themselves, the replicas reference the original\u001b[39;00m\n",
       "        \u001b[38;5;66;03m# module.\u001b[39;00m\n",
       "        replica._parameters = {}\n",
       "        replica._buffers = replica._buffers.copy()\n",
       "        replica._modules = replica._modules.copy()\n",
       "        replica._is_replica = \u001b[38;5;28;01mTrue\u001b[39;00m  \u001b[38;5;66;03m# type: ignore[assignment]\u001b[39;00m\n",
       "\n",
       "        \u001b[38;5;28;01mreturn\u001b[39;00m replica\n",
       "\n",
       "    \u001b[38;5;28;01mdef\u001b[39;00m compile(self, *args, **kwargs):\n",
       "        \u001b[33m\"\"\"\u001b[39m\n",
       "\u001b[33m        Compile this Module's forward using :func:`torch.compile`.\u001b[39m\n",
       "\n",
       "\u001b[33m        This Module's `__call__` method is compiled and all arguments are passed as-is\u001b[39m\n",
       "\u001b[33m        to :func:`torch.compile`.\u001b[39m\n",
       "\n",
       "\u001b[33m        See :func:`torch.compile` for details on the arguments for this function.\u001b[39m\n",
       "\u001b[33m        \"\"\"\u001b[39m\n",
       "        self._compiled_call_impl = torch.compile(self._call_impl, *args, **kwargs)\n",
       "\u001b[31mFile:\u001b[39m           c:\\users\\philippe\\.conda\\envs\\nyu-dl\\lib\\site-packages\\torch\\nn\\modules\\module.py\n",
       "\u001b[31mType:\u001b[39m           type\n",
       "\u001b[31mSubclasses:\u001b[39m     Identity, Linear, Bilinear, Threshold, ReLU, RReLU, Hardtanh, Sigmoid, Hardsigmoid, Tanh, ..."
      ]
     },
     "metadata": {},
     "output_type": "display_data"
    }
   ],
   "source": [
    "torch.nn.Module??"
   ]
  },
  {
   "cell_type": "markdown",
   "metadata": {},
   "source": [
    "## Dropping to Bash: magic!"
   ]
  },
  {
   "cell_type": "code",
   "execution_count": 8,
   "metadata": {
    "scrolled": true
   },
   "outputs": [
    {
     "name": "stdout",
     "output_type": "stream",
     "text": [
      " Le volume dans le lecteur C s’appelle Windows\n",
      " Le numéro de série du volume est DCC0-C345\n",
      "\n",
      " Répertoire de C:\\Users\\philippe\\NYU-DLSP20\n",
      "\n"
     ]
    },
    {
     "name": "stderr",
     "output_type": "stream",
     "text": [
      "Fichier introuvable\n"
     ]
    }
   ],
   "source": [
    "# List all the files in the current directory\n",
    "!dir -lh"
   ]
  },
  {
   "cell_type": "code",
   "execution_count": 1,
   "metadata": {},
   "outputs": [
    {
     "name": "stdout",
     "output_type": "stream",
     "text": [
      "Couldn't find program: 'bash'\n"
     ]
    }
   ],
   "source": [
    "%%bash\n",
    "# List all the files but with cleaner outputs for readability\n",
    "for f in $(ls *.*); do\n",
    "    echo $(wc -l $f)\n",
    "done"
   ]
  },
  {
   "cell_type": "code",
   "execution_count": null,
   "metadata": {},
   "outputs": [],
   "source": [
    "# Getting some general help\n",
    "%magic"
   ]
  },
  {
   "cell_type": "markdown",
   "metadata": {},
   "source": [
    "## Python native data types\n",
    "\n",
    "Python has many native datatypes. Here are the important ones:\n",
    "\n",
    " - **Booleans** are either `True` or `False`.\n",
    " - **Numbers** can be integers (1 and 2), floats (1.1 and 1.2), fractions (1/2 and 2/3), or even complex numbers.\n",
    " - **Strings** are sequences of Unicode characters, e.g. an html document.\n",
    " - **Lists** are ordered sequences of values.\n",
    " - **Tuples** are ordered, immutable sequences of values.\n",
    " - **Sets** are unordered bags of values.\n",
    " - **Dictionaries** are unordered bags of key-value pairs.\n",
    " \n",
    "See [here](http://www.diveintopython3.net/native-datatypes.html) for a complete overview.\n",
    "\n",
    "### More resources\n",
    "\n",
    " 1. Brief Python introduction [here](https://learnxinyminutes.com/docs/python3/).\n",
    " 2. Full Python tutorial [here](https://docs.python.org/3/tutorial/).\n",
    " 3. A Whirlwind Tour of Python [here](https://github.com/jakevdp/WhirlwindTourOfPython).\n",
    " 4. Python Data Science Handbook [here](https://github.com/jakevdp/PythonDataScienceHandbook)."
   ]
  },
  {
   "cell_type": "markdown",
   "metadata": {},
   "source": [
    "## Torch!"
   ]
  },
  {
   "cell_type": "code",
   "execution_count": 17,
   "metadata": {},
   "outputs": [
    {
     "data": {
      "text/plain": [
       "torch.Tensor"
      ]
     },
     "execution_count": 17,
     "metadata": {},
     "output_type": "execute_result"
    }
   ],
   "source": [
    "# Generate a tensor of size 2x3x4\n",
    "t = torch.Tensor(2, 3, 4)\n",
    "type(t)"
   ]
  },
  {
   "cell_type": "code",
   "execution_count": 18,
   "metadata": {},
   "outputs": [
    {
     "data": {
      "text/plain": [
       "torch.Size([2, 3, 4])"
      ]
     },
     "execution_count": 18,
     "metadata": {},
     "output_type": "execute_result"
    }
   ],
   "source": [
    "# Get the size of the tensor\n",
    "t.size()"
   ]
  },
  {
   "cell_type": "code",
   "execution_count": 19,
   "metadata": {},
   "outputs": [
    {
     "name": "stdout",
     "output_type": "stream",
     "text": [
      "t size: 2 × 3 × 4\n"
     ]
    }
   ],
   "source": [
    "# t.size() is a classic tuple =>\n",
    "print('t size:', ' \\u00D7 '.join(map(str, t.size())))"
   ]
  },
  {
   "cell_type": "code",
   "execution_count": 20,
   "metadata": {},
   "outputs": [
    {
     "name": "stdout",
     "output_type": "stream",
     "text": [
      "point in a 24 dimensional space\n",
      "organised in 3 sub-dimensions\n"
     ]
    }
   ],
   "source": [
    "# prints dimensional space and sub-dimensions\n",
    "print(f'point in a {t.numel()} dimensional space')\n",
    "print(f'organised in {t.dim()} sub-dimensions')"
   ]
  },
  {
   "cell_type": "code",
   "execution_count": 21,
   "metadata": {},
   "outputs": [
    {
     "data": {
      "text/plain": [
       "tensor([[[-3.1034e-25,  1.9730e-42,  0.0000e+00,  0.0000e+00],\n",
       "         [ 0.0000e+00,  0.0000e+00,  0.0000e+00,  0.0000e+00],\n",
       "         [ 0.0000e+00,  0.0000e+00,  0.0000e+00,  0.0000e+00]],\n",
       "\n",
       "        [[ 0.0000e+00,  0.0000e+00,  0.0000e+00,  0.0000e+00],\n",
       "         [ 0.0000e+00,  0.0000e+00,  0.0000e+00,  0.0000e+00],\n",
       "         [ 0.0000e+00,  0.0000e+00,  0.0000e+00,  0.0000e+00]]])"
      ]
     },
     "execution_count": 21,
     "metadata": {},
     "output_type": "execute_result"
    }
   ],
   "source": [
    "t"
   ]
  },
  {
   "cell_type": "code",
   "execution_count": 22,
   "metadata": {},
   "outputs": [
    {
     "data": {
      "text/plain": [
       "tensor([[[2., 1., 3., 5.],\n",
       "         [9., 3., 1., 3.],\n",
       "         [1., 2., 3., 1.]],\n",
       "\n",
       "        [[7., 2., 2., 0.],\n",
       "         [2., 4., 5., 9.],\n",
       "         [2., 6., 8., 0.]]])"
      ]
     },
     "execution_count": 22,
     "metadata": {},
     "output_type": "execute_result"
    }
   ],
   "source": [
    "# Mind the underscore!\n",
    "# Any operation that mutates a tensor in-place is post-fixed with an _.\n",
    "# For example: x.copy_(y), x.t_(), x.random_(n) will change x.\n",
    "t.random_(10)"
   ]
  },
  {
   "cell_type": "code",
   "execution_count": 23,
   "metadata": {},
   "outputs": [
    {
     "data": {
      "text/plain": [
       "tensor([[[2., 1., 3., 5.],\n",
       "         [9., 3., 1., 3.],\n",
       "         [1., 2., 3., 1.]],\n",
       "\n",
       "        [[7., 2., 2., 0.],\n",
       "         [2., 4., 5., 9.],\n",
       "         [2., 6., 8., 0.]]])"
      ]
     },
     "execution_count": 23,
     "metadata": {},
     "output_type": "execute_result"
    }
   ],
   "source": [
    "t"
   ]
  },
  {
   "cell_type": "code",
   "execution_count": 24,
   "metadata": {},
   "outputs": [
    {
     "data": {
      "text/plain": [
       "tensor([[2., 1., 3., 5., 9., 3., 1., 3.],\n",
       "        [1., 2., 3., 1., 7., 2., 2., 0.],\n",
       "        [2., 4., 5., 9., 2., 6., 8., 0.]])"
      ]
     },
     "execution_count": 24,
     "metadata": {},
     "output_type": "execute_result"
    }
   ],
   "source": [
    "# This resizes the tensor permanently \n",
    "r = torch.Tensor(t)\n",
    "r.resize_(3, 8)\n",
    "r"
   ]
  },
  {
   "cell_type": "code",
   "execution_count": 25,
   "metadata": {},
   "outputs": [
    {
     "data": {
      "text/plain": [
       "tensor([[0., 0., 0., 0., 0., 0., 0., 0.],\n",
       "        [0., 0., 0., 0., 0., 0., 0., 0.],\n",
       "        [0., 0., 0., 0., 0., 0., 0., 0.]])"
      ]
     },
     "execution_count": 25,
     "metadata": {},
     "output_type": "execute_result"
    }
   ],
   "source": [
    "# As you can see zero_ would replace r with 0's which was originally filled with integers\n",
    "r.zero_()"
   ]
  },
  {
   "cell_type": "code",
   "execution_count": 26,
   "metadata": {},
   "outputs": [
    {
     "data": {
      "text/plain": [
       "tensor([[[0., 0., 0., 0.],\n",
       "         [0., 0., 0., 0.],\n",
       "         [0., 0., 0., 0.]],\n",
       "\n",
       "        [[0., 0., 0., 0.],\n",
       "         [0., 0., 0., 0.],\n",
       "         [0., 0., 0., 0.]]])"
      ]
     },
     "execution_count": 26,
     "metadata": {},
     "output_type": "execute_result"
    }
   ],
   "source": [
    "t"
   ]
  },
  {
   "cell_type": "code",
   "execution_count": 27,
   "metadata": {},
   "outputs": [],
   "source": [
    "# This *is* important, sigh...\n",
    "s = r.clone()"
   ]
  },
  {
   "cell_type": "code",
   "execution_count": 28,
   "metadata": {},
   "outputs": [
    {
     "data": {
      "text/plain": [
       "tensor([[1., 1., 1., 1., 1., 1., 1., 1.],\n",
       "        [1., 1., 1., 1., 1., 1., 1., 1.],\n",
       "        [1., 1., 1., 1., 1., 1., 1., 1.]])"
      ]
     },
     "execution_count": 28,
     "metadata": {},
     "output_type": "execute_result"
    }
   ],
   "source": [
    "# In-place fill of 1's\n",
    "s.fill_(1)\n",
    "s"
   ]
  },
  {
   "cell_type": "code",
   "execution_count": 29,
   "metadata": {},
   "outputs": [
    {
     "data": {
      "text/plain": [
       "tensor([[0., 0., 0., 0., 0., 0., 0., 0.],\n",
       "        [0., 0., 0., 0., 0., 0., 0., 0.],\n",
       "        [0., 0., 0., 0., 0., 0., 0., 0.]])"
      ]
     },
     "execution_count": 29,
     "metadata": {},
     "output_type": "execute_result"
    }
   ],
   "source": [
    "# Because we cloned r, even though we did an in-place operation, this doesn't affect r\n",
    "r"
   ]
  },
  {
   "cell_type": "markdown",
   "metadata": {},
   "source": [
    "## Vectors (1D Tensors)"
   ]
  },
  {
   "cell_type": "code",
   "execution_count": 30,
   "metadata": {},
   "outputs": [
    {
     "data": {
      "text/plain": [
       "tensor([1., 2., 3., 4.])"
      ]
     },
     "execution_count": 30,
     "metadata": {},
     "output_type": "execute_result"
    }
   ],
   "source": [
    "# Creates a 1D tensor of integers 1 to 4\n",
    "v = torch.Tensor([1, 2, 3, 4])\n",
    "v"
   ]
  },
  {
   "cell_type": "code",
   "execution_count": 31,
   "metadata": {},
   "outputs": [
    {
     "name": "stdout",
     "output_type": "stream",
     "text": [
      "dim: 1, size: 4\n"
     ]
    }
   ],
   "source": [
    "# Print number of dimensions (1D) and size of tensor\n",
    "print(f'dim: {v.dim()}, size: {v.size()[0]}')"
   ]
  },
  {
   "cell_type": "code",
   "execution_count": 32,
   "metadata": {},
   "outputs": [
    {
     "data": {
      "text/plain": [
       "tensor([1., 0., 2., 0.])"
      ]
     },
     "execution_count": 32,
     "metadata": {},
     "output_type": "execute_result"
    }
   ],
   "source": [
    "w = torch.Tensor([1, 0, 2, 0])\n",
    "w"
   ]
  },
  {
   "cell_type": "code",
   "execution_count": 33,
   "metadata": {},
   "outputs": [
    {
     "data": {
      "text/plain": [
       "tensor([1., 0., 6., 0.])"
      ]
     },
     "execution_count": 33,
     "metadata": {},
     "output_type": "execute_result"
    }
   ],
   "source": [
    "# Element-wise multiplication\n",
    "v * w"
   ]
  },
  {
   "cell_type": "code",
   "execution_count": 34,
   "metadata": {},
   "outputs": [
    {
     "data": {
      "text/plain": [
       "tensor(7.)"
      ]
     },
     "execution_count": 34,
     "metadata": {},
     "output_type": "execute_result"
    }
   ],
   "source": [
    "# Scalar product: 1*1 + 2*0 + 3*2 + 4*0\n",
    "v @ w"
   ]
  },
  {
   "cell_type": "code",
   "execution_count": 35,
   "metadata": {},
   "outputs": [
    {
     "data": {
      "text/plain": [
       "tensor([1., 8., 8., 4., 0.])"
      ]
     },
     "execution_count": 35,
     "metadata": {},
     "output_type": "execute_result"
    }
   ],
   "source": [
    "# In-place replacement of random number from 0 to 10\n",
    "x = torch.Tensor(5).random_(10)\n",
    "x"
   ]
  },
  {
   "cell_type": "code",
   "execution_count": 36,
   "metadata": {},
   "outputs": [
    {
     "name": "stdout",
     "output_type": "stream",
     "text": [
      "first: 1.0, last: 0.0\n"
     ]
    }
   ],
   "source": [
    "print(f'first: {x[0]}, last: {x[-1]}')"
   ]
  },
  {
   "cell_type": "code",
   "execution_count": 37,
   "metadata": {},
   "outputs": [
    {
     "data": {
      "text/plain": [
       "tensor([8., 8.])"
      ]
     },
     "execution_count": 37,
     "metadata": {},
     "output_type": "execute_result"
    }
   ],
   "source": [
    "# Extract sub-Tensor [from:to)\n",
    "x[1:2 + 1]"
   ]
  },
  {
   "cell_type": "code",
   "execution_count": 38,
   "metadata": {},
   "outputs": [
    {
     "data": {
      "text/plain": [
       "tensor([1., 2., 3., 4.])"
      ]
     },
     "execution_count": 38,
     "metadata": {},
     "output_type": "execute_result"
    }
   ],
   "source": [
    "v"
   ]
  },
  {
   "cell_type": "code",
   "execution_count": 39,
   "metadata": {},
   "outputs": [
    {
     "data": {
      "text/plain": [
       "tensor([1, 2, 3, 4])"
      ]
     },
     "execution_count": 39,
     "metadata": {},
     "output_type": "execute_result"
    }
   ],
   "source": [
    "# Create a tensor with integers ranging from 1 to 5, excluding 5\n",
    "v = torch.arange(1, 4 + 1)\n",
    "v"
   ]
  },
  {
   "cell_type": "code",
   "execution_count": 40,
   "metadata": {},
   "outputs": [
    {
     "name": "stdout",
     "output_type": "stream",
     "text": [
      "tensor([ 1,  4,  9, 16]) tensor([1, 2, 3, 4])\n"
     ]
    }
   ],
   "source": [
    "# Square all elements in the tensor\n",
    "print(v.pow(2), v)"
   ]
  },
  {
   "cell_type": "markdown",
   "metadata": {},
   "source": [
    "## Matrices (2D Tensors)"
   ]
  },
  {
   "cell_type": "code",
   "execution_count": 41,
   "metadata": {},
   "outputs": [
    {
     "data": {
      "text/plain": [
       "tensor([[2., 5., 3., 7.],\n",
       "        [4., 2., 1., 9.]])"
      ]
     },
     "execution_count": 41,
     "metadata": {},
     "output_type": "execute_result"
    }
   ],
   "source": [
    "# Create a 2x4 tensor\n",
    "m = torch.Tensor([[2, 5, 3, 7],\n",
    "                  [4, 2, 1, 9]])\n",
    "m"
   ]
  },
  {
   "cell_type": "code",
   "execution_count": 42,
   "metadata": {},
   "outputs": [
    {
     "data": {
      "text/plain": [
       "2"
      ]
     },
     "execution_count": 42,
     "metadata": {},
     "output_type": "execute_result"
    }
   ],
   "source": [
    "m.dim()"
   ]
  },
  {
   "cell_type": "code",
   "execution_count": 43,
   "metadata": {},
   "outputs": [
    {
     "name": "stdout",
     "output_type": "stream",
     "text": [
      "2 -- 4 -- torch.Size([2, 4])\n"
     ]
    }
   ],
   "source": [
    "print(m.size(0), m.size(1), m.size(), sep=' -- ')"
   ]
  },
  {
   "cell_type": "code",
   "execution_count": 44,
   "metadata": {},
   "outputs": [
    {
     "data": {
      "text/plain": [
       "8"
      ]
     },
     "execution_count": 44,
     "metadata": {},
     "output_type": "execute_result"
    }
   ],
   "source": [
    "# Returns the total number of elements, hence num-el (number of elements)\n",
    "m.numel()"
   ]
  },
  {
   "cell_type": "code",
   "execution_count": 45,
   "metadata": {},
   "outputs": [
    {
     "data": {
      "text/plain": [
       "tensor(3.)"
      ]
     },
     "execution_count": 45,
     "metadata": {},
     "output_type": "execute_result"
    }
   ],
   "source": [
    "# Indexing row 0, column 2 (0-indexed)\n",
    "m[0][2]"
   ]
  },
  {
   "cell_type": "code",
   "execution_count": 46,
   "metadata": {},
   "outputs": [
    {
     "data": {
      "text/plain": [
       "tensor(3.)"
      ]
     },
     "execution_count": 46,
     "metadata": {},
     "output_type": "execute_result"
    }
   ],
   "source": [
    "# Indexing row 0, column 2 (0-indexed)\n",
    "m[0, 2]"
   ]
  },
  {
   "cell_type": "code",
   "execution_count": 47,
   "metadata": {},
   "outputs": [
    {
     "data": {
      "text/plain": [
       "tensor([5., 2.])"
      ]
     },
     "execution_count": 47,
     "metadata": {},
     "output_type": "execute_result"
    }
   ],
   "source": [
    "# Indexing column 1, all rows (returns size 2)\n",
    "m[:, 1]"
   ]
  },
  {
   "cell_type": "code",
   "execution_count": 48,
   "metadata": {},
   "outputs": [
    {
     "data": {
      "text/plain": [
       "tensor([[5.],\n",
       "        [2.]])"
      ]
     },
     "execution_count": 48,
     "metadata": {},
     "output_type": "execute_result"
    }
   ],
   "source": [
    "# Indexing column 1, all rows (returns size 2x1)\n",
    "m[:, [1]]"
   ]
  },
  {
   "cell_type": "code",
   "execution_count": 49,
   "metadata": {},
   "outputs": [
    {
     "data": {
      "text/plain": [
       "tensor([[2., 5., 3., 7.]])"
      ]
     },
     "execution_count": 49,
     "metadata": {},
     "output_type": "execute_result"
    }
   ],
   "source": [
    "# Indexes row 0, all columns (returns 1x4)\n",
    "m[[0], :]"
   ]
  },
  {
   "cell_type": "code",
   "execution_count": 50,
   "metadata": {},
   "outputs": [
    {
     "data": {
      "text/plain": [
       "tensor([2., 5., 3., 7.])"
      ]
     },
     "execution_count": 50,
     "metadata": {},
     "output_type": "execute_result"
    }
   ],
   "source": [
    "# Indexes row 0, all columns (returns size 4)\n",
    "m[0, :]"
   ]
  },
  {
   "cell_type": "code",
   "execution_count": 51,
   "metadata": {},
   "outputs": [
    {
     "data": {
      "text/plain": [
       "tensor([1., 2., 3., 4.])"
      ]
     },
     "execution_count": 51,
     "metadata": {},
     "output_type": "execute_result"
    }
   ],
   "source": [
    "# Create tensor of numbers from 1 to 5 (excluding 5)\n",
    "v = torch.arange(1., 4 + 1)\n",
    "v"
   ]
  },
  {
   "cell_type": "code",
   "execution_count": 52,
   "metadata": {},
   "outputs": [
    {
     "data": {
      "text/plain": [
       "tensor([[2., 5., 3., 7.],\n",
       "        [4., 2., 1., 9.]])"
      ]
     },
     "execution_count": 52,
     "metadata": {},
     "output_type": "execute_result"
    }
   ],
   "source": [
    "m"
   ]
  },
  {
   "cell_type": "code",
   "execution_count": 53,
   "metadata": {},
   "outputs": [
    {
     "data": {
      "text/plain": [
       "tensor([49., 47.])"
      ]
     },
     "execution_count": 53,
     "metadata": {},
     "output_type": "execute_result"
    }
   ],
   "source": [
    "# Scalar product\n",
    "m @ v"
   ]
  },
  {
   "cell_type": "code",
   "execution_count": 54,
   "metadata": {},
   "outputs": [
    {
     "data": {
      "text/plain": [
       "tensor([49.])"
      ]
     },
     "execution_count": 54,
     "metadata": {},
     "output_type": "execute_result"
    }
   ],
   "source": [
    "# Calculated by 1*2 + 2*5 + 3*3 + 4*7\n",
    "m[[0], :] @ v"
   ]
  },
  {
   "cell_type": "code",
   "execution_count": 55,
   "metadata": {},
   "outputs": [
    {
     "data": {
      "text/plain": [
       "tensor([47.])"
      ]
     },
     "execution_count": 55,
     "metadata": {},
     "output_type": "execute_result"
    }
   ],
   "source": [
    "# Calculated by \n",
    "m[[1], :] @ v"
   ]
  },
  {
   "cell_type": "code",
   "execution_count": 56,
   "metadata": {},
   "outputs": [
    {
     "data": {
      "text/plain": [
       "tensor([[2.3491, 5.7346, 3.0574, 7.5426],\n",
       "        [4.9584, 2.9263, 1.8296, 9.6602]])"
      ]
     },
     "execution_count": 56,
     "metadata": {},
     "output_type": "execute_result"
    }
   ],
   "source": [
    "# Add a random tensor of size 2x4 to m\n",
    "m + torch.rand(2, 4)"
   ]
  },
  {
   "cell_type": "code",
   "execution_count": 57,
   "metadata": {},
   "outputs": [
    {
     "data": {
      "text/plain": [
       "tensor([[1.7695, 4.1258, 2.8722, 6.4592],\n",
       "        [3.3371, 1.9942, 0.7839, 8.4851]])"
      ]
     },
     "execution_count": 57,
     "metadata": {},
     "output_type": "execute_result"
    }
   ],
   "source": [
    "# Subtract a random tensor of size 2x4 to m\n",
    "m - torch.rand(2, 4)"
   ]
  },
  {
   "cell_type": "code",
   "execution_count": 58,
   "metadata": {},
   "outputs": [
    {
     "data": {
      "text/plain": [
       "tensor([[1.4725, 4.1504, 0.4045, 2.2180],\n",
       "        [2.2619, 0.1198, 0.6409, 0.4191]])"
      ]
     },
     "execution_count": 58,
     "metadata": {},
     "output_type": "execute_result"
    }
   ],
   "source": [
    "# Multiply a random tensor of size 2x4 to m\n",
    "m * torch.rand(2, 4)"
   ]
  },
  {
   "cell_type": "code",
   "execution_count": 59,
   "metadata": {},
   "outputs": [
    {
     "data": {
      "text/plain": [
       "tensor([[ 26.6596,   5.7720,   6.3961,  49.8958],\n",
       "        [168.8363,   2.1229,   2.0025,  10.4275]])"
      ]
     },
     "execution_count": 59,
     "metadata": {},
     "output_type": "execute_result"
    }
   ],
   "source": [
    "# Divide m by a random tensor of size 2x4\n",
    "m / torch.rand(2, 4)"
   ]
  },
  {
   "cell_type": "code",
   "execution_count": 60,
   "metadata": {},
   "outputs": [
    {
     "data": {
      "text/plain": [
       "torch.Size([2, 4])"
      ]
     },
     "execution_count": 60,
     "metadata": {},
     "output_type": "execute_result"
    }
   ],
   "source": [
    "m.size()"
   ]
  },
  {
   "cell_type": "code",
   "execution_count": 61,
   "metadata": {},
   "outputs": [
    {
     "data": {
      "text/plain": [
       "tensor([[2., 4.],\n",
       "        [5., 2.],\n",
       "        [3., 1.],\n",
       "        [7., 9.]])"
      ]
     },
     "execution_count": 61,
     "metadata": {},
     "output_type": "execute_result"
    }
   ],
   "source": [
    "# Transpose tensor m, which is essentially 2x4 to 4x2\n",
    "m.t()"
   ]
  },
  {
   "cell_type": "code",
   "execution_count": 62,
   "metadata": {},
   "outputs": [
    {
     "data": {
      "text/plain": [
       "tensor([[2., 4.],\n",
       "        [5., 2.],\n",
       "        [3., 1.],\n",
       "        [7., 9.]])"
      ]
     },
     "execution_count": 62,
     "metadata": {},
     "output_type": "execute_result"
    }
   ],
   "source": [
    "# Same as\n",
    "m.transpose(0, 1)"
   ]
  },
  {
   "cell_type": "markdown",
   "metadata": {},
   "source": [
    "## Constructors"
   ]
  },
  {
   "cell_type": "code",
   "execution_count": 63,
   "metadata": {},
   "outputs": [
    {
     "data": {
      "text/plain": [
       "tensor([3., 4., 5., 6., 7., 8.])"
      ]
     },
     "execution_count": 63,
     "metadata": {},
     "output_type": "execute_result"
    }
   ],
   "source": [
    "# Create tensor from 3 to 8, with each having a space of 1\n",
    "torch.arange(3., 8 + 1)"
   ]
  },
  {
   "cell_type": "code",
   "execution_count": 64,
   "metadata": {},
   "outputs": [
    {
     "data": {
      "text/plain": [
       "tensor([ 5.7000,  2.7000, -0.3000])"
      ]
     },
     "execution_count": 64,
     "metadata": {},
     "output_type": "execute_result"
    }
   ],
   "source": [
    "# Create tensor from 5.7 to -2.1 with each having a space of -3\n",
    "torch.arange(5.7, -2.1, -3)"
   ]
  },
  {
   "cell_type": "code",
   "execution_count": 67,
   "metadata": {},
   "outputs": [
    {
     "data": {
      "text/plain": [
       "tensor([3.0000, 3.2632, 3.5263, 3.7895, 4.0526, 4.3158, 4.5789, 4.8421, 5.1053,\n",
       "        5.3684, 5.6316, 5.8947, 6.1579, 6.4211, 6.6842, 6.9474, 7.2105, 7.4737,\n",
       "        7.7368, 8.0000])"
      ]
     },
     "execution_count": 67,
     "metadata": {},
     "output_type": "execute_result"
    }
   ],
   "source": [
    "torch.linspace(3, 8, 20)\n"
   ]
  },
  {
   "cell_type": "code",
   "execution_count": 68,
   "metadata": {},
   "outputs": [
    {
     "data": {
      "text/plain": [
       "tensor([[3.0000, 3.2632, 3.5263, 3.7895, 4.0526, 4.3158, 4.5789, 4.8421, 5.1053,\n",
       "         5.3684, 5.6316, 5.8947, 6.1579, 6.4211, 6.6842, 6.9474, 7.2105, 7.4737,\n",
       "         7.7368, 8.0000]])"
      ]
     },
     "execution_count": 68,
     "metadata": {},
     "output_type": "execute_result"
    }
   ],
   "source": [
    "# returns a 1D tensor of steps equally spaced points between start=3, end=8 and steps=20\n",
    "torch.linspace(3, 8, 20).view(1, -1)"
   ]
  },
  {
   "cell_type": "code",
   "execution_count": 69,
   "metadata": {},
   "outputs": [
    {
     "data": {
      "text/plain": [
       "tensor([[0., 0., 0., 0., 0.],\n",
       "        [0., 0., 0., 0., 0.],\n",
       "        [0., 0., 0., 0., 0.]])"
      ]
     },
     "execution_count": 69,
     "metadata": {},
     "output_type": "execute_result"
    }
   ],
   "source": [
    "# Create a tensor filled with 0's\n",
    "torch.zeros(3, 5)"
   ]
  },
  {
   "cell_type": "code",
   "execution_count": 70,
   "metadata": {},
   "outputs": [
    {
     "data": {
      "text/plain": [
       "tensor([[[1., 1., 1., 1., 1.],\n",
       "         [1., 1., 1., 1., 1.]],\n",
       "\n",
       "        [[1., 1., 1., 1., 1.],\n",
       "         [1., 1., 1., 1., 1.]],\n",
       "\n",
       "        [[1., 1., 1., 1., 1.],\n",
       "         [1., 1., 1., 1., 1.]]])"
      ]
     },
     "execution_count": 70,
     "metadata": {},
     "output_type": "execute_result"
    }
   ],
   "source": [
    "# Create a tensor filled with 1's\n",
    "torch.ones(3, 2, 5)"
   ]
  },
  {
   "cell_type": "code",
   "execution_count": 71,
   "metadata": {},
   "outputs": [
    {
     "data": {
      "text/plain": [
       "tensor([[1., 0., 0.],\n",
       "        [0., 1., 0.],\n",
       "        [0., 0., 1.]])"
      ]
     },
     "execution_count": 71,
     "metadata": {},
     "output_type": "execute_result"
    }
   ],
   "source": [
    "# Create a tensor with the diagonal filled with 1\n",
    "torch.eye(3)"
   ]
  },
  {
   "cell_type": "code",
   "execution_count": 72,
   "metadata": {},
   "outputs": [],
   "source": [
    "# Set default plots\n",
    "from res.plot_lib import set_default\n",
    "from matplotlib import pyplot as plt\n",
    "set_default()"
   ]
  },
  {
   "cell_type": "code",
   "execution_count": 73,
   "metadata": {},
   "outputs": [
    {
     "data": {
      "image/png": "[encoded data removed]",
      "text/plain": [
       "<Figure size 1000x1000 with 1 Axes>"
      ]
     },
     "metadata": {},
     "output_type": "display_data"
    }
   ],
   "source": [
    "# Numpy bridge!\n",
    "plt.hist(torch.randn(1000).numpy(), 100);"
   ]
  },
  {
   "cell_type": "code",
   "execution_count": 74,
   "metadata": {},
   "outputs": [
    {
     "data": {
      "image/png": "[encoded data removed]",
      "text/plain": [
       "<Figure size 1000x1000 with 1 Axes>"
      ]
     },
     "metadata": {},
     "output_type": "display_data"
    }
   ],
   "source": [
    "plt.hist(torch.randn(10**6).numpy(), 100);  # how much does this chart weight?\n",
    "# use rasterized=True for SVG/EPS/PDF!"
   ]
  },
  {
   "cell_type": "code",
   "execution_count": 75,
   "metadata": {},
   "outputs": [
    {
     "data": {
      "image/png": "[encoded data removed]",
      "text/plain": [
       "<Figure size 1000x1000 with 1 Axes>"
      ]
     },
     "metadata": {},
     "output_type": "display_data"
    }
   ],
   "source": [
    "plt.hist(torch.rand(10**6).numpy(), 100);"
   ]
  },
  {
   "cell_type": "markdown",
   "metadata": {},
   "source": [
    "## Using the power of GPUs\n",
    "\n",
    "One of PyTorch’s greatest strengths is its ability to leverage GPUs for accelerated computations. However, **by default, PyTorch runs on the CPU**, so we need to explicitly move tensors to the GPU for optimal performance.\n",
    "\n",
    "> PyTorch supports CUDA for NVIDIA GPUs and MPS (Metal Performance Shaders) for Apple Silicon Macs, enabling much faster tensor operations compared to CPUs.\n",
    "\n",
    "**Important Note**: To perform operations between tensors, they must be on the same device (CPU, CUDA, or MPS). Mixing tensors from different devices will result in an error."
   ]
  },
  {
   "cell_type": "code",
   "execution_count": 76,
   "metadata": {},
   "outputs": [
    {
     "name": "stdout",
     "output_type": "stream",
     "text": [
      "Device:  cpu\n"
     ]
    }
   ],
   "source": [
    "# Checking for available device (CPU, GPU, MPS)\n",
    "device = \"cuda\" if torch.cuda.is_available() else \"mps\" if torch.backends.mps.is_available() else \"cpu\"\n",
    "print(\"Device: \", device)"
   ]
  },
  {
   "cell_type": "code",
   "execution_count": 77,
   "metadata": {},
   "outputs": [
    {
     "name": "stdout",
     "output_type": "stream",
     "text": [
      "Tensor on cpu:\n",
      " tensor([[[1., 1., 1., 1., 1.],\n",
      "         [1., 1., 1., 1., 1.],\n",
      "         [1., 1., 1., 1., 1.]],\n",
      "\n",
      "        [[1., 1., 1., 1., 1.],\n",
      "         [1., 1., 1., 1., 1.],\n",
      "         [1., 1., 1., 1., 1.]]])\n"
     ]
    }
   ],
   "source": [
    "# Create a tensor on the CPU (default)\n",
    "z = torch.ones(2, 3, 5)\n",
    "\n",
    "# Move tensor to the device\n",
    "z_1 = z.to(device) # Remember: when moving tensors to a device, you have to reassign them!\n",
    "print(f\"Tensor on {device}:\\n\", z_1)"
   ]
  },
  {
   "cell_type": "markdown",
   "metadata": {},
   "source": [
    "### Multiple GPUs?"
   ]
  },
  {
   "cell_type": "code",
   "execution_count": 47,
   "metadata": {},
   "outputs": [
    {
     "name": "stdout",
     "output_type": "stream",
     "text": [
      "Tensor on cpu:\n",
      " tensor([[[1., 1., 1., 1., 1.],\n",
      "         [1., 1., 1., 1., 1.],\n",
      "         [1., 1., 1., 1., 1.]],\n",
      "\n",
      "        [[1., 1., 1., 1., 1.],\n",
      "         [1., 1., 1., 1., 1.],\n",
      "         [1., 1., 1., 1., 1.]]])\n"
     ]
    }
   ],
   "source": [
    "# Multiple GPUs? You can specify which one to use:\n",
    "# e.g., move your tensor to GPU device 0 (first GPU in the system) if there is one\n",
    "device = torch.device(\"cuda:0\" if torch.cuda.is_available() else \"cpu\")\n",
    "z_2 = z.to(device)\n",
    "print(f\"Tensor on {device}:\\n\", z_2)"
   ]
  },
  {
   "cell_type": "code",
   "execution_count": 48,
   "metadata": {},
   "outputs": [
    {
     "data": {
      "text/plain": [
       "[]"
      ]
     },
     "execution_count": 48,
     "metadata": {},
     "output_type": "execute_result"
    }
   ],
   "source": [
    "# Not sure which of your GPUs is the first one for PyTorch?\n",
    "gpus = []\n",
    "\n",
    "# List the available GPUs in order\n",
    "if torch.cuda.is_available():\n",
    "    gpus = [torch.cuda.get_device_name(i) for i in range(torch.cuda.device_count())]\n",
    "\n",
    "gpus"
   ]
  },
  {
   "cell_type": "markdown",
   "metadata": {},
   "source": [
    "## Casting"
   ]
  },
  {
   "cell_type": "code",
   "execution_count": 49,
   "metadata": {},
   "outputs": [
    {
     "data": {
      "text/plain": [
       "torch.BFloat16Tensor\n",
       "torch.BoolTensor\n",
       "torch.ByteTensor\n",
       "torch.CharTensor\n",
       "torch.DoubleTensor\n",
       "torch.FloatTensor\n",
       "torch.HalfTensor\n",
       "torch.IntTensor\n",
       "torch.LongTensor\n",
       "torch.ShortTensor\n",
       "torch.Tensor"
      ]
     },
     "metadata": {},
     "output_type": "display_data"
    }
   ],
   "source": [
    "# Helper to get what kind of tensor types\n",
    "torch.*Tensor?"
   ]
  },
  {
   "cell_type": "code",
   "execution_count": 50,
   "metadata": {},
   "outputs": [
    {
     "ename": "NameError",
     "evalue": "name 'm' is not defined",
     "output_type": "error",
     "traceback": [
      "\u001b[31m---------------------------------------------------------------------------\u001b[39m",
      "\u001b[31mNameError\u001b[39m                                 Traceback (most recent call last)",
      "\u001b[36mCell\u001b[39m\u001b[36m \u001b[39m\u001b[32mIn[50]\u001b[39m\u001b[32m, line 1\u001b[39m\n\u001b[32m----> \u001b[39m\u001b[32m1\u001b[39m \u001b[43mm\u001b[49m\n",
      "\u001b[31mNameError\u001b[39m: name 'm' is not defined"
     ]
    }
   ],
   "source": [
    "m"
   ]
  },
  {
   "cell_type": "code",
   "execution_count": null,
   "metadata": {},
   "outputs": [],
   "source": [
    "# This is basically a 64 bit float tensor\n",
    "m_double = m.double()\n",
    "m_double"
   ]
  },
  {
   "cell_type": "code",
   "execution_count": null,
   "metadata": {},
   "outputs": [],
   "source": [
    "# This creates a tensor of type int8\n",
    "m_byte = m.byte()\n",
    "m_byte"
   ]
  },
  {
   "cell_type": "code",
   "execution_count": null,
   "metadata": {},
   "outputs": [],
   "source": [
    "# Move your tensor to GPU device 0 if there is one (first GPU in the system)\n",
    "device = torch.device(\"cuda:0\" if torch.cuda.is_available() else \"cpu\")\n",
    "m.to(device)"
   ]
  },
  {
   "cell_type": "code",
   "execution_count": null,
   "metadata": {},
   "outputs": [],
   "source": [
    "# Converts tensor to numpy array\n",
    "m_np = m.numpy()\n",
    "m_np"
   ]
  },
  {
   "cell_type": "code",
   "execution_count": null,
   "metadata": {},
   "outputs": [],
   "source": [
    "# In-place fill of column 0 and row 0 with value -1\n",
    "m_np[0, 0] = -1\n",
    "m_np"
   ]
  },
  {
   "cell_type": "code",
   "execution_count": null,
   "metadata": {},
   "outputs": [],
   "source": [
    "m"
   ]
  },
  {
   "cell_type": "code",
   "execution_count": null,
   "metadata": {},
   "outputs": [],
   "source": [
    "# Create a tensor of integers ranging from 0 to 4\n",
    "import numpy as np\n",
    "n_np = np.arange(5)\n",
    "n = torch.from_numpy(n_np)\n",
    "print(n_np, n)"
   ]
  },
  {
   "cell_type": "code",
   "execution_count": null,
   "metadata": {},
   "outputs": [],
   "source": [
    "# In-place multiplication of all elements by 2 for tensor n\n",
    "# Because n is essentially n_np, not a clone, this affects n_np\n",
    "n.mul_(2)\n",
    "n_np"
   ]
  },
  {
   "cell_type": "code",
   "execution_count": null,
   "metadata": {},
   "outputs": [],
   "source": []
  },
  {
   "cell_type": "markdown",
   "metadata": {},
   "source": [
    "## More fun"
   ]
  },
  {
   "cell_type": "code",
   "execution_count": null,
   "metadata": {},
   "outputs": [],
   "source": [
    "# Creates two tensors of size 1x4\n",
    "a = torch.Tensor([[1, 2, 3, 4]])\n",
    "b = torch.Tensor([[5, 6, 7, 8]])\n",
    "print(a.size(), b)"
   ]
  },
  {
   "cell_type": "code",
   "execution_count": null,
   "metadata": {},
   "outputs": [],
   "source": [
    "# Concatenate on axis 0, so you get 2x4\n",
    "torch.cat((a, b), 0)"
   ]
  },
  {
   "cell_type": "code",
   "execution_count": null,
   "metadata": {},
   "outputs": [],
   "source": [
    "# Concatenate on axis 1, so you get 1x8\n",
    "torch.cat((a, b), 1)"
   ]
  },
  {
   "cell_type": "markdown",
   "metadata": {},
   "source": [
    "## Much more\n",
    "\n",
    "There's definitely much more, but this was the basics about `Tensor`s fun.\n",
    "\n",
    "*Torch* full API should be read at least once.\n",
    "Hence, go [here](https://pytorch.org/docs/stable/index.html).\n",
    "You'll find 100+ `Tensor` operations, including transposing, indexing, slicing, mathematical operations, linear algebra, random numbers, etc are described."
   ]
  }
 ],
 "metadata": {
  "kernelspec": {
   "display_name": "Python 3 (ipykernel)",
   "language": "python",
   "name": "python3"
  },
  "language_info": {
   "codemirror_mode": {
    "name": "ipython",
    "version": 3
   },
   "file_extension": ".py",
   "mimetype": "text/x-python",
   "name": "python",
   "nbconvert_exporter": "python",
   "pygments_lexer": "ipython3",
   "version": "3.13.5"
  }
 },
 "nbformat": 4,
 "nbformat_minor": 4
}
